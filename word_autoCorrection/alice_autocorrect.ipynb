{
 "cells": [
  {
   "cell_type": "markdown",
   "metadata": {},
   "source": [
    "## Alice's Adventures in <b style='color:green'>Word</b>land \n",
    "![my_image](./aliceimage.png)"
   ]
  },
  {
   "cell_type": "markdown",
   "metadata": {},
   "source": [
    "### <b style='color:purple'> – Part1 – </b>\n",
    "\n",
    "Alice likes playing a word game. When she is given a word, she will make a suggestion that she thinks it's closest word from her vocabulary. Her vocabulary is limited to words from story of _\"Alice's Adventures in Wonderland\"_. \n",
    "\n",
    "When she knows the given word, she will give the same word as suggestion. On the other hand, if she doesn't know, she will find the \"closest word\" based on the following steps;\n",
    "    \n",
    "1) ignore any punctuations such as comma(,), period(.), colon(:), exclamation point(!), etc. <br>\n",
    "2) consider 'A' and 'a' as same character; not sensitive to case <br>\n",
    "3) among words the lengh of them are +/- 1 letter away from given word <br>\n",
    "4) a one that has biggiest number of matching letter <br>\n",
    "5) if there are two or more words that has same number of matching letters, pick a one that has more occurence in the story <br>\n",
    "             \n",
    "          [ for example ]\n",
    "            Let's say she is given a word \"cha\" for a word suggestion. \n",
    "            In her vocabulary, 2~4 letters long words are, for example, act, been, chai, chip, hhhh, and map.\n",
    "              \n",
    "            If we compare \"cha\" to \"act\", 'c' and 'a' from \"cha\" exist in \"act\".\n",
    "            Therefore:\n",
    "                        cha(2) --> act\n",
    "                        cha(0) --> been\n",
    "                        cha(3) --> chai\n",
    "                        cha(2) --> chip\n",
    "                        cha(1) --> hhhh\n",
    "                        cha(1) --> map\n",
    "                            ↳ Numbers in parenthesis means the number of matching letters.\n",
    "                               In words, one letter in \"cha\" is in \"map\", for example.\n",
    "\n",
    "* Note that __Alice is checking whether each letter in a given word can be found in Alice's vocab words__. This reduces the chance of the getting not-so-ideal suggestion from Alice. If we were counting the number of matching letter in Alice's word to the given word, in reverse, the number of matching letters of \"hhhh\" in Alice's vocabulary is 4 instead of 1 since four letters in \"hhhh\" exist in the given word \"cha\"\n",
    "   \n",
    "                        act(2)  --> cha\n",
    "                        been(0) --> cha\n",
    "                        chai(3) --> cha\n",
    "                        chip(2) --> cha\n",
    "                        hhhh(4) --> cha\n",
    "                        map(1)  --> cha          "
   ]
  },
  {
   "cell_type": "markdown",
   "metadata": {},
   "source": [
    "![my_image](./cat.png)\n",
    "\n",
    "How do you think about the last two steps from her approaches of finding the closest-word? Should a one get precedence for the other?\n",
    "\n",
    "What would you like to get as a suggested word between \"that\" or \"the\" when you give her \"tha\". Following the current step, Alice will give you \"that\" since there are 3 matching letters compared to 2 matching letters in \"the\". However, one might argue that \"the\" would be the better suggestion since we use it more often in sentences. On the other hand, the other might say it's possible that \"tha\" is on the way to completing the full word \"that\" like we prematually pressed the enter on keyboard before finish typing. \n",
    "\n",
    "Let's say a word \"bel\" is given to Alice. In her vocabulary, limited to this example, words in length of range 2 to 4 are like below. The number of matching letter and word frequency in the vocabulary is listed repectively {# of matching letter, frequency}. Please note, as it was discussed above, we are counting the number of matching letters in the given word comapred to the Alice's vocabulary words.\n",
    "\n",
    "                        bel --> be   {2, 1042}\n",
    "                        bel --> been {2, 355}\n",
    "                        bel --> eel  {2, 8}\n",
    "                        bel --> bell {3, 109}\n",
    "                        bel --> belt {3, 76}\n",
    "\n",
    "If Alice were giving precedence to most occuring word to be the closest-word, \"be\" will get picked although there are other two words that has more matching letters which seems better suggestion. In fact, \"be\" is second most frequently appearing word in written english according to an analysis of the Oxford English Corpus(https://en.wikipedia.org/wiki/Most_common_words_in_English). Therefore, Alice will give us \"the\", \"be\", \"to\", etc. as a word suggestion for any given words look similar to them. This will limit her word suggestion pool to those most occuring ones in written english as long as it's in her vocabulary. \n",
    "\n",
    "For this reason, __Alice will consider word frequency only when there are multiple words in her vocabulrary that has same number of matching letters to the given word__. "
   ]
  },
  {
   "cell_type": "markdown",
   "metadata": {},
   "source": [
    "![my_image](./rabbitclock.png)\n",
    "\n",
    "_Another thing about her current approach is it's not sensitive to the order of letters. As a result, she will think \"each\" is a good suggestion for a given word \"cha\" rather than \"chai\" or \"chat\" if \"each\" appears more frequent than other two. For now, we will implement something that give decent suggeustion._\n",
    "\n",
    "<br>\n",
    "_This project similar to word auto-correction but assuming that the english words in this world is limited to those word from the story._\n",
    "<br>\n",
    "<br>\n",
    "\n",
    "text file source: https://archive.org/stream/alicesadventures19033gut/19033.txt <br>\n",
    "image source: https://blog.whsmith.co.uk/alices-adventures-in-wonderland-free-colouring-downloads/"
   ]
  },
  {
   "cell_type": "markdown",
   "metadata": {},
   "source": [
    "### Let's first construct Alice's vocabulary from Alice's Adventures in Wonderland story."
   ]
  },
  {
   "cell_type": "code",
   "execution_count": 5,
   "metadata": {
    "collapsed": true
   },
   "outputs": [],
   "source": [
    "def story_to_sentences(text_file):\n",
    "    \"\"\"\n",
    "    Takes a text file(whole story) and put each sentence to a list in lower case \n",
    "    without punctuations nor special characters.\n",
    "    \n",
    "    INPUT : text file\n",
    "    OUTPUT: a list, ['sentence', 'sentence', 'sentence', ...]\n",
    "    \"\"\"\n",
    "    import re\n",
    "\n",
    "    ## Opening the text file\n",
    "    with open(text_file) as alice_story:  \n",
    "        \n",
    "        ## [List] create one big list that each item are single sentence\n",
    "        ## each item in list is separated by \\n but doesn't contain \\n as part of string\n",
    "        story_lines = alice_story.read().splitlines() ## length: 3736\n",
    "        \n",
    "        ## [List] put each sentence into another one new big list \n",
    "        ## each sentence is converted to lowercase and all special characters are removed\n",
    "        cleaned_lines = []                            ## length: 3736\n",
    "        for sentence in story_lines:\n",
    "            ## keeping whitespaces between words in each sentence\n",
    "            cleaned_lines.append(re.sub('[^A-Za-z0-9 ]+', '', sentence).lower()) \n",
    "            \n",
    "    return cleaned_lines"
   ]
  },
  {
   "cell_type": "markdown",
   "metadata": {},
   "source": [
    "After running the story_to_sentences function, a text file partially looks like this at story_lines level.\n",
    "\n",
    "![my_image](./story_lines.png)\n",
    "\n",
    "and at cleaned_lines level, it looks like below.\n",
    "\n",
    "![my_image](./cleaned_lines.png)"
   ]
  },
  {
   "cell_type": "code",
   "execution_count": 6,
   "metadata": {
    "collapsed": false
   },
   "outputs": [],
   "source": [
    "def list_to_dict(sentences_lst):\n",
    "    \"\"\"\n",
    "    Takes a list of sentences and goes through every words in each sentence.\n",
    "    Creates a dictionary which takes word as the key and word length and frequency in story as a value.\n",
    "    \n",
    "    INPUT : text file\n",
    "    OUTPUT: a dictionary, {'word' : [length of word, occurrence], ... }\n",
    "    \"\"\"\n",
    "    ## {Dictionary} split into single word and put it in a dictionary\n",
    "    words_dict = {}                               # length: 3254\n",
    "    for sentence in sentences_lst:\n",
    "        ## [List] \"words\" is a list with words from one sentence, there will be 3736 lists\n",
    "        words = sentence.split(\" \")  \n",
    "        for w in words:\n",
    "            if w in words_dict: \n",
    "                ## when already exists in words_dict, just increment the freq\n",
    "                words_dict[w][1] += 1\n",
    "            else:               \n",
    "                ## add a new entry in words_dict with word length and freq info\n",
    "                words_dict[w] = [len(w), 1]\n",
    "\n",
    "    return words_dict\n",
    "    "
   ]
  },
  {
   "cell_type": "code",
   "execution_count": 7,
   "metadata": {
    "collapsed": true
   },
   "outputs": [],
   "source": [
    "sentences = story_to_sentences(\"aliceText.txt\")"
   ]
  },
  {
   "cell_type": "code",
   "execution_count": 8,
   "metadata": {
    "collapsed": false
   },
   "outputs": [],
   "source": [
    "alice_vocab = list_to_dict(sentences)"
   ]
  },
  {
   "cell_type": "markdown",
   "metadata": {},
   "source": [
    "Below is glimpse of how Alice's vocabulary dictionary going to be look like after processing the text file.\n",
    "\n",
    "![my_image](./alicevoca.png)\n",
    "\n",
    "If we were to look up word from Alice's dictionary, a list will be returned. The first element will be useful to determine whether a word is +/-1 long from search word which is step 3 from Alice's approach. The second element is useful for step 5."
   ]
  },
  {
   "cell_type": "code",
   "execution_count": 7,
   "metadata": {
    "collapsed": false
   },
   "outputs": [
    {
     "data": {
      "text/plain": [
       "[10, 2]"
      ]
     },
     "execution_count": 7,
     "metadata": {},
     "output_type": "execute_result"
    }
   ],
   "source": [
    "alice_vocab['remarkable']"
   ]
  },
  {
   "cell_type": "markdown",
   "metadata": {},
   "source": [
    "At above, I mentioned that \"be\" is second most frequently appearing word in written english according to an analysis of the Oxford English Corpus. Shall we see what are the top ten most frequently appearing word in the story of Alice's Adventures in Wonderland?"
   ]
  },
  {
   "cell_type": "code",
   "execution_count": 24,
   "metadata": {
    "collapsed": true
   },
   "outputs": [],
   "source": [
    "def nested_list(dictionary):\n",
    "    \"\"\"\n",
    "    Creates one big list that contains all the sublists from a dictionary that has list as value.\n",
    "    \n",
    "    INPUT : a dictionary\n",
    "    OUTPUT: a list, [[], [], [], [], [], ... ]\n",
    "    \"\"\"\n",
    "    result = []\n",
    "    for key in dictionary:\n",
    "        result.append(dictionary[key])\n",
    "        \n",
    "    return result"
   ]
  },
  {
   "cell_type": "code",
   "execution_count": 26,
   "metadata": {
    "collapsed": false
   },
   "outputs": [],
   "source": [
    "# concatenating all the sublists to one list\n",
    "\n",
    "import numpy as np\n",
    "concat_list = np.concatenate(nested_list(alice_vocab))"
   ]
  },
  {
   "cell_type": "code",
   "execution_count": 16,
   "metadata": {
    "collapsed": false
   },
   "outputs": [],
   "source": [
    "# getting top 10 most frequent words \n",
    "\n",
    "import heapq\n",
    "top_ten = heapq.nlargest(10, concat_list)"
   ]
  },
  {
   "cell_type": "code",
   "execution_count": 27,
   "metadata": {
    "collapsed": false
   },
   "outputs": [
    {
     "name": "stdout",
     "output_type": "stream",
     "text": [
      "1)  – 2319 times\n",
      "2) the – 1804 times\n",
      "3) and – 912 times\n",
      "4) to – 801 times\n",
      "5) a – 684 times\n",
      "6) of – 625 times\n",
      "7) it – 541 times\n",
      "8) she – 538 times\n",
      "9) said – 462 times\n",
      "10) you – 429 times\n"
     ]
    }
   ],
   "source": [
    "# printing out each item\n",
    "\n",
    "order = 1\n",
    "for freq in top_ten:\n",
    "    for key in alice_vocab:\n",
    "        if alice_vocab[key][1] == freq:\n",
    "            print (\"%d) %s – %s times\" % (order, key, freq))\n",
    "            order += 1\n",
    "        "
   ]
  },
  {
   "cell_type": "markdown",
   "metadata": {},
   "source": [
    "The most frequently occuring word, except the white space, is \"the\" which is also the number 1 from most common words based on an analysis of the Oxford English Corpus. Most of from top ten words are conjunction, preposition, or pronoun."
   ]
  },
  {
   "cell_type": "markdown",
   "metadata": {},
   "source": [
    "### Now, let's set up a procedure for Alice to look up a \"cloest word\" from her vocab list."
   ]
  },
  {
   "cell_type": "code",
   "execution_count": 9,
   "metadata": {
    "collapsed": false
   },
   "outputs": [],
   "source": [
    "def find_max_match(words_dict, user_word):\n",
    "    \"\"\"\n",
    "    Counts matching letters for every words from words_dict that are +/- 1 long of user_word.\n",
    "    \n",
    "    INPUT : a dictionary, {'word' : [length of word, occurrence], ...}\n",
    "    OUTPUT: a string, 'word'    \n",
    "    \"\"\"\n",
    "    \n",
    "    closest_word = \"\"\n",
    "    closest_match = 0\n",
    "    \n",
    "    SHORTEST = len(user_word) -1\n",
    "    LONGEST = len(user_word) + 1\n",
    "\n",
    "    for w in words_dict:\n",
    "        matching_char = 0 # reset the matching_char value for every word candidate\n",
    "#         proper_length = \"nope\"     # dubugging purpose \n",
    "        \n",
    "        ## count matching letter only when the candidate word's length is proper \n",
    "        if SHORTEST <= words_dict[w][0] <= LONGEST :\n",
    "#             proper_length = \"good\"  # dubugging purpose \n",
    "            \n",
    "            ## check whether each letter in user_word exists in a word in words_dict\n",
    "            for i in range(len(user_word)):\n",
    "                if user_word[i] in w:\n",
    "                    matching_char += 1\n",
    "                    \n",
    "            ## if we were doing like this instead of above, \n",
    "            ## this counts the number of matching letter in candidate word to user_word\n",
    "            ## as discussed at the beginning, this draws not-so-ideal results\n",
    "#             for i in range(len(w)):\n",
    "#                 if w[i] in user_word:\n",
    "#                     matching_char += 1\n",
    "        \n",
    "        ## update closest_match and closest_word if applicable(step 4)\n",
    "        if matching_char > closest_match:\n",
    "            closest_match = matching_char\n",
    "            closest_word = w\n",
    "        ## if new candidate word's matching_char is same as current closest_match, \n",
    "        ## select the higher freq one (step 5)\n",
    "        elif matching_char == closest_match: \n",
    "            if words_dict[w][1] > words_dict[closest_word][1]:\n",
    "                closest_word = w\n",
    "                \n",
    "        ## dubugging purpose\n",
    "#         print (\"Tested:\", w, words_dict[w], proper_length, \n",
    "#                \"–––– matches: \" , closest_match, \"word suggestion: \", closest_word)\n",
    "\n",
    "    return closest_word"
   ]
  },
  {
   "cell_type": "markdown",
   "metadata": {},
   "source": [
    "### Time to play word suggestion game with Alice!"
   ]
  },
  {
   "cell_type": "code",
   "execution_count": 10,
   "metadata": {
    "collapsed": false
   },
   "outputs": [],
   "source": [
    "def user_word_input():\n",
    "    \"\"\"\n",
    "    When invoked, ask user to enter a word. \n",
    "    Remove any special case of the input and convert it to lowercase.\n",
    "    \n",
    "    INPUT : none \n",
    "    OUTPUT: a string, 'word'\n",
    "    \"\"\"\n",
    "    import re\n",
    "    \n",
    "    # takes user-input\n",
    "    raw_word = input(\"Which word would you like to ask Alice for a suggestion: \")      \n",
    "    \n",
    "    # checking whether the user gave valid input \n",
    "    not_valid = True\n",
    "    \n",
    "    while not_valid:\n",
    "        if \" \" in raw_word:\n",
    "            raw_word = input(\"Seems like it's not a single word. Please type a word: \") \n",
    "        else:\n",
    "            # remove special case but keeping whitespace and convert it to lower case\n",
    "            cleaned = re.sub('[^A-Za-z0-9 ]+', '', raw_word).lower()            \n",
    "            not_valid = False\n",
    "\n",
    "    return cleaned  "
   ]
  },
  {
   "cell_type": "code",
   "execution_count": 8,
   "metadata": {
    "collapsed": false
   },
   "outputs": [
    {
     "name": "stdout",
     "output_type": "stream",
     "text": [
      "Which word would you like to ask Alice for a suggestion: eerepcr rvler/b qlpnf\n",
      "Seems like it's not a single word. Please type a word: eerepcr\n",
      "Alice here: How about 'project' instead of 'eerepcr'?\n"
     ]
    }
   ],
   "source": [
    "search_word = user_word_input()\n",
    "print (\"Alice here: How about '%s' instead of '%s'?\" \n",
    "       % (find_max_match(alice_vocab, search_word), search_word))"
   ]
  },
  {
   "cell_type": "code",
   "execution_count": 9,
   "metadata": {
    "collapsed": false
   },
   "outputs": [
    {
     "name": "stdout",
     "output_type": "stream",
     "text": [
      "Which word would you like to ask Alice for a suggestion: cha\n",
      "Alice here: How about 'each' instead of 'cha'?\n"
     ]
    }
   ],
   "source": [
    "search_word = user_word_input()\n",
    "print (\"Alice here: How about '%s' instead of '%s'?\" \n",
    "       % (find_max_match(alice_vocab, search_word), search_word))"
   ]
  },
  {
   "cell_type": "code",
   "execution_count": 10,
   "metadata": {
    "collapsed": false
   },
   "outputs": [
    {
     "name": "stdout",
     "output_type": "stream",
     "text": [
      "Which word would you like to ask Alice for a suggestion: tha\n",
      "Alice here: How about 'that' instead of 'tha'?\n"
     ]
    }
   ],
   "source": [
    "search_word = user_word_input()\n",
    "print (\"Alice here: How about '%s' instead of '%s'?\" \n",
    "       % (find_max_match(alice_vocab, search_word), search_word))"
   ]
  },
  {
   "cell_type": "markdown",
   "metadata": {},
   "source": [
    "Wondering how Alice got to the point of suggesting \"that\" for \"tha\"?  <br>\n",
    "Her journey to that conclusion is pretty long but here is the sneak peak of it.\n",
    "\n",
    "![my_image](./suggestionsteps.png)"
   ]
  },
  {
   "cell_type": "markdown",
   "metadata": {
    "collapsed": true
   },
   "source": [
    "### <b style='color:purple'> – Part2 – </b>\n",
    "\n",
    "### How about we increase scope a little bigger and ask Alice to give us better sentence instead of only a word?\n",
    "\n",
    "For that, we need user_input function be able to take sentence."
   ]
  },
  {
   "cell_type": "code",
   "execution_count": 17,
   "metadata": {
    "collapsed": true
   },
   "outputs": [],
   "source": [
    "def user_sentence_input():\n",
    "    \"\"\"\n",
    "    When invoked, ask user to enter a sentence. \n",
    "    Remove any special case of the input and convert it to lowercase.\n",
    "    \n",
    "    INPUT : none \n",
    "    OUTPUT: a string, 'some sentence'\n",
    "    \"\"\"\n",
    "    import re\n",
    "    \n",
    "    # takes user-input\n",
    "    raw_word = input(\">>>> Give Alice a sentence that you'd like for suggestion: \\n\")\n",
    "    print (\"–\"*95)\n",
    "    \n",
    "    # remove special case but keeping whitespace and convert it to lower case\n",
    "    cleaned = re.sub('[^A-Za-z0-9 ]+', '', raw_word).lower()            \n",
    "\n",
    "    return cleaned  "
   ]
  },
  {
   "cell_type": "code",
   "execution_count": 12,
   "metadata": {
    "collapsed": true
   },
   "outputs": [],
   "source": [
    "def alice_suggestion(dictionary):\n",
    "    \n",
    "    # takes user_input here\n",
    "    usinput = user_sentence_input()\n",
    "    \n",
    "    # process the string to a list\n",
    "    usinput_listed = usinput.split(\" \")\n",
    "\n",
    "    # find each word's suggestion and reprocess it to a string\n",
    "    result = \"\"\n",
    "    changed = 0\n",
    "    unchanged = 0\n",
    "    total_words = len(usinput_listed)\n",
    "    \n",
    "    for search_word in usinput_listed:\n",
    "        suggestion = find_max_match(dictionary, search_word)\n",
    "        if search_word == suggestion:\n",
    "            unchanged += 1\n",
    "        else:\n",
    "            changed += 1\n",
    "        \n",
    "        result += suggestion + \" \"\n",
    "    \n",
    "    # The count of changed and unchanged words is incensitive to case and special cases\n",
    "    print (\"Total Words: %d, Unchanged Words: %d, Changed Words: %d\" % (total_words, unchanged, changed))        \n",
    "    return result"
   ]
  },
  {
   "cell_type": "code",
   "execution_count": 18,
   "metadata": {
    "collapsed": false
   },
   "outputs": [
    {
     "name": "stdout",
     "output_type": "stream",
     "text": [
      ">>>> Give Alice a sentence that you'd like for suggestion: \n",
      "eerepcr rvler/b qlpnf\n",
      "–––––––––––––––––––––––––––––––––––––––––––––––––––––––––––––––––––––––––––––––––––––––––––––––\n",
      "Total Words: 3, Unchanged Words: 0, Changed Words: 3\n",
      ">>>> Alice's Suggestion: \n",
      " project lobster fallen \n"
     ]
    }
   ],
   "source": [
    "print (\">>>> Alice's Suggestion: \\n\", alice_suggestion(alice_vocab))"
   ]
  },
  {
   "cell_type": "code",
   "execution_count": 19,
   "metadata": {
    "collapsed": false,
    "scrolled": true
   },
   "outputs": [
    {
     "name": "stdout",
     "output_type": "stream",
     "text": [
      ">>>> Give Alice a sentence that you'd like for suggestion: \n",
      "oUNec uPNOW a TVMWE\n",
      "–––––––––––––––––––––––––––––––––––––––––––––––––––––––––––––––––––––––––––––––––––––––––––––––\n",
      "Total Words: 4, Unchanged Words: 1, Changed Words: 3\n",
      ">>>> Alice's Suggestion: \n",
      " once upon a twelve \n"
     ]
    }
   ],
   "source": [
    "print (\">>>> Alice's Suggestion: \\n\", alice_suggestion(alice_vocab))"
   ]
  },
  {
   "cell_type": "code",
   "execution_count": 20,
   "metadata": {
    "collapsed": false
   },
   "outputs": [
    {
     "name": "stdout",
     "output_type": "stream",
     "text": [
      ">>>> Give Alice a sentence that you'd like for suggestion: \n",
      "Alice's Adventure in Wonderland \n",
      "–––––––––––––––––––––––––––––––––––––––––––––––––––––––––––––––––––––––––––––––––––––––––––––––\n",
      "Total Words: 5, Unchanged Words: 4, Changed Words: 1\n",
      ">>>> Alice's Suggestion: \n",
      " alices adventures in wonderland  \n"
     ]
    }
   ],
   "source": [
    "# The count of changed and unchanged words is incensitive to case and special cases\n",
    "print (\">>>> Alice's Suggestion: \\n\", alice_suggestion(alice_vocab))"
   ]
  },
  {
   "cell_type": "markdown",
   "metadata": {
    "collapsed": true
   },
   "source": [
    "### Since single sentence is possible, Alice would be able to handle multiple sentences.\n",
    "\n",
    "Let's give her first paragraph(5 sentences) from Wikipedia about Alice's Adventures in Wonderland. \n",
    "\n",
    "source: https://en.wikipedia.org/wiki/Alice%27s_Adventures_in_Wonderland"
   ]
  },
  {
   "cell_type": "code",
   "execution_count": 21,
   "metadata": {
    "collapsed": false
   },
   "outputs": [
    {
     "name": "stdout",
     "output_type": "stream",
     "text": [
      ">>>> Give Alice a sentence that you'd like for suggestion: \n",
      "Alice's Adventures in Wonderland (commonly shortened to Alice in Wonderland) is an 1865 fantasy novel written by English mathematician Charles Lutwidge Dudgson under the pseudonym Lewis Carroll. It tells of a girl named Alice falling through a rabbit hole into a fantasy world populated by peculiar, anthropomorphic creatures. The tale plays with logic, giving the story lasting popularity with adults as well as with children.[1] It is considered to be one of the best examples of the literary nonsense genre.[1][2] Its narrative course and structure, characters and imagery have been enormously influential[2] in both popular culture and literature, especially in the fantasy genre.\n",
      "–––––––––––––––––––––––––––––––––––––––––––––––––––––––––––––––––––––––––––––––––––––––––––––––\n",
      "Total Words: 103, Unchanged Words: 57, Changed Words: 46\n",
      ">>>> Alice's Suggestion: \n",
      " alices adventures in wonderland complying directions to alice in wonderland is and 84116 payments gloves written by english circumstances arches longitude sounded under the dormouse lewis carroll it itself of a girl named alice flamingo through a rabbit whole into a payments world unpleasant by fireplace multiplication creatures the table please with coming having the story talking opportunity with lasted was well was with children it is considering to be one of the best explain of the certainly something garden this certainly course and creatures cartwheels and dreaming have began volunteers uglification in both pleasure turtle and regulating especially in the payments garden \n"
     ]
    }
   ],
   "source": [
    "print (\">>>> Alice's Suggestion: \\n\", alice_suggestion(alice_vocab))"
   ]
  },
  {
   "cell_type": "markdown",
   "metadata": {},
   "source": [
    "Also multiple paragraph is possible.\n",
    "\n",
    "From the same Wiki page, I gave her Background part which is composition of 5 paragraphs. "
   ]
  },
  {
   "cell_type": "code",
   "execution_count": 22,
   "metadata": {
    "collapsed": false
   },
   "outputs": [
    {
     "name": "stdout",
     "output_type": "stream",
     "text": [
      ">>>> Give Alice a sentence that you'd like for suggestion: \n",
      "Alice was published in 1865, three years after Charles Lutwidge Dodgson and the Reverend Robinson Duckworth rowed a boat up the Isis on 4 July 1862[3] (this popular date of the \"golden afternoon\"[4] might be a confusion or even another Alice-tale, for that particular day was cool, cloudy, and rainy[5]) with the three young daughters of Henry Liddell (the Vice-Chancellor of Oxford University and Dean of Christ Church): Lorina Charlotte Liddell (aged 13, born 1849, \"Prima\" in the book's prefatory verse); Alice Pleasance Liddell (aged 10, born 1852, \"Secunda\" in the prefatory verse); Edith Mary Liddell (aged 8, born 1853, \"Tertia\" in the prefatory verse).[6]  The journey began at Folly Bridge in Oxford and ended 3 miles (5 km) north-west in the village of Godstow. During the trip, Dodgson told the girls a story that featured a bored little girl named Alice who goes looking for an adventure. The girls loved it, and Alice Liddell asked Dodgson to write it down for her. He began writing the manuscript of the story the next day, although that earliest version no longer exists. The girls and Dodgson took another boat trip a month later when he elaborated the plot to the story of Alice, and in November he began working on the manuscript in earnest.[7]  To add the finishing touches, he researched natural history for the animals presented in the book, and then had the book examined by other children—particularly the children of George MacDonald. It was also MacDonald, and Henry Kingsley, who encouraged him to publish the story.[8] Carroll added his own illustrations but approached John Tenniel to illustrate the book for publication, telling him that the story had been well liked by children.[7]  On 26 November 1864, he gave Alice the handwritten manuscript of Alice's Adventures Under Ground, with illustrations by Dodgson himself, dedicating it as \"A Christmas Gift to a Dear Child in Memory of a Summer's Day\".[9] Some, including Martin Gardner, speculate that there was an earlier version that was destroyed later by Dodgson when he wrote a more elaborate copy by hand.[10]  But before Alice received her copy, Dodgson was already preparing it for publication and expanding the 15,500-word original to 27,500 words,[11] most notably adding the episodes about the Cheshire Cat and the Mad Tea-Party.\n",
      "–––––––––––––––––––––––––––––––––––––––––––––––––––––––––––––––––––––––––––––––––––––––––––––––\n",
      "Total Words: 383, Unchanged Words: 223, Changed Words: 160\n",
      ">>>> Alice's Suggestion: \n",
      " alice was punished in 84116 there years after arches longitude doesnt and the ventured consider wretched wonder a about up the said on 4 jury 2016 this pleasure date of the golden unfortunate might be a confusion for never another certainly for that particular day was could could and angrily with the there young daughter of nearly replied the electronically of afford everythings and dance of history chorus angrily altogether replied edgar 1f3 brown 1994 pair in the ebooks perfectly verse alice compliance replied edgar 801 brown 1e8 distance in the perfectly verse their mary replied edgar  brown 501c3 certain in the perfectly several  the journey began at softly reading in afford and under 3 simple 25 me otherwise in the leaving of towards turning the print doesnt told the girls a story that dreadful a before little girl named alice how goes looking for and adventures the girls looked it and alice replied asked doesnt to write it down for her the began writing the unimportant of the story the next day laughter that royalties version on longer exists the girls and doesnt took another about print a month later when the rabbithole the pool to the story of alice and in everybody the began growing on the unimportant in strange  to and the finishing shouted the disclaimer natural history for the animals presented in the ebook and then had the ebook exclaimed by other adventuresbeginning the children of longer complained it was also complained and nearly english how encouraged him to public the story carroll head this down consultation but cupboards join twinkle to royalties the ebook for uglification ringlets him that the story had began well liked by children  on 25 everybody 84116 the gave alice the drawlingthe unimportant of alices adventures under ground with consultation by doesnt himself attending it was a christmas fight to a heard child in memory of a dormouse day some including certain garden spectacles that there was and literary version that was directions later by doesnt when the wrote a more rabbithole copy by hands  but before alice received her copy doesnt was already pattering it for uglification and explained the wonderland original to 501c3 forwards most thatonly reading the promised about the cheshire cat and the made teaparty \n"
     ]
    }
   ],
   "source": [
    "print (\">>>> Alice's Suggestion: \\n\", alice_suggestion(alice_vocab))"
   ]
  },
  {
   "cell_type": "markdown",
   "metadata": {},
   "source": [
    "### <b style='color:purple'> – Part3 – </b>\n",
    "\n",
    "### Let's extend this and play the word suggestion game with english word master.\n",
    "\n",
    "In Part 1 and 2, Alice was giving suggestions and her vocabulary was limited to those words in the story of Alice In Wonderland. Now, I'd like to play the game with a word master who knows 466k English words and get suggestion from him. \n",
    "\n",
    "466k English words source: https://github.com/dwyl/english-words"
   ]
  },
  {
   "cell_type": "code",
   "execution_count": 19,
   "metadata": {
    "collapsed": false
   },
   "outputs": [],
   "source": [
    "import json\n",
    "\n",
    "with open(\"words_dictionary.json\") as word_dict:\n",
    "    word_master = json.load(word_dict)"
   ]
  },
  {
   "cell_type": "markdown",
   "metadata": {},
   "source": [
    "To give you an idea, the word master's dictionary looks like below. <br>\n",
    "It's different from Alice's dictionary that has length and frequency info as a value.\n",
    "\n",
    "![my_image](./wordmaster.png)"
   ]
  },
  {
   "cell_type": "code",
   "execution_count": 20,
   "metadata": {
    "collapsed": false
   },
   "outputs": [
    {
     "data": {
      "text/plain": [
       "1"
      ]
     },
     "execution_count": 20,
     "metadata": {},
     "output_type": "execute_result"
    }
   ],
   "source": [
    "word_master['aaron']"
   ]
  },
  {
   "cell_type": "code",
   "execution_count": 21,
   "metadata": {
    "collapsed": false
   },
   "outputs": [
    {
     "data": {
      "text/plain": [
       "True"
      ]
     },
     "execution_count": 21,
     "metadata": {},
     "output_type": "execute_result"
    }
   ],
   "source": [
    "'aaron' in word_master"
   ]
  },
  {
   "cell_type": "markdown",
   "metadata": {},
   "source": [
    "We need a little bit of modification on find_max_match function becuase Word Master's dictionary doesn't have each word's length info and no appearing frequency info."
   ]
  },
  {
   "cell_type": "code",
   "execution_count": 22,
   "metadata": {
    "collapsed": true
   },
   "outputs": [],
   "source": [
    "def find_max_match(words_dict, user_word):\n",
    "    \"\"\"\n",
    "    Counts matching letters for every words from words_dict that are +/- 1 long of user_word.\n",
    "    \n",
    "    INPUT : a dictionary, {'word' : [length of word, occurrence], ...}\n",
    "    OUTPUT: a string, 'word'    \n",
    "    \"\"\"\n",
    "    \n",
    "    closest_word = \"\"\n",
    "    closest_match = 0\n",
    "    \n",
    "    SHORTEST = len(user_word) -1\n",
    "    LONGEST = len(user_word) + 1\n",
    "\n",
    "    for w in words_dict:\n",
    "        matching_char = 0 \n",
    "        \n",
    "        if SHORTEST <= len(w) <= LONGEST : # modified here\n",
    "            \n",
    "            for i in range(len(user_word)):\n",
    "                if user_word[i] in w:\n",
    "                    matching_char += 1\n",
    "\n",
    "        if matching_char > closest_match:\n",
    "            closest_match = matching_char\n",
    "            closest_word = w\n",
    "\n",
    "#         elif matching_char == closest_match: \n",
    "#             if words_dict[w][1] > words_dict[closest_word][1]:\n",
    "#                 closest_word = w\n",
    "\n",
    "    return closest_word"
   ]
  },
  {
   "cell_type": "code",
   "execution_count": 23,
   "metadata": {
    "collapsed": false
   },
   "outputs": [
    {
     "name": "stdout",
     "output_type": "stream",
     "text": [
      ">>>> Give Alice a sentence that you'd like for suggestion: \n",
      "eerepcr rvler/b qlpnf\n",
      "––––––––––––––––––––––––––––––––––––––––––––––––––––––––––––––––––––––––––––––––––––––––––––––––––––\n",
      "Total Words: 3, Unchanged Words: 0, Changed Words: 3\n",
      ">>>> Word Master's Suggestion: \n",
      " accepter barvel panfil \n"
     ]
    }
   ],
   "source": [
    "print (\">>>> Word Master's Suggestion: \\n\", alice_suggestion(word_master))"
   ]
  },
  {
   "cell_type": "code",
   "execution_count": 24,
   "metadata": {
    "collapsed": false
   },
   "outputs": [
    {
     "name": "stdout",
     "output_type": "stream",
     "text": [
      ">>>> Give Alice a sentence that you'd like for suggestion: \n",
      "oUNec uPNOW a TVMWE\n",
      "––––––––––––––––––––––––––––––––––––––––––––––––––––––––––––––––––––––––––––––––––––––––––––––––––––\n",
      "Total Words: 4, Unchanged Words: 1, Changed Words: 3\n",
      ">>>> Word Master's Suggestion: \n",
      " bounce unplow a evomit \n"
     ]
    }
   ],
   "source": [
    "print (\">>>> Word Master's Suggestion: \\n\", alice_suggestion(word_master))"
   ]
  },
  {
   "cell_type": "markdown",
   "metadata": {
    "collapsed": true
   },
   "source": [
    "Word Master's suggestion seems not as good as Alice's suggestion. <br>\n",
    "For example, when the input was \"oUNec uPNOW a TVMWE\", Alice's suggestion was closer to \"once upon a time\" where as Word Master's suggesion seems a little far off from the origianl form.\n",
    "\n",
    "The reason might be following..\n",
    "1. When there are multiple words that has equal number of maching char, the modified find_max_match function doesn't give priority for words that appears more frequently.\n",
    "2. A word that became a closest_word at the early stage of word search being kept unless there is other word that has more number of maching charactor.\n",
    "3. As discussed at the beginning of this document, the algorithm is not sensitive to the order of letters within a word.\n",
    "\n",
    "I would like to perceive these as improvement points and hope to build algorithm that could solve issue later."
   ]
  },
  {
   "cell_type": "markdown",
   "metadata": {
    "collapsed": true
   },
   "source": [
    "![my_image](./clock.png)"
   ]
  }
 ],
 "metadata": {
  "kernelspec": {
   "display_name": "Python 3",
   "language": "python",
   "name": "python3"
  },
  "language_info": {
   "codemirror_mode": {
    "name": "ipython",
    "version": 3
   },
   "file_extension": ".py",
   "mimetype": "text/x-python",
   "name": "python",
   "nbconvert_exporter": "python",
   "pygments_lexer": "ipython3",
   "version": "3.6.0"
  }
 },
 "nbformat": 4,
 "nbformat_minor": 2
}
