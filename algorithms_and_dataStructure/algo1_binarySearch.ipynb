{
 "cells": [
  {
   "cell_type": "markdown",
   "metadata": {},
   "source": [
    "## Examples"
   ]
  },
  {
   "cell_type": "code",
   "execution_count": 7,
   "metadata": {
    "collapsed": true
   },
   "outputs": [],
   "source": [
    "# CS61A Week2 Quiz1-7: GUESS BINARY\n",
    "\n",
    "from random import randint\n",
    "\n",
    "LOWER = 1\n",
    "UPPER = 10\n",
    "\n",
    "def guess_binary():\n",
    "    \"\"\"\n",
    "    Return the number of attempted guesses. Implement a faster search\n",
    "    algorithm that asks the user whether a guess is less than or greater than\n",
    "    the correct number.\n",
    "\n",
    "    Hint: If you know the guess is greater than the correct number, then your\n",
    "    algorithm doesn't need to try numbers that are greater than guess.\n",
    "    \"\"\"\n",
    "    prompt_for_number(LOWER, UPPER)\n",
    "    num_guesses = 1\n",
    "    lower, upper = LOWER, UPPER\n",
    "    guess = (lower + upper) // 2\n",
    "    \"*** YOUR CODE HERE ***\"\n",
    "    \n",
    "    while not is_correct(guess):\n",
    "        # when the guess is too high\n",
    "        if is_too_high(guess): \n",
    "            upper = guess - 1\n",
    "        # when the guess is too low\n",
    "        else: \n",
    "            lower = guess + 1 \n",
    "        guess = (lower + upper) // 2\n",
    "        num_guesses += 1      \n",
    "    \n",
    "    return num_guesses"
   ]
  },
  {
   "cell_type": "code",
   "execution_count": 2,
   "metadata": {
    "collapsed": true
   },
   "outputs": [],
   "source": [
    "def prompt_for_number(lower, upper):\n",
    "    \"\"\"\n",
    "    Prompt the user for a number between lower and upper. \n",
    "    Return None.\n",
    "    \"\"\"\n",
    "    is_valid_number = False\n",
    "    while not is_valid_number:\n",
    "        # You don't need to understand the following two lines.\n",
    "        number = input('Pick an integer between {0} and {1} (inclusive) for me to guess: '.format(lower, upper))\n",
    "        number = int(number)\n",
    "        if lower <= number <= upper:\n",
    "            is_valid_number = True"
   ]
  },
  {
   "cell_type": "code",
   "execution_count": 3,
   "metadata": {
    "collapsed": true
   },
   "outputs": [],
   "source": [
    "def is_correct(guess):\n",
    "    \"\"\"\n",
    "    Ask the user if a guess is correct and return whether they respond y.\n",
    "    \"\"\"\n",
    "    return is_yes('Is {0} your number? [y/n] '.format(guess))"
   ]
  },
  {
   "cell_type": "code",
   "execution_count": 4,
   "metadata": {
    "collapsed": true
   },
   "outputs": [],
   "source": [
    "def is_too_high(guess):\n",
    "    \"\"\"\n",
    "    Ask the user if a guess is too high and return whether they say yes.\n",
    "    \"\"\"\n",
    "    return is_yes('Is {0} too high? [y/n] '.format(guess))"
   ]
  },
  {
   "cell_type": "code",
   "execution_count": 5,
   "metadata": {
    "collapsed": true
   },
   "outputs": [],
   "source": [
    "def is_yes(prompt):\n",
    "    \"\"\"\n",
    "    Ask the user a yes or no question and return whether they say yes.\n",
    "    \"\"\"\n",
    "    # while-loop continues until a \"return\" is reached\n",
    "    while True: \n",
    "        yes_no = input(prompt).strip()\n",
    "        if yes_no == 'y':\n",
    "            return True\n",
    "        elif yes_no == 'n':\n",
    "            return False\n",
    "        print('Please type y or n and press return/enter')\n",
    "        "
   ]
  },
  {
   "cell_type": "code",
   "execution_count": 6,
   "metadata": {
    "collapsed": false
   },
   "outputs": [
    {
     "name": "stdout",
     "output_type": "stream",
     "text": [
      "Pick an integer between 1 and 10 (inclusive) for me to guess: 5\n",
      "Is 5 your number? [y/n] n\n",
      "Is 5 too high? [y/n] y\n",
      "Is 2 your number? [y/n] n\n",
      "Is 2 too high? [y/n] n\n",
      "Is 3 your number? [y/n] n\n",
      "Is 3 too high? [y/n] n\n",
      "Is 4 your number? [y/n] n\n",
      "Is 4 too high? [y/n] n\n",
      "Is 4 your number? [y/n] y\n"
     ]
    },
    {
     "data": {
      "text/plain": [
       "5"
      ]
     },
     "execution_count": 6,
     "metadata": {},
     "output_type": "execute_result"
    }
   ],
   "source": [
    "guess_binary()"
   ]
  },
  {
   "cell_type": "code",
   "execution_count": null,
   "metadata": {
    "collapsed": true
   },
   "outputs": [],
   "source": []
  }
 ],
 "metadata": {
  "kernelspec": {
   "display_name": "Python 3",
   "language": "python",
   "name": "python3"
  },
  "language_info": {
   "codemirror_mode": {
    "name": "ipython",
    "version": 3
   },
   "file_extension": ".py",
   "mimetype": "text/x-python",
   "name": "python",
   "nbconvert_exporter": "python",
   "pygments_lexer": "ipython3",
   "version": "3.6.0"
  }
 },
 "nbformat": 4,
 "nbformat_minor": 2
}
