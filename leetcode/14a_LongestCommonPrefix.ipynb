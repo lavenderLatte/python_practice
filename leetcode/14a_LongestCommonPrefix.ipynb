{
 "cells": [
  {
   "cell_type": "markdown",
   "metadata": {},
   "source": [
    "Write a function to find the longest common prefix string amongst an array of strings.\n",
    "\n",
    "source: https://leetcode.com/problems/longest-common-prefix/description/"
   ]
  },
  {
   "cell_type": "code",
   "execution_count": 1,
   "metadata": {
    "collapsed": true
   },
   "outputs": [],
   "source": [
    "def longestCommonPrefix(strs): # O(M x N), where M is length shortest string N is length of list\n",
    "    \"\"\"\n",
    "    :type strs: List[str]\n",
    "    :rtype: str\n",
    "    \"\"\"\n",
    "    longestPrefix = \"\"\n",
    "    \n",
    "    if (\"\" in strs) or (strs == []):\n",
    "        return longestPrefix  \n",
    "    \n",
    "    # check pointer won't exceed the shortest length str in the list\n",
    "    for until in range(1, len(min(strs, key=len)) + 1):\n",
    "\n",
    "        prefix = strs[0][:until]\n",
    "\n",
    "        for idx in range(1, len(strs)):\n",
    "            if prefix != strs[idx][:until]:\n",
    "                return longestPrefix            \n",
    "        \n",
    "        longestPrefix = prefix\n",
    "        \n",
    "    return longestPrefix"
   ]
  },
  {
   "cell_type": "code",
   "execution_count": 2,
   "metadata": {
    "collapsed": false
   },
   "outputs": [
    {
     "name": "stdout",
     "output_type": "stream",
     "text": [
      "\n"
     ]
    }
   ],
   "source": [
    "testInput = []\n",
    "\n",
    "print (longestCommonPrefix(testInput))"
   ]
  },
  {
   "cell_type": "code",
   "execution_count": 3,
   "metadata": {
    "collapsed": false
   },
   "outputs": [
    {
     "name": "stdout",
     "output_type": "stream",
     "text": [
      "\n"
     ]
    }
   ],
   "source": [
    "testInput = [\"\"]\n",
    "\n",
    "print (longestCommonPrefix(testInput))"
   ]
  },
  {
   "cell_type": "code",
   "execution_count": 4,
   "metadata": {
    "collapsed": false
   },
   "outputs": [
    {
     "name": "stdout",
     "output_type": "stream",
     "text": [
      "\n"
     ]
    }
   ],
   "source": [
    "testInput = [\"\", \"\"]\n",
    "\n",
    "print (longestCommonPrefix(testInput))"
   ]
  },
  {
   "cell_type": "code",
   "execution_count": 5,
   "metadata": {
    "collapsed": false
   },
   "outputs": [
    {
     "name": "stdout",
     "output_type": "stream",
     "text": [
      "a\n"
     ]
    }
   ],
   "source": [
    "testInput = [\"a\"]\n",
    "\n",
    "print (longestCommonPrefix(testInput))"
   ]
  },
  {
   "cell_type": "code",
   "execution_count": 6,
   "metadata": {
    "collapsed": false
   },
   "outputs": [
    {
     "name": "stdout",
     "output_type": "stream",
     "text": [
      "a\n"
     ]
    }
   ],
   "source": [
    "testInput = [\"a\", \"a\"]\n",
    "\n",
    "print (longestCommonPrefix(testInput))"
   ]
  },
  {
   "cell_type": "code",
   "execution_count": 7,
   "metadata": {
    "collapsed": false
   },
   "outputs": [
    {
     "name": "stdout",
     "output_type": "stream",
     "text": [
      "a\n"
     ]
    }
   ],
   "source": [
    "testInput = [\"a\", \"a\", \"a\"]\n",
    "\n",
    "print (longestCommonPrefix(testInput))"
   ]
  },
  {
   "cell_type": "code",
   "execution_count": 8,
   "metadata": {
    "collapsed": false
   },
   "outputs": [
    {
     "name": "stdout",
     "output_type": "stream",
     "text": [
      "ab\n"
     ]
    }
   ],
   "source": [
    "testInput = [\"ab\", \"ab\", \"ab\"]\n",
    "\n",
    "print (longestCommonPrefix(testInput))"
   ]
  },
  {
   "cell_type": "code",
   "execution_count": 9,
   "metadata": {
    "collapsed": false
   },
   "outputs": [
    {
     "name": "stdout",
     "output_type": "stream",
     "text": [
      "abc\n"
     ]
    }
   ],
   "source": [
    "testInput = ['abcd', 'abc', 'abc']      \n",
    "\n",
    "print (longestCommonPrefix(testInput))"
   ]
  },
  {
   "cell_type": "code",
   "execution_count": 10,
   "metadata": {
    "collapsed": false
   },
   "outputs": [
    {
     "name": "stdout",
     "output_type": "stream",
     "text": [
      "ab4\n"
     ]
    }
   ],
   "source": [
    "testInput = ['ab4cd', 'ab4c', 'ab4p'] \n",
    "\n",
    "print (longestCommonPrefix(testInput))"
   ]
  },
  {
   "cell_type": "code",
   "execution_count": 11,
   "metadata": {
    "collapsed": false
   },
   "outputs": [
    {
     "name": "stdout",
     "output_type": "stream",
     "text": [
      "ab%\n"
     ]
    }
   ],
   "source": [
    "testInput = ['ab%%cd', 'ab%1c', 'ab%1c'] \n",
    "\n",
    "print (longestCommonPrefix(testInput))"
   ]
  }
 ],
 "metadata": {
  "kernelspec": {
   "display_name": "Python 2",
   "language": "python",
   "name": "python2"
  },
  "language_info": {
   "codemirror_mode": {
    "name": "ipython",
    "version": 2
   },
   "file_extension": ".py",
   "mimetype": "text/x-python",
   "name": "python",
   "nbconvert_exporter": "python",
   "pygments_lexer": "ipython2",
   "version": "2.7.11"
  }
 },
 "nbformat": 4,
 "nbformat_minor": 2
}
