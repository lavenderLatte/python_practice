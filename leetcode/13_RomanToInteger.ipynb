{
 "cells": [
  {
   "cell_type": "markdown",
   "metadata": {},
   "source": [
    "Given a roman numeral, convert it to an integer. <br>\n",
    "Input is guaranteed to be within the range from 1 to 3999.\n",
    "\n",
    "source: https://leetcode.com/problems/roman-to-integer/description/\n",
    "\n",
    "\n",
    "\n",
    "\n",
    "|    Numeral                    | Calculation                        |\n",
    "|-------------------------------|------------------------------------|\n",
    "|![my_image](./romanNumeral.png)| ![my_image](./romanCalculation.png)|\n",
    "img source: https://www.dadsworksheets.com/charts/roman-numerals-chart/roman-numerals-1-100.html"
   ]
  },
  {
   "cell_type": "code",
   "execution_count": 42,
   "metadata": {
    "collapsed": true
   },
   "outputs": [],
   "source": [
    "# def romanToInt(s): # Time: O(N), Space: O(N)\n",
    "#     \"\"\"\n",
    "#     :type s: str\n",
    "#     :rtype: int\n",
    "#     \"\"\"    \n",
    "#     rn = {'M':1000, 'D':500, 'C':100, 'L':50, 'X':10 , 'V':5, 'I':1}\n",
    "    \n",
    "#     inputList = []\n",
    "#     for i in s: # O(N)\n",
    "#         inputList.append(i)\n",
    "    \n",
    "#     result = 0\n",
    "#     idx = 0\n",
    "    \n",
    "#     for idx in range(len(inputList) - 1): # O(N)\n",
    "#         if rn[inputList[idx]] < rn[inputList[idx + 1]]:\n",
    "#             result -= rn[inputList[idx]]\n",
    "#         else:\n",
    "#             result += rn[inputList[idx]]\n",
    "        \n",
    "#     result += rn[inputList[len(inputList) - 1]]\n",
    "    \n",
    "#     return result "
   ]
  },
  {
   "cell_type": "code",
   "execution_count": 1,
   "metadata": {
    "collapsed": true
   },
   "outputs": [],
   "source": [
    "def romanToInt(s): # Time: O(N), Space: O(N)\n",
    "    \"\"\"\n",
    "    Given a roman numeral, convert it to an integer.\n",
    "    \n",
    "    >>> romanToInt('DCXXI')\n",
    "    621\n",
    "    \"\"\"    \n",
    "    rn = {'M':1000, 'D':500, 'C':100, 'L':50, 'X':10 , 'V':5, 'I':1}\n",
    "    \n",
    "    result = 0\n",
    "    idx = 0\n",
    "    \n",
    "    for idx in range(len(s) - 1): # O(N)\n",
    "        if rn[s[idx]] < rn[s[idx + 1]]:\n",
    "            result -= rn[s[idx]]\n",
    "        else:\n",
    "            result += rn[s[idx]]\n",
    "        \n",
    "    result += rn[s[len(s) - 1]]\n",
    "    \n",
    "    return result "
   ]
  },
  {
   "cell_type": "code",
   "execution_count": 2,
   "metadata": {
    "collapsed": false
   },
   "outputs": [
    {
     "data": {
      "text/plain": [
       "621"
      ]
     },
     "execution_count": 2,
     "metadata": {},
     "output_type": "execute_result"
    }
   ],
   "source": [
    "romanToInt('DCXXI')"
   ]
  },
  {
   "cell_type": "code",
   "execution_count": 3,
   "metadata": {
    "collapsed": false
   },
   "outputs": [
    {
     "data": {
      "text/plain": [
       "1996"
      ]
     },
     "execution_count": 3,
     "metadata": {},
     "output_type": "execute_result"
    }
   ],
   "source": [
    "romanToInt(\"MCMXCVI\")"
   ]
  },
  {
   "cell_type": "code",
   "execution_count": 4,
   "metadata": {
    "collapsed": false
   },
   "outputs": [
    {
     "data": {
      "text/plain": [
       "399"
      ]
     },
     "execution_count": 4,
     "metadata": {},
     "output_type": "execute_result"
    }
   ],
   "source": [
    "romanToInt(\"IXXCDM\")"
   ]
  },
  {
   "cell_type": "code",
   "execution_count": null,
   "metadata": {
    "collapsed": true
   },
   "outputs": [],
   "source": []
  }
 ],
 "metadata": {
  "kernelspec": {
   "display_name": "Python 2",
   "language": "python",
   "name": "python2"
  },
  "language_info": {
   "codemirror_mode": {
    "name": "ipython",
    "version": 2
   },
   "file_extension": ".py",
   "mimetype": "text/x-python",
   "name": "python",
   "nbconvert_exporter": "python",
   "pygments_lexer": "ipython2",
   "version": "2.7.11"
  }
 },
 "nbformat": 4,
 "nbformat_minor": 2
}
