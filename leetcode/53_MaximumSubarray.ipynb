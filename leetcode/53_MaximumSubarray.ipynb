{
 "cells": [
  {
   "cell_type": "markdown",
   "metadata": {},
   "source": [
    "Find the contiguous subarray within an array (containing at least one number) which has the largest sum.\n",
    "\n",
    "For example, given the array [-2,1,-3,4,-1,2,1,-5,4],\n",
    "the contiguous subarray [4,-1,2,1] has the largest sum = 6.\n",
    "\n",
    "source: https://leetcode.com/problems/maximum-subarray/description/"
   ]
  },
  {
   "cell_type": "markdown",
   "metadata": {},
   "source": [
    "## Solution1: O(N^2)"
   ]
  },
  {
   "cell_type": "code",
   "execution_count": 1,
   "metadata": {
    "collapsed": true
   },
   "outputs": [],
   "source": [
    "import numpy as np"
   ]
  },
  {
   "cell_type": "code",
   "execution_count": 2,
   "metadata": {
    "collapsed": false
   },
   "outputs": [],
   "source": [
    "def maxSubArray(nums): # O(N^2)\n",
    "    \"\"\"   \n",
    "    Input : list; nums\n",
    "    Output: int\n",
    "    \n",
    "    >>> maxSubArray([-2,1,-3,4,-1,2,1,-5,4])\n",
    "    6\n",
    "    >>> maxSubArray([5, 7])\n",
    "    12\n",
    "    >>> maxSubArray([5, -3])\n",
    "    5\n",
    "    >>> maxSubArray([5, -7])\n",
    "    5\n",
    "    >>> maxSubArray([-5, 7])\n",
    "    7\n",
    "    >>> maxSubArray([2])\n",
    "    2\n",
    "    >>> maxSubArray([-2])\n",
    "    -2\n",
    "    >>> maxSubArray([-2, -7])\n",
    "    -2\n",
    "    >>> maxSubArray([0])\n",
    "    0\n",
    "    \"\"\"\n",
    "    \n",
    "    ARRYLEN = len(nums)\n",
    "    firstIter = True\n",
    "    \n",
    "    # create n x m matrix that's filled with zeros\n",
    "    mtx = np.zeros((ARRYLEN, ARRYLEN)) # O(N^2), since it needs to initialize every element to 0\n",
    "    \n",
    "    for n in range(ARRYLEN):        # n-times\n",
    "        # start each row\n",
    "        mtx[n][n] = nums[n]\n",
    "        \n",
    "        # set initial maxSum value\n",
    "        if firstIter:\n",
    "            maxSum = mtx[n][n]\n",
    "            subTailIdx = n\n",
    "            subHeadIdx = n\n",
    "            firstIter = False\n",
    "\n",
    "        # for single item arry or when only very last item is max sum subarray(i.e. [-1, 1, 5, -9, -2, 30])\n",
    "        if mtx[n][n] > maxSum:\n",
    "            maxSum = mtx[n][n]\n",
    "            subTailIdx = n\n",
    "            subHeadIdx = n\n",
    "        \n",
    "        for m in range(n+1, ARRYLEN): # (n)+(n-1)+(n-1)+ ... + 1 -> adding n-times\n",
    "            # recurrsive subproblem rule\n",
    "            mtx[n][m] = mtx[n][m-1] + nums[m]\n",
    "            \n",
    "            if mtx[n][m] > maxSum:\n",
    "                maxSum = mtx[n][m]\n",
    "                subHeadIdx = n\n",
    "                subTailIdx = m\n",
    "                \n",
    "    print mtx\n",
    "    print \"subarry:\", nums[subHeadIdx : (subTailIdx + 1)] # O(k)\n",
    "    return int(maxSum)"
   ]
  },
  {
   "cell_type": "markdown",
   "metadata": {},
   "source": [
    "__Testing Basecase__"
   ]
  },
  {
   "cell_type": "code",
   "execution_count": 3,
   "metadata": {
    "collapsed": false
   },
   "outputs": [
    {
     "name": "stdout",
     "output_type": "stream",
     "text": [
      "[[-2. -1. -4.  0. -1.  1.  2. -3.  1.]\n",
      " [ 0.  1. -2.  2.  1.  3.  4. -1.  3.]\n",
      " [ 0.  0. -3.  1.  0.  2.  3. -2.  2.]\n",
      " [ 0.  0.  0.  4.  3.  5.  6.  1.  5.]\n",
      " [ 0.  0.  0.  0. -1.  1.  2. -3.  1.]\n",
      " [ 0.  0.  0.  0.  0.  2.  3. -2.  2.]\n",
      " [ 0.  0.  0.  0.  0.  0.  1. -4.  0.]\n",
      " [ 0.  0.  0.  0.  0.  0.  0. -5. -1.]\n",
      " [ 0.  0.  0.  0.  0.  0.  0.  0.  4.]]\n",
      "subarry: [4, -1, 2, 1]\n"
     ]
    },
    {
     "data": {
      "text/plain": [
       "6"
      ]
     },
     "execution_count": 3,
     "metadata": {},
     "output_type": "execute_result"
    }
   ],
   "source": [
    "maxSubArray([-2,1,-3,4,-1,2,1,-5,4])"
   ]
  },
  {
   "cell_type": "code",
   "execution_count": 4,
   "metadata": {
    "collapsed": false
   },
   "outputs": [
    {
     "name": "stdout",
     "output_type": "stream",
     "text": [
      "[[  5.  12.]\n",
      " [  0.   7.]]\n",
      "subarry: [5, 7]\n"
     ]
    },
    {
     "data": {
      "text/plain": [
       "12"
      ]
     },
     "execution_count": 4,
     "metadata": {},
     "output_type": "execute_result"
    }
   ],
   "source": [
    "maxSubArray([5, 7])"
   ]
  },
  {
   "cell_type": "code",
   "execution_count": 5,
   "metadata": {
    "collapsed": false
   },
   "outputs": [
    {
     "name": "stdout",
     "output_type": "stream",
     "text": [
      "[[ 5.  2.]\n",
      " [ 0. -3.]]\n",
      "subarry: [5]\n"
     ]
    },
    {
     "data": {
      "text/plain": [
       "5"
      ]
     },
     "execution_count": 5,
     "metadata": {},
     "output_type": "execute_result"
    }
   ],
   "source": [
    "maxSubArray([5, -3])"
   ]
  },
  {
   "cell_type": "code",
   "execution_count": 6,
   "metadata": {
    "collapsed": false
   },
   "outputs": [
    {
     "name": "stdout",
     "output_type": "stream",
     "text": [
      "[[ 5. -2.]\n",
      " [ 0. -7.]]\n",
      "subarry: [5]\n"
     ]
    },
    {
     "data": {
      "text/plain": [
       "5"
      ]
     },
     "execution_count": 6,
     "metadata": {},
     "output_type": "execute_result"
    }
   ],
   "source": [
    "maxSubArray([5, -7])"
   ]
  },
  {
   "cell_type": "code",
   "execution_count": 7,
   "metadata": {
    "collapsed": false
   },
   "outputs": [
    {
     "name": "stdout",
     "output_type": "stream",
     "text": [
      "[[-5.  2.]\n",
      " [ 0.  7.]]\n",
      "subarry: [7]\n"
     ]
    },
    {
     "data": {
      "text/plain": [
       "7"
      ]
     },
     "execution_count": 7,
     "metadata": {},
     "output_type": "execute_result"
    }
   ],
   "source": [
    "maxSubArray([-5, 7])"
   ]
  },
  {
   "cell_type": "markdown",
   "metadata": {},
   "source": [
    "__Testing Edgecase__"
   ]
  },
  {
   "cell_type": "code",
   "execution_count": 8,
   "metadata": {
    "collapsed": false
   },
   "outputs": [
    {
     "name": "stdout",
     "output_type": "stream",
     "text": [
      "[[ 2.]]\n",
      "subarry: [2]\n"
     ]
    },
    {
     "data": {
      "text/plain": [
       "2"
      ]
     },
     "execution_count": 8,
     "metadata": {},
     "output_type": "execute_result"
    }
   ],
   "source": [
    "maxSubArray([2])"
   ]
  },
  {
   "cell_type": "code",
   "execution_count": 9,
   "metadata": {
    "collapsed": false
   },
   "outputs": [
    {
     "name": "stdout",
     "output_type": "stream",
     "text": [
      "[[-2.]]\n",
      "subarry: [-2]\n"
     ]
    },
    {
     "data": {
      "text/plain": [
       "-2"
      ]
     },
     "execution_count": 9,
     "metadata": {},
     "output_type": "execute_result"
    }
   ],
   "source": [
    "maxSubArray([-2])"
   ]
  },
  {
   "cell_type": "code",
   "execution_count": 10,
   "metadata": {
    "collapsed": false
   },
   "outputs": [
    {
     "name": "stdout",
     "output_type": "stream",
     "text": [
      "[[-2. -9.]\n",
      " [ 0. -7.]]\n",
      "subarry: [-2]\n"
     ]
    },
    {
     "data": {
      "text/plain": [
       "-2"
      ]
     },
     "execution_count": 10,
     "metadata": {},
     "output_type": "execute_result"
    }
   ],
   "source": [
    "maxSubArray([-2, -7])"
   ]
  },
  {
   "cell_type": "code",
   "execution_count": 11,
   "metadata": {
    "collapsed": false
   },
   "outputs": [
    {
     "name": "stdout",
     "output_type": "stream",
     "text": [
      "[[ 0.]]\n",
      "subarry: [0]\n"
     ]
    },
    {
     "data": {
      "text/plain": [
       "0"
      ]
     },
     "execution_count": 11,
     "metadata": {},
     "output_type": "execute_result"
    }
   ],
   "source": [
    "maxSubArray([0])"
   ]
  },
  {
   "cell_type": "code",
   "execution_count": 12,
   "metadata": {
    "collapsed": false
   },
   "outputs": [
    {
     "name": "stdout",
     "output_type": "stream",
     "text": [
      "[[ -1.   0.   5.  -4.  -6.  24.]\n",
      " [  0.   1.   6.  -3.  -5.  25.]\n",
      " [  0.   0.   5.  -4.  -6.  24.]\n",
      " [  0.   0.   0.  -9. -11.  19.]\n",
      " [  0.   0.   0.   0.  -2.  28.]\n",
      " [  0.   0.   0.   0.   0.  30.]]\n",
      "subarry: [30]\n"
     ]
    },
    {
     "data": {
      "text/plain": [
       "30"
      ]
     },
     "execution_count": 12,
     "metadata": {},
     "output_type": "execute_result"
    }
   ],
   "source": [
    "maxSubArray([-1, 1, 5, -9, -2, 30])"
   ]
  },
  {
   "cell_type": "markdown",
   "metadata": {},
   "source": [
    "## Solution2: O(n) or Divide and Conquer Approach"
   ]
  },
  {
   "cell_type": "code",
   "execution_count": null,
   "metadata": {
    "collapsed": true
   },
   "outputs": [],
   "source": []
  }
 ],
 "metadata": {
  "kernelspec": {
   "display_name": "Python 2",
   "language": "python",
   "name": "python2"
  },
  "language_info": {
   "codemirror_mode": {
    "name": "ipython",
    "version": 2
   },
   "file_extension": ".py",
   "mimetype": "text/x-python",
   "name": "python",
   "nbconvert_exporter": "python",
   "pygments_lexer": "ipython2",
   "version": "2.7.11"
  }
 },
 "nbformat": 4,
 "nbformat_minor": 2
}
