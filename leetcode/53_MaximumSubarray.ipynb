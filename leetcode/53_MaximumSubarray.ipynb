{
 "cells": [
  {
   "cell_type": "markdown",
   "metadata": {},
   "source": [
    "Find the contiguous subarray within an array (containing at least one number) which has the largest sum.\n",
    "\n",
    "For example, given the array [-2,1,-3,4,-1,2,1,-5,4],\n",
    "the contiguous subarray [4,-1,2,1] has the largest sum = 6.\n",
    "\n",
    "source: https://leetcode.com/problems/maximum-subarray/description/"
   ]
  },
  {
   "cell_type": "markdown",
   "metadata": {},
   "source": [
    "## dp Solution1: O(n)"
   ]
  },
  {
   "cell_type": "code",
   "execution_count": 1,
   "metadata": {
    "collapsed": true
   },
   "outputs": [],
   "source": [
    "def maxSubArray_linear(nums): # O(N)\n",
    "    \"\"\"   \n",
    "    Input : list; nums\n",
    "    Output: int, the largest sum\n",
    "    \n",
    "    [ Dynamic Programming ]\n",
    "    Recurrsive subproblem rule: \n",
    "        (1) f(n) = f(n-1) + nums[n], if it's > nums[n]\n",
    "                 = nums[n], otherwise                             \n",
    "            in this case;\n",
    "            biggerOfTwo[n] = biggerOfTwo[n-1] + nums[n], if it's > nums[n]\n",
    "                           = nums[n], otherwise\n",
    "        (2) Subarray starts from where nums[n] is bigger and ends where the max number in biggerOfTwo is.\n",
    "    \"\"\"\n",
    "    \n",
    "    biggerOfTwo = [nums[0]]\n",
    "    # to get maxSum subarray itself\n",
    "#     maxIdx = 0\n",
    "#     maxSum = biggerOfTwo[maxIdx]\n",
    "#     headIdx = 0\n",
    "    \n",
    "    # check whether sum of 'f(n-1) + num' is bigger than 'num'\n",
    "    for idx in range(1, len(nums)):\n",
    "        num = nums[idx]\n",
    "        sumOfTwo = biggerOfTwo[idx - 1] + num\n",
    "        \n",
    "        # when adding f(n-1) + num is bigger\n",
    "        if sumOfTwo > num:\n",
    "            biggerOfTwo.append(sumOfTwo)\n",
    "            \n",
    "            # to get maxSum subarray itself\n",
    "#             if sumOfTwo > maxSum:\n",
    "#                 maxSum = sumOfTwo\n",
    "#                 maxIdx = idx\n",
    "                \n",
    "        # when a num itself is bigger, starting new subarray from there\n",
    "        else:\n",
    "            biggerOfTwo.append(num)\n",
    "            headIdx = idx\n",
    "            \n",
    "            # to get maxSum subarray itself\n",
    "#             if num > maxSum:\n",
    "#                 maxSum = num\n",
    "#                 maxIdx = idx\n",
    "            \n",
    "    print biggerOfTwo \n",
    "#     print biggerOfTwo[headIdx : maxIdx+1]\n",
    "    return max(biggerOfTwo)\n",
    "        "
   ]
  },
  {
   "cell_type": "markdown",
   "metadata": {},
   "source": [
    "__Testing Basecase__"
   ]
  },
  {
   "cell_type": "code",
   "execution_count": 2,
   "metadata": {
    "collapsed": false
   },
   "outputs": [
    {
     "name": "stdout",
     "output_type": "stream",
     "text": [
      "[-2, 1, -2, 4, 3, 5, 6, 1, 5]\n"
     ]
    },
    {
     "data": {
      "text/plain": [
       "6"
      ]
     },
     "execution_count": 2,
     "metadata": {},
     "output_type": "execute_result"
    }
   ],
   "source": [
    "maxSubArray_linear([-2,1,-3,4,-1,2,1,-5,4])"
   ]
  },
  {
   "cell_type": "code",
   "execution_count": 3,
   "metadata": {
    "collapsed": false
   },
   "outputs": [
    {
     "name": "stdout",
     "output_type": "stream",
     "text": [
      "[5, 12]\n"
     ]
    },
    {
     "data": {
      "text/plain": [
       "12"
      ]
     },
     "execution_count": 3,
     "metadata": {},
     "output_type": "execute_result"
    }
   ],
   "source": [
    "maxSubArray_linear([5, 7])"
   ]
  },
  {
   "cell_type": "code",
   "execution_count": 4,
   "metadata": {
    "collapsed": false
   },
   "outputs": [
    {
     "name": "stdout",
     "output_type": "stream",
     "text": [
      "[5, 2]\n"
     ]
    },
    {
     "data": {
      "text/plain": [
       "5"
      ]
     },
     "execution_count": 4,
     "metadata": {},
     "output_type": "execute_result"
    }
   ],
   "source": [
    "maxSubArray_linear([5, -3])"
   ]
  },
  {
   "cell_type": "code",
   "execution_count": 5,
   "metadata": {
    "collapsed": false
   },
   "outputs": [
    {
     "name": "stdout",
     "output_type": "stream",
     "text": [
      "[5, -2]\n"
     ]
    },
    {
     "data": {
      "text/plain": [
       "5"
      ]
     },
     "execution_count": 5,
     "metadata": {},
     "output_type": "execute_result"
    }
   ],
   "source": [
    "maxSubArray_linear([5, -7])"
   ]
  },
  {
   "cell_type": "code",
   "execution_count": 6,
   "metadata": {
    "collapsed": false,
    "scrolled": true
   },
   "outputs": [
    {
     "name": "stdout",
     "output_type": "stream",
     "text": [
      "[-5, 7]\n"
     ]
    },
    {
     "data": {
      "text/plain": [
       "7"
      ]
     },
     "execution_count": 6,
     "metadata": {},
     "output_type": "execute_result"
    }
   ],
   "source": [
    "maxSubArray_linear([-5, 7])"
   ]
  },
  {
   "cell_type": "code",
   "execution_count": 7,
   "metadata": {
    "collapsed": false
   },
   "outputs": [
    {
     "name": "stdout",
     "output_type": "stream",
     "text": [
      "[5, 4, 1, 5, 4, 6, 7, 2, 6]\n"
     ]
    },
    {
     "data": {
      "text/plain": [
       "7"
      ]
     },
     "execution_count": 7,
     "metadata": {},
     "output_type": "execute_result"
    }
   ],
   "source": [
    "maxSubArray_linear([5, -1, -3, 4, -1, 2, 1, -5, 4])"
   ]
  },
  {
   "cell_type": "code",
   "execution_count": 8,
   "metadata": {
    "collapsed": false
   },
   "outputs": [
    {
     "name": "stdout",
     "output_type": "stream",
     "text": [
      "[-2, 0, -2, 4, 3]\n"
     ]
    },
    {
     "data": {
      "text/plain": [
       "4"
      ]
     },
     "execution_count": 8,
     "metadata": {},
     "output_type": "execute_result"
    }
   ],
   "source": [
    "maxSubArray_linear([-2, 0, -2, 4, -1])"
   ]
  },
  {
   "cell_type": "markdown",
   "metadata": {},
   "source": [
    "__Testing Edgecase__"
   ]
  },
  {
   "cell_type": "code",
   "execution_count": 9,
   "metadata": {
    "collapsed": false
   },
   "outputs": [
    {
     "name": "stdout",
     "output_type": "stream",
     "text": [
      "[2]\n"
     ]
    },
    {
     "data": {
      "text/plain": [
       "2"
      ]
     },
     "execution_count": 9,
     "metadata": {},
     "output_type": "execute_result"
    }
   ],
   "source": [
    "maxSubArray_linear([2])"
   ]
  },
  {
   "cell_type": "code",
   "execution_count": 10,
   "metadata": {
    "collapsed": false
   },
   "outputs": [
    {
     "name": "stdout",
     "output_type": "stream",
     "text": [
      "[-2]\n"
     ]
    },
    {
     "data": {
      "text/plain": [
       "-2"
      ]
     },
     "execution_count": 10,
     "metadata": {},
     "output_type": "execute_result"
    }
   ],
   "source": [
    "maxSubArray_linear([-2])"
   ]
  },
  {
   "cell_type": "code",
   "execution_count": 11,
   "metadata": {
    "collapsed": false
   },
   "outputs": [
    {
     "name": "stdout",
     "output_type": "stream",
     "text": [
      "[-2, -7]\n"
     ]
    },
    {
     "data": {
      "text/plain": [
       "-2"
      ]
     },
     "execution_count": 11,
     "metadata": {},
     "output_type": "execute_result"
    }
   ],
   "source": [
    "maxSubArray_linear([-2, -7])"
   ]
  },
  {
   "cell_type": "code",
   "execution_count": 12,
   "metadata": {
    "collapsed": false
   },
   "outputs": [
    {
     "name": "stdout",
     "output_type": "stream",
     "text": [
      "[0]\n"
     ]
    },
    {
     "data": {
      "text/plain": [
       "0"
      ]
     },
     "execution_count": 12,
     "metadata": {},
     "output_type": "execute_result"
    }
   ],
   "source": [
    "maxSubArray_linear([0])"
   ]
  },
  {
   "cell_type": "code",
   "execution_count": 13,
   "metadata": {
    "collapsed": false,
    "scrolled": true
   },
   "outputs": [
    {
     "name": "stdout",
     "output_type": "stream",
     "text": [
      "[-1, 1, 6, -3, -2, 30]\n"
     ]
    },
    {
     "data": {
      "text/plain": [
       "30"
      ]
     },
     "execution_count": 13,
     "metadata": {},
     "output_type": "execute_result"
    }
   ],
   "source": [
    "maxSubArray_linear([-1, 1, 5, -9, -2, 30])"
   ]
  },
  {
   "cell_type": "markdown",
   "metadata": {},
   "source": [
    "## dp Solution2: O(N^2)"
   ]
  },
  {
   "cell_type": "code",
   "execution_count": 14,
   "metadata": {
    "collapsed": true
   },
   "outputs": [],
   "source": [
    "import numpy as np"
   ]
  },
  {
   "cell_type": "code",
   "execution_count": 15,
   "metadata": {
    "collapsed": true
   },
   "outputs": [],
   "source": [
    "def maxSumSetter(matrix, row, col):\n",
    "    maxSum = mtx[n][n]\n",
    "    subTailIdx = n\n",
    "    subHeadIdx = n"
   ]
  },
  {
   "cell_type": "code",
   "execution_count": 16,
   "metadata": {
    "collapsed": false
   },
   "outputs": [],
   "source": [
    "def maxSubArray(nums): # O(N^2)\n",
    "    \"\"\"   \n",
    "    Input : list; nums\n",
    "    Output: int, the largest sum\n",
    "    \n",
    "    >>> maxSubArray([-2,1,-3,4,-1,2,1,-5,4])\n",
    "    6\n",
    "    >>> maxSubArray([5, 7])\n",
    "    12\n",
    "    >>> maxSubArray([5, -3])\n",
    "    5\n",
    "    >>> maxSubArray([5, -7])\n",
    "    5\n",
    "    >>> maxSubArray([-5, 7])\n",
    "    7\n",
    "    >>> maxSubArray([2])\n",
    "    2\n",
    "    >>> maxSubArray([-2])\n",
    "    -2\n",
    "    >>> maxSubArray([-2, -7])\n",
    "    -2\n",
    "    >>> maxSubArray([0])\n",
    "    0\n",
    "    \n",
    "    [ Dynamic Programming ]\n",
    "    Recurrsive subproblem rule:\n",
    "        (1) Each rows starts at mxt[n][m], where n == m\n",
    "        (2) f(n, m) = f(n-1, m-1) + nums[m]\n",
    "            in this case;\n",
    "            mtx[n][m] = mtx[n][m-1] + nums[m]\n",
    "        (3) Subarray starts from beginning each row to until where the max sum is\n",
    "    \"\"\"\n",
    "\n",
    "    \n",
    "    ARRYLEN = len(nums)\n",
    "    firstIter = True\n",
    "    \n",
    "    # create n x m matrix that's filled with zeros\n",
    "    mtx = np.zeros((ARRYLEN, ARRYLEN)) # O(N^2), since it needs to initialize every element to 0\n",
    "    \n",
    "    for n in range(ARRYLEN):        # n-times\n",
    "        # start each row\n",
    "        mtx[n][n] = nums[n]\n",
    "        \n",
    "        # set initial maxSum value\n",
    "        if firstIter:\n",
    "            maxSum = mtx[n][n]\n",
    "            subTailIdx = n\n",
    "            subHeadIdx = n\n",
    "            firstIter = False\n",
    "            print maxSum, subTailIdx, subHeadIdx\n",
    "\n",
    "        # for single item arry or when only very last item is max sum subarray(i.e. [-1, 1, 5, -9, -2, 30])\n",
    "        if mtx[n][n] > maxSum:\n",
    "            maxSum = mtx[n][n]\n",
    "            subTailIdx = n\n",
    "            subHeadIdx = n\n",
    "        \n",
    "        for m in range(n+1, ARRYLEN): # (n)+(n-1)+(n-1)+ ... + 1 -> adding n-times\n",
    "            # recurrsive subproblem rule\n",
    "            mtx[n][m] = mtx[n][m-1] + nums[m]\n",
    "            \n",
    "            if mtx[n][m] > maxSum:\n",
    "                maxSum = mtx[n][m]\n",
    "                subHeadIdx = n\n",
    "                subTailIdx = m\n",
    "                \n",
    "    print mtx\n",
    "    print \"subarry:\", nums[subHeadIdx : (subTailIdx + 1)] # O(k)\n",
    "    return int(maxSum)"
   ]
  },
  {
   "cell_type": "markdown",
   "metadata": {},
   "source": [
    "__Testing Basecase__"
   ]
  },
  {
   "cell_type": "code",
   "execution_count": 17,
   "metadata": {
    "collapsed": false
   },
   "outputs": [
    {
     "name": "stdout",
     "output_type": "stream",
     "text": [
      "-2.0 0 0\n",
      "[[-2. -1. -4.  0. -1.  1.  2. -3.  1.]\n",
      " [ 0.  1. -2.  2.  1.  3.  4. -1.  3.]\n",
      " [ 0.  0. -3.  1.  0.  2.  3. -2.  2.]\n",
      " [ 0.  0.  0.  4.  3.  5.  6.  1.  5.]\n",
      " [ 0.  0.  0.  0. -1.  1.  2. -3.  1.]\n",
      " [ 0.  0.  0.  0.  0.  2.  3. -2.  2.]\n",
      " [ 0.  0.  0.  0.  0.  0.  1. -4.  0.]\n",
      " [ 0.  0.  0.  0.  0.  0.  0. -5. -1.]\n",
      " [ 0.  0.  0.  0.  0.  0.  0.  0.  4.]]\n",
      "subarry: [4, -1, 2, 1]\n"
     ]
    },
    {
     "data": {
      "text/plain": [
       "6"
      ]
     },
     "execution_count": 17,
     "metadata": {},
     "output_type": "execute_result"
    }
   ],
   "source": [
    "maxSubArray([-2,1,-3,4,-1,2,1,-5,4])"
   ]
  },
  {
   "cell_type": "code",
   "execution_count": 18,
   "metadata": {
    "collapsed": false
   },
   "outputs": [
    {
     "name": "stdout",
     "output_type": "stream",
     "text": [
      "5.0 0 0\n",
      "[[  5.  12.]\n",
      " [  0.   7.]]\n",
      "subarry: [5, 7]\n"
     ]
    },
    {
     "data": {
      "text/plain": [
       "12"
      ]
     },
     "execution_count": 18,
     "metadata": {},
     "output_type": "execute_result"
    }
   ],
   "source": [
    "maxSubArray([5, 7])"
   ]
  },
  {
   "cell_type": "code",
   "execution_count": 19,
   "metadata": {
    "collapsed": false
   },
   "outputs": [
    {
     "name": "stdout",
     "output_type": "stream",
     "text": [
      "5.0 0 0\n",
      "[[ 5.  2.]\n",
      " [ 0. -3.]]\n",
      "subarry: [5]\n"
     ]
    },
    {
     "data": {
      "text/plain": [
       "5"
      ]
     },
     "execution_count": 19,
     "metadata": {},
     "output_type": "execute_result"
    }
   ],
   "source": [
    "maxSubArray([5, -3])"
   ]
  },
  {
   "cell_type": "code",
   "execution_count": 20,
   "metadata": {
    "collapsed": false
   },
   "outputs": [
    {
     "name": "stdout",
     "output_type": "stream",
     "text": [
      "5.0 0 0\n",
      "[[ 5. -2.]\n",
      " [ 0. -7.]]\n",
      "subarry: [5]\n"
     ]
    },
    {
     "data": {
      "text/plain": [
       "5"
      ]
     },
     "execution_count": 20,
     "metadata": {},
     "output_type": "execute_result"
    }
   ],
   "source": [
    "maxSubArray([5, -7])"
   ]
  },
  {
   "cell_type": "code",
   "execution_count": 21,
   "metadata": {
    "collapsed": false
   },
   "outputs": [
    {
     "name": "stdout",
     "output_type": "stream",
     "text": [
      "-5.0 0 0\n",
      "[[-5.  2.]\n",
      " [ 0.  7.]]\n",
      "subarry: [7]\n"
     ]
    },
    {
     "data": {
      "text/plain": [
       "7"
      ]
     },
     "execution_count": 21,
     "metadata": {},
     "output_type": "execute_result"
    }
   ],
   "source": [
    "maxSubArray([-5, 7])"
   ]
  },
  {
   "cell_type": "code",
   "execution_count": 22,
   "metadata": {
    "collapsed": false
   },
   "outputs": [
    {
     "name": "stdout",
     "output_type": "stream",
     "text": [
      "5.0 0 0\n",
      "[[ 5.  4.  1.  5.  4.  6.  7.  2.  6.]\n",
      " [ 0. -1. -4.  0. -1.  1.  2. -3.  1.]\n",
      " [ 0.  0. -3.  1.  0.  2.  3. -2.  2.]\n",
      " [ 0.  0.  0.  4.  3.  5.  6.  1.  5.]\n",
      " [ 0.  0.  0.  0. -1.  1.  2. -3.  1.]\n",
      " [ 0.  0.  0.  0.  0.  2.  3. -2.  2.]\n",
      " [ 0.  0.  0.  0.  0.  0.  1. -4.  0.]\n",
      " [ 0.  0.  0.  0.  0.  0.  0. -5. -1.]\n",
      " [ 0.  0.  0.  0.  0.  0.  0.  0.  4.]]\n",
      "subarry: [5, -1, -3, 4, -1, 2, 1]\n"
     ]
    },
    {
     "data": {
      "text/plain": [
       "7"
      ]
     },
     "execution_count": 22,
     "metadata": {},
     "output_type": "execute_result"
    }
   ],
   "source": [
    "maxSubArray([5, -1, -3, 4, -1, 2, 1, -5, 4])"
   ]
  },
  {
   "cell_type": "code",
   "execution_count": 23,
   "metadata": {
    "collapsed": false
   },
   "outputs": [
    {
     "name": "stdout",
     "output_type": "stream",
     "text": [
      "-2.0 0 0\n",
      "[[-2. -2. -4.  0. -1.]\n",
      " [ 0.  0. -2.  2.  1.]\n",
      " [ 0.  0. -2.  2.  1.]\n",
      " [ 0.  0.  0.  4.  3.]\n",
      " [ 0.  0.  0.  0. -1.]]\n",
      "subarry: [4]\n"
     ]
    },
    {
     "data": {
      "text/plain": [
       "4"
      ]
     },
     "execution_count": 23,
     "metadata": {},
     "output_type": "execute_result"
    }
   ],
   "source": [
    "maxSubArray([-2, 0, -2, 4, -1])"
   ]
  },
  {
   "cell_type": "markdown",
   "metadata": {},
   "source": [
    "__Testing Edgecase__"
   ]
  },
  {
   "cell_type": "code",
   "execution_count": 24,
   "metadata": {
    "collapsed": false
   },
   "outputs": [
    {
     "name": "stdout",
     "output_type": "stream",
     "text": [
      "2.0 0 0\n",
      "[[ 2.]]\n",
      "subarry: [2]\n"
     ]
    },
    {
     "data": {
      "text/plain": [
       "2"
      ]
     },
     "execution_count": 24,
     "metadata": {},
     "output_type": "execute_result"
    }
   ],
   "source": [
    "maxSubArray([2])"
   ]
  },
  {
   "cell_type": "code",
   "execution_count": 25,
   "metadata": {
    "collapsed": false
   },
   "outputs": [
    {
     "name": "stdout",
     "output_type": "stream",
     "text": [
      "-2.0 0 0\n",
      "[[-2.]]\n",
      "subarry: [-2]\n"
     ]
    },
    {
     "data": {
      "text/plain": [
       "-2"
      ]
     },
     "execution_count": 25,
     "metadata": {},
     "output_type": "execute_result"
    }
   ],
   "source": [
    "maxSubArray([-2])"
   ]
  },
  {
   "cell_type": "code",
   "execution_count": 26,
   "metadata": {
    "collapsed": false
   },
   "outputs": [
    {
     "name": "stdout",
     "output_type": "stream",
     "text": [
      "-2.0 0 0\n",
      "[[-2. -9.]\n",
      " [ 0. -7.]]\n",
      "subarry: [-2]\n"
     ]
    },
    {
     "data": {
      "text/plain": [
       "-2"
      ]
     },
     "execution_count": 26,
     "metadata": {},
     "output_type": "execute_result"
    }
   ],
   "source": [
    "maxSubArray([-2, -7])"
   ]
  },
  {
   "cell_type": "code",
   "execution_count": 27,
   "metadata": {
    "collapsed": false
   },
   "outputs": [
    {
     "name": "stdout",
     "output_type": "stream",
     "text": [
      "0.0 0 0\n",
      "[[ 0.]]\n",
      "subarry: [0]\n"
     ]
    },
    {
     "data": {
      "text/plain": [
       "0"
      ]
     },
     "execution_count": 27,
     "metadata": {},
     "output_type": "execute_result"
    }
   ],
   "source": [
    "maxSubArray([0])"
   ]
  },
  {
   "cell_type": "code",
   "execution_count": 28,
   "metadata": {
    "collapsed": false
   },
   "outputs": [
    {
     "name": "stdout",
     "output_type": "stream",
     "text": [
      "-1.0 0 0\n",
      "[[ -1.   0.   5.  -4.  -6.  24.]\n",
      " [  0.   1.   6.  -3.  -5.  25.]\n",
      " [  0.   0.   5.  -4.  -6.  24.]\n",
      " [  0.   0.   0.  -9. -11.  19.]\n",
      " [  0.   0.   0.   0.  -2.  28.]\n",
      " [  0.   0.   0.   0.   0.  30.]]\n",
      "subarry: [30]\n"
     ]
    },
    {
     "data": {
      "text/plain": [
       "30"
      ]
     },
     "execution_count": 28,
     "metadata": {},
     "output_type": "execute_result"
    }
   ],
   "source": [
    "maxSubArray([-1, 1, 5, -9, -2, 30])"
   ]
  }
 ],
 "metadata": {
  "kernelspec": {
   "display_name": "Python 2",
   "language": "python",
   "name": "python2"
  },
  "language_info": {
   "codemirror_mode": {
    "name": "ipython",
    "version": 2
   },
   "file_extension": ".py",
   "mimetype": "text/x-python",
   "name": "python",
   "nbconvert_exporter": "python",
   "pygments_lexer": "ipython2",
   "version": "2.7.11"
  }
 },
 "nbformat": 4,
 "nbformat_minor": 2
}
