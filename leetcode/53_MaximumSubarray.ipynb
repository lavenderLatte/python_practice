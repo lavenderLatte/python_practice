{
 "cells": [
  {
   "cell_type": "markdown",
   "metadata": {},
   "source": [
    "Find the contiguous subarray within an array (containing at least one number) which has the largest sum.\n",
    "\n",
    "For example, given the array [-2,1,-3,4,-1,2,1,-5,4],\n",
    "the contiguous subarray [4,-1,2,1] has the largest sum = 6.\n",
    "\n",
    "source: https://leetcode.com/problems/maximum-subarray/description/"
   ]
  },
  {
   "cell_type": "code",
   "execution_count": 3,
   "metadata": {
    "collapsed": true
   },
   "outputs": [],
   "source": [
    "import numpy as np"
   ]
  },
  {
   "cell_type": "code",
   "execution_count": 59,
   "metadata": {
    "collapsed": false
   },
   "outputs": [],
   "source": [
    "def maxSubArray(nums): # O(N^2)\n",
    "    \"\"\"   \n",
    "    Input : list; nums\n",
    "    Output: int\n",
    "    \n",
    "    >>> maxSubArray([-2,1,-3,4,-1,2,1,-5,4])\n",
    "    6\n",
    "    >>> maxSubArray([5, 7])\n",
    "    12\n",
    "    >>> maxSubArray([5, -3])\n",
    "    5\n",
    "    >>> maxSubArray([5, -7])\n",
    "    5\n",
    "    >>> maxSubArray([-5, 7])\n",
    "    7\n",
    "    >>> maxSubArray([2])\n",
    "    2\n",
    "    >>> maxSubArray([-2])\n",
    "    -2\n",
    "    >>> maxSubArray([-2, -7])\n",
    "    -2\n",
    "    >>> maxSubArray([0])\n",
    "    0\n",
    "    \"\"\"\n",
    "    \n",
    "    ARRYLEN = len(nums)\n",
    "    firstIter = True\n",
    "    \n",
    "    # create n x m matrix that's filled with zeros\n",
    "    mtx = np.zeros((ARRYLEN, ARRYLEN)) # ???? time complexity of this\n",
    "    \n",
    "    for n in range(ARRYLEN):        # n-times\n",
    "        # start each row\n",
    "        mtx[n][n] = nums[n]\n",
    "        print mtx\n",
    "        \n",
    "        if firstIter:\n",
    "            maxSum = mtx[n][n]\n",
    "            subTailIdx = n\n",
    "            subHeadIdx = n\n",
    "            firstIter = False\n",
    "#             print (subTailIdx, subTailIdx)\n",
    "        \n",
    "        for m in range(n+1, ARRYLEN): # (n)+(n-1)+(n-1)+ ... + 1 -> n-times\n",
    "            # recurrsive subproblem rule\n",
    "            mtx[n][m] = mtx[n][m-1] + nums[m]\n",
    "            \n",
    "            if mtx[n][m] > maxSum:\n",
    "                print 'maxsum:', maxSum\n",
    "                print 'mtx[n][m]', mtx[n][m]\n",
    "                maxSum = mtx[n][m]\n",
    "                subTailIdx = m\n",
    "                subHeadIdx = n\n",
    "                print 'maxsum:', maxSum\n",
    "                print (subTailIdx, subTailIdx)\n",
    "                \n",
    "    print mtx\n",
    "    print \"subarry:\", nums[subHeadIdx : (subTailIdx + 1)] # O(k)\n",
    "    return int(maxSum)"
   ]
  },
  {
   "cell_type": "markdown",
   "metadata": {},
   "source": [
    "__Testing Basecase__"
   ]
  },
  {
   "cell_type": "code",
   "execution_count": null,
   "metadata": {
    "collapsed": false
   },
   "outputs": [],
   "source": [
    "maxSubArray([-2,1,-3,4,-1,2,1,-5,4])"
   ]
  },
  {
   "cell_type": "code",
   "execution_count": null,
   "metadata": {
    "collapsed": false
   },
   "outputs": [],
   "source": [
    "maxSubArray([5, 7])"
   ]
  },
  {
   "cell_type": "code",
   "execution_count": null,
   "metadata": {
    "collapsed": false
   },
   "outputs": [],
   "source": [
    "maxSubArray([5, -3])"
   ]
  },
  {
   "cell_type": "code",
   "execution_count": null,
   "metadata": {
    "collapsed": false
   },
   "outputs": [],
   "source": [
    "maxSubArray([5, -7])"
   ]
  },
  {
   "cell_type": "code",
   "execution_count": 60,
   "metadata": {
    "collapsed": false
   },
   "outputs": [
    {
     "name": "stdout",
     "output_type": "stream",
     "text": [
      "[[-5.  0.]\n",
      " [ 0.  0.]]\n",
      "maxsum: -5.0\n",
      "mtx[n][m] 2.0\n",
      "maxsum: 2.0\n",
      "(1, 1)\n",
      "[[-5.  2.]\n",
      " [ 0.  7.]]\n",
      "[[-5.  2.]\n",
      " [ 0.  7.]]\n",
      "subarry: [-5, 7]\n"
     ]
    },
    {
     "data": {
      "text/plain": [
       "2"
      ]
     },
     "execution_count": 60,
     "metadata": {},
     "output_type": "execute_result"
    }
   ],
   "source": [
    "maxSubArray([-5, 7]) #!!!! 7 "
   ]
  },
  {
   "cell_type": "markdown",
   "metadata": {},
   "source": [
    "__Testing Edgecase__"
   ]
  },
  {
   "cell_type": "code",
   "execution_count": 54,
   "metadata": {
    "collapsed": false
   },
   "outputs": [
    {
     "name": "stdout",
     "output_type": "stream",
     "text": [
      "[[ 2.]]\n",
      "[[ 2.]]\n",
      "subarry: [2]\n"
     ]
    },
    {
     "data": {
      "text/plain": [
       "2"
      ]
     },
     "execution_count": 54,
     "metadata": {},
     "output_type": "execute_result"
    }
   ],
   "source": [
    "maxSubArray([2]) #!!!!"
   ]
  },
  {
   "cell_type": "code",
   "execution_count": 55,
   "metadata": {
    "collapsed": false
   },
   "outputs": [
    {
     "name": "stdout",
     "output_type": "stream",
     "text": [
      "[[-2.]]\n",
      "[[-2.]]\n",
      "subarry: [-2]\n"
     ]
    },
    {
     "data": {
      "text/plain": [
       "-2"
      ]
     },
     "execution_count": 55,
     "metadata": {},
     "output_type": "execute_result"
    }
   ],
   "source": [
    "maxSubArray([-2]) "
   ]
  },
  {
   "cell_type": "code",
   "execution_count": 56,
   "metadata": {
    "collapsed": false
   },
   "outputs": [
    {
     "name": "stdout",
     "output_type": "stream",
     "text": [
      "[[-2.  0.]\n",
      " [ 0.  0.]]\n",
      "[[-2. -9.]\n",
      " [ 0. -7.]]\n",
      "[[-2. -9.]\n",
      " [ 0. -7.]]\n",
      "subarry: [-2]\n"
     ]
    },
    {
     "data": {
      "text/plain": [
       "-2"
      ]
     },
     "execution_count": 56,
     "metadata": {},
     "output_type": "execute_result"
    }
   ],
   "source": [
    "maxSubArray([-2, -7])"
   ]
  },
  {
   "cell_type": "code",
   "execution_count": 57,
   "metadata": {
    "collapsed": false
   },
   "outputs": [
    {
     "name": "stdout",
     "output_type": "stream",
     "text": [
      "[[ 0.]]\n",
      "[[ 0.]]\n",
      "subarry: [0]\n"
     ]
    },
    {
     "data": {
      "text/plain": [
       "0"
      ]
     },
     "execution_count": 57,
     "metadata": {},
     "output_type": "execute_result"
    }
   ],
   "source": [
    "maxSubArray([0])"
   ]
  },
  {
   "cell_type": "code",
   "execution_count": null,
   "metadata": {
    "collapsed": true
   },
   "outputs": [],
   "source": []
  }
 ],
 "metadata": {
  "kernelspec": {
   "display_name": "Python 2",
   "language": "python",
   "name": "python2"
  },
  "language_info": {
   "codemirror_mode": {
    "name": "ipython",
    "version": 2
   },
   "file_extension": ".py",
   "mimetype": "text/x-python",
   "name": "python",
   "nbconvert_exporter": "python",
   "pygments_lexer": "ipython2",
   "version": "2.7.11"
  }
 },
 "nbformat": 4,
 "nbformat_minor": 2
}
