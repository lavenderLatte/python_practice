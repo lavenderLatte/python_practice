{
 "cells": [
  {
   "cell_type": "markdown",
   "metadata": {},
   "source": [
    "We define a square number to be an integer whose square root is another integer. For example, 1, 4, 9, and 16 are all square numbers as they are the respective squares of 1, 2, 3, and 4.\n",
    "\n",
    "Emma has two integers, a and b, and wants to count the number of square numbers in the inclusive interval [a, b]. For example, if a = 4 and b = 10, Emma's count would be 2 because the only square numbers in {4, 5, 6, 7, 8, 9, 10} are 4 and 9.\n",
    "\n",
    "Complete the getMinimumUniqueSum function in the editor below. It has 1 parameter: an array of n strings, arr. Each string i in arr contains two space-separated integers describing the respective values of ai and bi. It must return an array of n integers where each element i contains the number of square numbers in the inclusive range between ai and bi (parsed from arri).\n",
    "\n",
    "__Input Format__ <br>\n",
    "Locked stub code in the editor reads the following input from stdin and passes it to the function:\n",
    "The first line contains an integer, n, denoting the size of the arr array.\n",
    "Each line i of the n subsequent lines (where 0 ≤ i < n) contains a string in the form of two space-separated integers describing the respective values of ai and bi for arri."
   ]
  },
  {
   "cell_type": "code",
   "execution_count": 4,
   "metadata": {
    "collapsed": false
   },
   "outputs": [],
   "source": [
    "import math\n",
    "\n",
    "def getMinimumUniqueSum(arr):\n",
    "    \"\"\"\n",
    "    INPUT : list of str\n",
    "    OUTPUT: list of int\n",
    "    \n",
    "    >>> getMinimumUniqueSum(['3 9'])\n",
    "    [2]\n",
    "    >>> getMinimumUniqueSum(['3 9','17 24'])\n",
    "    [2, 0]\n",
    "    >>> getMinimumUniqueSum(['2 27'])\n",
    "    [4]\n",
    "    \"\"\"\n",
    "\n",
    "    retList = []\n",
    "\n",
    "    for i in arr:\n",
    "        rangeList = i.split(\" \")\n",
    "        a = int(rangeList[0])\n",
    "        b = int(rangeList[1])\n",
    "\n",
    "        sqrtA = math.sqrt(a) \n",
    "        ceilA = math.ceil(sqrtA)\n",
    "\n",
    "        cnt = 0\n",
    "        while ceilA * ceilA <= b:\n",
    "            cnt += 1\n",
    "            ceilA += 1\n",
    "\n",
    "        retList.append(cnt)\n",
    "\n",
    "    return retList"
   ]
  },
  {
   "cell_type": "code",
   "execution_count": 5,
   "metadata": {
    "collapsed": false
   },
   "outputs": [
    {
     "data": {
      "text/plain": [
       "[2]"
      ]
     },
     "execution_count": 5,
     "metadata": {},
     "output_type": "execute_result"
    }
   ],
   "source": [
    "getMinimumUniqueSum(['3 9'])"
   ]
  },
  {
   "cell_type": "code",
   "execution_count": 6,
   "metadata": {
    "collapsed": false
   },
   "outputs": [
    {
     "data": {
      "text/plain": [
       "[2, 0]"
      ]
     },
     "execution_count": 6,
     "metadata": {},
     "output_type": "execute_result"
    }
   ],
   "source": [
    "getMinimumUniqueSum(['3 9','17 24'])"
   ]
  },
  {
   "cell_type": "code",
   "execution_count": 7,
   "metadata": {
    "collapsed": false
   },
   "outputs": [
    {
     "data": {
      "text/plain": [
       "[4]"
      ]
     },
     "execution_count": 7,
     "metadata": {},
     "output_type": "execute_result"
    }
   ],
   "source": [
    "getMinimumUniqueSum(['2 27'])"
   ]
  }
 ],
 "metadata": {
  "kernelspec": {
   "display_name": "Python 2",
   "language": "python",
   "name": "python2"
  },
  "language_info": {
   "codemirror_mode": {
    "name": "ipython",
    "version": 2
   },
   "file_extension": ".py",
   "mimetype": "text/x-python",
   "name": "python",
   "nbconvert_exporter": "python",
   "pygments_lexer": "ipython2",
   "version": "2.7.11"
  }
 },
 "nbformat": 4,
 "nbformat_minor": 2
}
