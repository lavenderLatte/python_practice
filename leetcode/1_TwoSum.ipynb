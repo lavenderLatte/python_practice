{
 "cells": [
  {
   "cell_type": "markdown",
   "metadata": {},
   "source": [
    "https://leetcode.com/problems/two-sum/description/\n",
    "\n",
    "Given an array of integers, return indices of the two numbers(a, b) such that they add up to a specific target.\n",
    "\n",
    "You may assume that each __input would have exactly one solution__, and you may __not use the same element twice__."
   ]
  },
  {
   "cell_type": "code",
   "execution_count": 1,
   "metadata": {
    "collapsed": true
   },
   "outputs": [],
   "source": [
    "nums = [2, 7, 11, 15]\n",
    "target = 22"
   ]
  },
  {
   "cell_type": "markdown",
   "metadata": {},
   "source": [
    "### Primary Solution"
   ]
  },
  {
   "cell_type": "code",
   "execution_count": 2,
   "metadata": {
    "collapsed": true
   },
   "outputs": [],
   "source": [
    "def lstToDict(intList):\n",
    "    \"\"\"\n",
    "    Converts a list of integers to dictionary \n",
    "    Dictionary takes each item of list as key and index number as value.\n",
    "\n",
    "    >>> lstToDict([2, 7, 11, 15])\n",
    "    {2: 0, 7: 1, 11: 2, 15: 3}   \n",
    "    \"\"\"\n",
    "    intDict = {}\n",
    "    \n",
    "    for i in range(len(intList)):\n",
    "        intDict[intList[i]] = i\n",
    "    \n",
    "    return intDict"
   ]
  },
  {
   "cell_type": "code",
   "execution_count": 3,
   "metadata": {
    "collapsed": true
   },
   "outputs": [],
   "source": [
    "def findTwo_dict(intList, sumTarget): # O(N), Runtime: 29 ms\n",
    "    \"\"\"\n",
    "    Return indicies of two numbers that sum of those are equal to target ingeter.\n",
    "    \n",
    "    >>> findTwo_dict([2, 7, 11, 15], 9)\n",
    "    [0, 1]\n",
    "    >>> findTwo_dict([3,2,4], 6)\n",
    "    [1, 2]\n",
    "    \"\"\"\n",
    "    \n",
    "    intDict = lstToDict(intList)\n",
    "    \n",
    "    aIdx = 0\n",
    "    while aIdx < len(intList):        # O(N)\n",
    "        \n",
    "        b = sumTarget - intList[aIdx]        \n",
    "        if b in intDict:              # O(1)\n",
    "            bIdx = intDict[b]         # O(1)\n",
    "            if bIdx != aIdx:\n",
    "                return [aIdx, bIdx]\n",
    "            else:\n",
    "                aIdx += 1\n",
    "        else:\n",
    "            aIdx += 1"
   ]
  },
  {
   "cell_type": "code",
   "execution_count": 4,
   "metadata": {
    "collapsed": false,
    "scrolled": true
   },
   "outputs": [
    {
     "data": {
      "text/plain": [
       "[1, 3]"
      ]
     },
     "execution_count": 4,
     "metadata": {},
     "output_type": "execute_result"
    }
   ],
   "source": [
    "findTwo_dict(nums, target)"
   ]
  },
  {
   "cell_type": "code",
   "execution_count": 5,
   "metadata": {
    "collapsed": false
   },
   "outputs": [
    {
     "data": {
      "text/plain": [
       "[1, 2]"
      ]
     },
     "execution_count": 5,
     "metadata": {},
     "output_type": "execute_result"
    }
   ],
   "source": [
    "findTwo_dict([3,2,4], 6)"
   ]
  },
  {
   "cell_type": "markdown",
   "metadata": {},
   "source": [
    "### Other Solution 1"
   ]
  },
  {
   "cell_type": "code",
   "execution_count": 6,
   "metadata": {
    "collapsed": true
   },
   "outputs": [],
   "source": [
    "def findTwo_linear(intList, sumTarget): # O(N^2), Runtime: 29 ms\n",
    "    \"\"\"\n",
    "    Return indicies of two numbers that sum of those are equal to target ingeter.\n",
    "    \n",
    "    >>> findTwo_linear([2, 7, 11, 15], 9)\n",
    "    [0, 1]\n",
    "    >>> findTwo_linear([3,2,4], 6)\n",
    "    [1, 2]\n",
    "    \"\"\"\n",
    "    \n",
    "    aIdx = 0\n",
    "    while aIdx < (len(intList) - 1): # O(N - 1)\n",
    "        \n",
    "        bIdx = aIdx + 1\n",
    "        while bIdx < len(intList): # (n-1) + (n-2) + (n-3) + ... => O(N^2) ???\n",
    "            if intList[aIdx] + intList[bIdx] == sumTarget:\n",
    "                return [aIdx, bIdx]\n",
    "            else:\n",
    "                bIdx += 1\n",
    "        aIdx += 1"
   ]
  },
  {
   "cell_type": "code",
   "execution_count": 7,
   "metadata": {
    "collapsed": false
   },
   "outputs": [
    {
     "data": {
      "text/plain": [
       "[1, 3]"
      ]
     },
     "execution_count": 7,
     "metadata": {},
     "output_type": "execute_result"
    }
   ],
   "source": [
    "findTwo_linear(nums, target)"
   ]
  },
  {
   "cell_type": "code",
   "execution_count": 8,
   "metadata": {
    "collapsed": false
   },
   "outputs": [
    {
     "data": {
      "text/plain": [
       "[1, 2]"
      ]
     },
     "execution_count": 8,
     "metadata": {},
     "output_type": "execute_result"
    }
   ],
   "source": [
    "findTwo_linear([3,2,4], 6)"
   ]
  },
  {
   "cell_type": "markdown",
   "metadata": {},
   "source": [
    "### Other Solution 2 "
   ]
  },
  {
   "cell_type": "code",
   "execution_count": 9,
   "metadata": {
    "collapsed": false
   },
   "outputs": [],
   "source": [
    "def findTwo_sub(intList, sumTarget): # O(N^2), Runtime: 29 ms\n",
    "    \"\"\"\n",
    "    Return indicies of two numbers that sum of those are equal to target ingeter.\n",
    "    \n",
    "    >>> findTwo_sub([2, 7, 11, 15], 9)\n",
    "    [0, 1]\n",
    "    >>> findTwo_sub([3,2,4], 6)\n",
    "    [1, 2]\n",
    "    \"\"\"\n",
    "\n",
    "    aIdx = 0\n",
    "    while aIdx < len(intList):       # O(N)\n",
    "\n",
    "        b = sumTarget - intList[aIdx] \n",
    "        if b in intList:             # O(N)\n",
    "            bIdx = intList.index(b)  # O(k)\n",
    "            if bIdx != aIdx:\n",
    "                return [aIdx, bIdx]\n",
    "            else:\n",
    "                aIdx += 1\n",
    "        else:\n",
    "            aIdx += 1"
   ]
  },
  {
   "cell_type": "code",
   "execution_count": 10,
   "metadata": {
    "collapsed": false
   },
   "outputs": [
    {
     "data": {
      "text/plain": [
       "[1, 3]"
      ]
     },
     "execution_count": 10,
     "metadata": {},
     "output_type": "execute_result"
    }
   ],
   "source": [
    "findTwo_sub(nums, target)"
   ]
  },
  {
   "cell_type": "code",
   "execution_count": 11,
   "metadata": {
    "collapsed": false
   },
   "outputs": [
    {
     "data": {
      "text/plain": [
       "[1, 2]"
      ]
     },
     "execution_count": 11,
     "metadata": {},
     "output_type": "execute_result"
    }
   ],
   "source": [
    "findTwo_sub([3,2,4], 6)"
   ]
  }
 ],
 "metadata": {
  "kernelspec": {
   "display_name": "Python 2",
   "language": "python",
   "name": "python2"
  },
  "language_info": {
   "codemirror_mode": {
    "name": "ipython",
    "version": 2
   },
   "file_extension": ".py",
   "mimetype": "text/x-python",
   "name": "python",
   "nbconvert_exporter": "python",
   "pygments_lexer": "ipython2",
   "version": "2.7.11"
  }
 },
 "nbformat": 4,
 "nbformat_minor": 2
}
