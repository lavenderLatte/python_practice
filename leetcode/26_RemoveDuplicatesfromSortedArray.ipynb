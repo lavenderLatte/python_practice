{
 "cells": [
  {
   "cell_type": "markdown",
   "metadata": {},
   "source": [
    "Given a sorted array, remove the duplicates in-place such that each element appear only once and return the new length. <br>\n",
    "Do not allocate extra space for another array, you must do this by modifying the input array in-place with O(1) extra memory.\n",
    "\n",
    "\n",
    "Example:\n",
    "\n",
    "Given nums = [1,1,2],\n",
    "\n",
    "Your function should return length = 2, with the first two elements of nums being 1 and 2 respectively. <br>\n",
    "It doesn't matter what you leave beyond the new length.\n",
    "\n",
    "source: https://leetcode.com/problems/remove-duplicates-from-sorted-array/description/"
   ]
  },
  {
   "cell_type": "code",
   "execution_count": null,
   "metadata": {
    "collapsed": true
   },
   "outputs": [],
   "source": [
    "def removeDuplicates(nums):\n",
    "    \"\"\"\n",
    "    Takes list of integers and returns the length of non-duplicated list of it.\n",
    "    \n",
    "    >>> removeDuplicates([])\n",
    "    0\n",
    "    >>> removeDuplicates([1, 1, 2])\n",
    "    2\n",
    "    >>> removeDuplicates([0, 0, 0, 1, 1])\n",
    "    2\n",
    "    >>> removeDuplicates([-2, -1, -1, 1])\n",
    "    3\n",
    "    >>> removeDuplicates([101, 101, 237, 580, 880, 880, 980])\n",
    "    6\n",
    "    \"\"\"\n",
    "    if len(nums) == 0:\n",
    "        return 0\n",
    "    \n",
    "    this = nums[0]\n",
    "    idx = 1\n",
    "    SOME_FLOAT = 5.55\n",
    "    LIST_LEN = len(nums)\n",
    "    \n",
    "    for i in range(1, LIST_LEN):\n",
    "        other = nums[i]\n",
    "        # when following number isn't duplicated number \n",
    "        if other != this:\n",
    "            # when writing pointer isn't same as checking pointer\n",
    "            # overwrite the duplicate number with non-duplicate number\n",
    "            # and fill up the place where the unique number was with float\n",
    "            if i != idx:\n",
    "                nums[idx] = other\n",
    "                nums[i] = SOME_FLOAT\n",
    "            this = other\n",
    "            idx += 1\n",
    "        # when following number is duplicated number, replace with some float\n",
    "        else:\n",
    "            nums[i] = SOME_FLOAT\n",
    "    \n",
    "    for n in range(LIST_LEN):\n",
    "        if type(nums[LIST_LEN-1-n]) == float:\n",
    "            nums.pop()   \n",
    "    \n",
    "    return len(nums)"
   ]
  },
  {
   "cell_type": "markdown",
   "metadata": {},
   "source": [
    "## Improved Version"
   ]
  },
  {
   "cell_type": "code",
   "execution_count": 1,
   "metadata": {
    "collapsed": true
   },
   "outputs": [],
   "source": [
    "def removeDuplicates(nums): # O(N + M)\n",
    "    \"\"\"\n",
    "    Takes list of integers and returns the length of non-duplicated list of it.\n",
    "    \n",
    "    >>> removeDuplicates([])\n",
    "    0\n",
    "    >>> removeDuplicates([1, 1, 2])\n",
    "    2\n",
    "    >>> removeDuplicates([0, 0, 0, 1, 1])\n",
    "    2\n",
    "    >>> removeDuplicates([-2, -1, -1, 1])\n",
    "    3\n",
    "    >>> removeDuplicates([101, 101, 237, 580, 880, 880, 980])\n",
    "    6\n",
    "    \"\"\"\n",
    "    if len(nums) == 0:\n",
    "        return 0\n",
    "    \n",
    "    this = nums[0]\n",
    "    idx = 1\n",
    "    LIST_LEN = len(nums)\n",
    "    \n",
    "    for i in range(1, LIST_LEN): # O(N)\n",
    "        other = nums[i]\n",
    "        # when following number isn't duplicated number \n",
    "        if other != this:\n",
    "            # when writing pointer isn't same as checking pointer\n",
    "            # overwrite the duplicate number with non-duplicate number\n",
    "            if i != idx:\n",
    "                nums[idx] = other\n",
    "            this = other\n",
    "            idx += 1\n",
    "    print \"(1)\",nums\n",
    "\n",
    "    # after the first several elements are filled with unique number,\n",
    "    # popping out duplicated numbers out from the list\n",
    "    n = len(nums) - 1\n",
    "    while n >= idx:              # O(M)\n",
    "        nums.pop()\n",
    "        n -= 1  \n",
    "    \n",
    "    print \"(2)\",nums\n",
    "    return len(nums)"
   ]
  },
  {
   "cell_type": "code",
   "execution_count": 2,
   "metadata": {
    "collapsed": false
   },
   "outputs": [
    {
     "data": {
      "text/plain": [
       "0"
      ]
     },
     "execution_count": 2,
     "metadata": {},
     "output_type": "execute_result"
    }
   ],
   "source": [
    "removeDuplicates([])"
   ]
  },
  {
   "cell_type": "code",
   "execution_count": 3,
   "metadata": {
    "collapsed": false
   },
   "outputs": [
    {
     "name": "stdout",
     "output_type": "stream",
     "text": [
      "(1) [7]\n",
      "(2) [7]\n"
     ]
    },
    {
     "data": {
      "text/plain": [
       "1"
      ]
     },
     "execution_count": 3,
     "metadata": {},
     "output_type": "execute_result"
    }
   ],
   "source": [
    "removeDuplicates([7])"
   ]
  },
  {
   "cell_type": "code",
   "execution_count": 4,
   "metadata": {
    "collapsed": false
   },
   "outputs": [
    {
     "name": "stdout",
     "output_type": "stream",
     "text": [
      "(1) [2, 2, 2]\n",
      "(2) [2]\n"
     ]
    },
    {
     "data": {
      "text/plain": [
       "1"
      ]
     },
     "execution_count": 4,
     "metadata": {},
     "output_type": "execute_result"
    }
   ],
   "source": [
    "removeDuplicates([2, 2, 2])"
   ]
  },
  {
   "cell_type": "code",
   "execution_count": 5,
   "metadata": {
    "collapsed": false
   },
   "outputs": [
    {
     "name": "stdout",
     "output_type": "stream",
     "text": [
      "(1) [1, 2, 2]\n",
      "(2) [1, 2]\n"
     ]
    },
    {
     "data": {
      "text/plain": [
       "2"
      ]
     },
     "execution_count": 5,
     "metadata": {},
     "output_type": "execute_result"
    }
   ],
   "source": [
    "removeDuplicates([1, 2, 2])"
   ]
  },
  {
   "cell_type": "code",
   "execution_count": 6,
   "metadata": {
    "collapsed": false
   },
   "outputs": [
    {
     "name": "stdout",
     "output_type": "stream",
     "text": [
      "(1) [1, 2, 2]\n",
      "(2) [1, 2]\n"
     ]
    },
    {
     "data": {
      "text/plain": [
       "2"
      ]
     },
     "execution_count": 6,
     "metadata": {},
     "output_type": "execute_result"
    }
   ],
   "source": [
    "removeDuplicates([1, 1, 2])"
   ]
  },
  {
   "cell_type": "code",
   "execution_count": 7,
   "metadata": {
    "collapsed": false
   },
   "outputs": [
    {
     "name": "stdout",
     "output_type": "stream",
     "text": [
      "(1) [0, 1, 0, 1, 1]\n",
      "(2) [0, 1]\n"
     ]
    },
    {
     "data": {
      "text/plain": [
       "2"
      ]
     },
     "execution_count": 7,
     "metadata": {},
     "output_type": "execute_result"
    }
   ],
   "source": [
    "removeDuplicates([0, 0, 0, 1, 1])"
   ]
  },
  {
   "cell_type": "code",
   "execution_count": 8,
   "metadata": {
    "collapsed": false
   },
   "outputs": [
    {
     "name": "stdout",
     "output_type": "stream",
     "text": [
      "(1) [-2, -1, 1, 1]\n",
      "(2) [-2, -1, 1]\n"
     ]
    },
    {
     "data": {
      "text/plain": [
       "3"
      ]
     },
     "execution_count": 8,
     "metadata": {},
     "output_type": "execute_result"
    }
   ],
   "source": [
    "removeDuplicates([-2, -1, -1, 1])"
   ]
  },
  {
   "cell_type": "code",
   "execution_count": 9,
   "metadata": {
    "collapsed": false
   },
   "outputs": [
    {
     "name": "stdout",
     "output_type": "stream",
     "text": [
      "(1) [-3, -2, -1, 1, 1]\n",
      "(2) [-3, -2, -1, 1]\n"
     ]
    },
    {
     "data": {
      "text/plain": [
       "4"
      ]
     },
     "execution_count": 9,
     "metadata": {},
     "output_type": "execute_result"
    }
   ],
   "source": [
    "removeDuplicates([-3, -2, -1, -1, 1])"
   ]
  },
  {
   "cell_type": "code",
   "execution_count": 10,
   "metadata": {
    "collapsed": false
   },
   "outputs": [
    {
     "name": "stdout",
     "output_type": "stream",
     "text": [
      "(1) [101, 237, 580, 880, 980, 880, 980]\n",
      "(2) [101, 237, 580, 880, 980]\n"
     ]
    },
    {
     "data": {
      "text/plain": [
       "5"
      ]
     },
     "execution_count": 10,
     "metadata": {},
     "output_type": "execute_result"
    }
   ],
   "source": [
    "removeDuplicates([101, 101, 237, 580, 880, 880, 980])"
   ]
  }
 ],
 "metadata": {
  "kernelspec": {
   "display_name": "Python 2",
   "language": "python",
   "name": "python2"
  },
  "language_info": {
   "codemirror_mode": {
    "name": "ipython",
    "version": 2
   },
   "file_extension": ".py",
   "mimetype": "text/x-python",
   "name": "python",
   "nbconvert_exporter": "python",
   "pygments_lexer": "ipython2",
   "version": "2.7.11"
  }
 },
 "nbformat": 4,
 "nbformat_minor": 2
}
