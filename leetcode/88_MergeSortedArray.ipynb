{
 "cells": [
  {
   "cell_type": "markdown",
   "metadata": {},
   "source": [
    "Given two sorted integer arrays nums1 and nums2, merge nums2 into nums1 as one sorted array.\n",
    "\n",
    "Note:\n",
    "You may assume that nums1 has enough space (size that is greater or equal to m + n) to hold additional elements from nums2. The number of elements initialized in nums1 and nums2 are m and n respectively.\n",
    "\n",
    "\n",
    "source: https://leetcode.com/problems/merge-sorted-array/description/"
   ]
  },
  {
   "cell_type": "code",
   "execution_count": null,
   "metadata": {
    "collapsed": true
   },
   "outputs": [],
   "source": [
    "\"\"\"\n",
    "    INPUT : nums1; sorted int list\n",
    "            m; int – the number of elements in nums1\n",
    "            nums2; sorted int list\n",
    "            n; int – the number of elements in nums2\n",
    "    OUTPUT: NONE; Do not return anything, modify nums1 in-place instead.\n",
    "    \n",
    "    \n",
    "    >>> merge([1,2,3,0], 3, [1], 1) \n",
    "    [1,1,2,3]\n",
    "    >>> merge([1,2,3,0], 2, [1], 1) \n",
    "    [1,1,2,0]\n",
    "    >>> merge([1,2,3], 2, [1], 1)\n",
    "    [1,1,2]\n",
    "    \n",
    "    ----> Basically, this function modifies nums1[] with number of items (m and n) I choose.\n",
    "    \n",
    "    >>> merge([5, 6, 7, 10, 0, 0, 0, 0, 0], 4, [1, 2, 5, 9, 11], 5)\n",
    "    [1, 2, 5, 5, 6, 7, 9, 10, 11]\n",
    "    >>> merge([5, 6, 7, 10], 1, [1, 2, 5, 9, 11], 1)\n",
    "    [1,5,7,10] ----> change first 2(1+1) element of nums1[]\n",
    "    >>> merge([5, 6, 7, 10], 2, [1, 2, 5, 9, 11], 2)\n",
    "    [1,2,5,6]\n",
    "    >>> merge([5, 6, 7, 10], 1, [1, 2, 5, 9, 11], 2)\n",
    "    [1,2,5,10]\n",
    "    >>> merge([5, 6, 7, 10], 0, [1, 2, 5, 9, 11], 0)\n",
    "    [5,6,7,10]\n",
    "    \n",
    "    >>> merge([], 0, [], 0) \n",
    "    []\n",
    "    >>> merge([], 0, [8], 0) \n",
    "    []\n",
    "    >>> merge([5], 0, [8], 1) \n",
    "    [8]\n",
    "    >>> merge([5, 0], 1, [8], 1) \n",
    "    [5, 8]\n",
    "    \n",
    "    >>> merge([0, 0], 0, [1], 1)\n",
    "    [1,0]\n",
    "    >>> merge([0, 0], 1, [1], 1)\n",
    "    [0,1]\n",
    "    \n",
    "    ## wrong test case since size of nums1 >= to m + n ## \n",
    "    >>> merge([], 0, [], 1)  ----> null pointer error!\n",
    "    >>> merge([], 0, [8], 1) ----> null pointer error!\n",
    "    >>> merge([5], 1, [8], 1) \n",
    "    [5] ?????\n",
    "    >>> merge([8], 1, [5], 1) \n",
    "    [5] ?????\n",
    "    >>> merge([0, 0], 2, [1], 1)\n",
    "    [0,0]\n",
    "\"\"\""
   ]
  },
  {
   "cell_type": "code",
   "execution_count": 23,
   "metadata": {
    "collapsed": true
   },
   "outputs": [],
   "source": [
    "def merge(nums1, m, nums2, n):\n",
    "    \n",
    "    n1Pointer = m - 1 \n",
    "    n2Pointer = n - 1\n",
    "    fillPointer = m + n - 1\n",
    "    \n",
    "    while (n2Pointer >= 0 and n1Pointer >= 0):\n",
    "        if nums2[n2Pointer] >= nums1[n1Pointer]:\n",
    "            nums1[fillPointer] = nums2[n2Pointer]\n",
    "            n2Pointer -= 1\n",
    "        else:\n",
    "            nums1[fillPointer] = nums1[n1Pointer]\n",
    "            n1Pointer -= 1\n",
    "        fillPointer -= 1\n",
    "        \n",
    "    # taking care of one of the arrays that we haven't still iterate through.      \n",
    "    while (n1Pointer >= 0 and fillPointer >= 0):\n",
    "        nums1[fillPointer] = nums1[n1Pointer]\n",
    "        n1Pointer -= 1\n",
    "        fillPointer -= 1\n",
    "    while (n2Pointer >= 0 and fillPointer >= 0):\n",
    "        nums1[fillPointer] = nums2[n2Pointer]\n",
    "        n2Pointer -= 1\n",
    "        fillPointer -= 1\n",
    "\n",
    "    return nums1        "
   ]
  },
  {
   "cell_type": "code",
   "execution_count": 24,
   "metadata": {
    "collapsed": false
   },
   "outputs": [
    {
     "data": {
      "text/plain": [
       "[1, 1, 2, 3]"
      ]
     },
     "execution_count": 24,
     "metadata": {},
     "output_type": "execute_result"
    }
   ],
   "source": [
    "merge([1,2,3,0], 3, [1], 1)"
   ]
  },
  {
   "cell_type": "code",
   "execution_count": 25,
   "metadata": {
    "collapsed": false
   },
   "outputs": [
    {
     "data": {
      "text/plain": [
       "[1, 1, 2, 0]"
      ]
     },
     "execution_count": 25,
     "metadata": {},
     "output_type": "execute_result"
    }
   ],
   "source": [
    "merge([1,2,3,0], 2, [1], 1)"
   ]
  },
  {
   "cell_type": "code",
   "execution_count": 26,
   "metadata": {
    "collapsed": false
   },
   "outputs": [
    {
     "data": {
      "text/plain": [
       "[1, 1, 2]"
      ]
     },
     "execution_count": 26,
     "metadata": {},
     "output_type": "execute_result"
    }
   ],
   "source": [
    "merge([1,2,3], 2, [1], 1)"
   ]
  },
  {
   "cell_type": "code",
   "execution_count": 27,
   "metadata": {
    "collapsed": false
   },
   "outputs": [
    {
     "data": {
      "text/plain": [
       "[1, 2, 5, 5, 6, 11]"
      ]
     },
     "execution_count": 27,
     "metadata": {},
     "output_type": "execute_result"
    }
   ],
   "source": [
    "merge([5, 6, 0, 0, 0, 0], 2, [1, 2, 5, 11], 4)"
   ]
  },
  {
   "cell_type": "code",
   "execution_count": 28,
   "metadata": {
    "collapsed": false
   },
   "outputs": [
    {
     "data": {
      "text/plain": [
       "[1, 2, 5, 5, 6, 7, 9, 10, 11]"
      ]
     },
     "execution_count": 28,
     "metadata": {},
     "output_type": "execute_result"
    }
   ],
   "source": [
    "merge([5, 6, 7, 10, 0, 0, 0, 0, 0], 4, [1, 2, 5, 9, 11], 5)"
   ]
  },
  {
   "cell_type": "code",
   "execution_count": 29,
   "metadata": {
    "collapsed": false
   },
   "outputs": [
    {
     "data": {
      "text/plain": [
       "[1, 5, 7, 10]"
      ]
     },
     "execution_count": 29,
     "metadata": {},
     "output_type": "execute_result"
    }
   ],
   "source": [
    "merge([5, 6, 7, 10], 1, [1, 2, 5, 9, 11], 1)"
   ]
  },
  {
   "cell_type": "code",
   "execution_count": 30,
   "metadata": {
    "collapsed": false
   },
   "outputs": [
    {
     "data": {
      "text/plain": [
       "[1, 2, 5, 6]"
      ]
     },
     "execution_count": 30,
     "metadata": {},
     "output_type": "execute_result"
    }
   ],
   "source": [
    "merge([5, 6, 7, 10], 2, [1, 2, 5, 9, 11], 2)"
   ]
  },
  {
   "cell_type": "code",
   "execution_count": 31,
   "metadata": {
    "collapsed": false
   },
   "outputs": [
    {
     "data": {
      "text/plain": [
       "[1, 2, 5, 10]"
      ]
     },
     "execution_count": 31,
     "metadata": {},
     "output_type": "execute_result"
    }
   ],
   "source": [
    "merge([5, 6, 7, 10], 1, [1, 2, 5, 9, 11], 2)"
   ]
  },
  {
   "cell_type": "code",
   "execution_count": 32,
   "metadata": {
    "collapsed": false
   },
   "outputs": [
    {
     "data": {
      "text/plain": [
       "[5, 6, 7, 10]"
      ]
     },
     "execution_count": 32,
     "metadata": {},
     "output_type": "execute_result"
    }
   ],
   "source": [
    "merge([5, 6, 7, 10], 0, [1, 2, 5, 9, 11], 0)"
   ]
  },
  {
   "cell_type": "code",
   "execution_count": 33,
   "metadata": {
    "collapsed": false
   },
   "outputs": [
    {
     "data": {
      "text/plain": [
       "[]"
      ]
     },
     "execution_count": 33,
     "metadata": {},
     "output_type": "execute_result"
    }
   ],
   "source": [
    "merge([], 0, [], 0) "
   ]
  },
  {
   "cell_type": "code",
   "execution_count": 34,
   "metadata": {
    "collapsed": false
   },
   "outputs": [
    {
     "data": {
      "text/plain": [
       "[]"
      ]
     },
     "execution_count": 34,
     "metadata": {},
     "output_type": "execute_result"
    }
   ],
   "source": [
    "merge([], 0, [8], 0) "
   ]
  },
  {
   "cell_type": "code",
   "execution_count": 35,
   "metadata": {
    "collapsed": false
   },
   "outputs": [
    {
     "data": {
      "text/plain": [
       "[8]"
      ]
     },
     "execution_count": 35,
     "metadata": {},
     "output_type": "execute_result"
    }
   ],
   "source": [
    "merge([5], 0, [8], 1)"
   ]
  },
  {
   "cell_type": "code",
   "execution_count": 36,
   "metadata": {
    "collapsed": false
   },
   "outputs": [
    {
     "data": {
      "text/plain": [
       "[5, 8]"
      ]
     },
     "execution_count": 36,
     "metadata": {},
     "output_type": "execute_result"
    }
   ],
   "source": [
    "merge([5, 0], 1, [8], 1)"
   ]
  },
  {
   "cell_type": "code",
   "execution_count": 37,
   "metadata": {
    "collapsed": false
   },
   "outputs": [
    {
     "data": {
      "text/plain": [
       "[1, 0]"
      ]
     },
     "execution_count": 37,
     "metadata": {},
     "output_type": "execute_result"
    }
   ],
   "source": [
    "merge([0, 0], 0, [1], 1)"
   ]
  },
  {
   "cell_type": "code",
   "execution_count": 38,
   "metadata": {
    "collapsed": false
   },
   "outputs": [
    {
     "data": {
      "text/plain": [
       "[0, 1]"
      ]
     },
     "execution_count": 38,
     "metadata": {},
     "output_type": "execute_result"
    }
   ],
   "source": [
    "merge([0, 0], 1, [1], 1)"
   ]
  }
 ],
 "metadata": {
  "kernelspec": {
   "display_name": "Python 2",
   "language": "python",
   "name": "python2"
  },
  "language_info": {
   "codemirror_mode": {
    "name": "ipython",
    "version": 2
   },
   "file_extension": ".py",
   "mimetype": "text/x-python",
   "name": "python",
   "nbconvert_exporter": "python",
   "pygments_lexer": "ipython2",
   "version": "2.7.11"
  }
 },
 "nbformat": 4,
 "nbformat_minor": 2
}
