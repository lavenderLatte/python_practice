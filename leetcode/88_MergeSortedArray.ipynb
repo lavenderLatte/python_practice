{
 "cells": [
  {
   "cell_type": "markdown",
   "metadata": {},
   "source": [
    "Given two sorted integer arrays nums1 and nums2, merge nums2 into nums1 as one sorted array.\n",
    "\n",
    "Note:\n",
    "You may assume that nums1 has enough space (size that is greater or equal to m + n) to hold additional elements from nums2. The number of elements initialized in nums1 and nums2 are m and n respectively.\n",
    "\n",
    "\n",
    "source: https://leetcode.com/problems/merge-sorted-array/description/"
   ]
  },
  {
   "cell_type": "code",
   "execution_count": 87,
   "metadata": {
    "collapsed": true
   },
   "outputs": [],
   "source": [
    "def merge(nums1, m, nums2, n):\n",
    "    \"\"\"\n",
    "    INPUT : nums1; sorted int list\n",
    "            m; int – the number of elements in nums1\n",
    "            nums2; sorted int list\n",
    "            n; int – the number of elements in nums2\n",
    "    OUTPUT: NONE; Do not return anything, modify nums1 in-place instead.\n",
    "    \n",
    "    >>> merge([5, 6, 7, 10], 4, [1, 2, 5, 9, 11], 5)\n",
    "    [1, 2, 5, 5, 6, 7, 9, 10, 11]\n",
    "    >>> merge([0], 0, [1], 1) \n",
    "    [1]\n",
    "    >>> merge([0], 1, [1], 1)\n",
    "    [0]\n",
    "    >>> merge([0, 0], 0, [1], 1)\n",
    "    >>> merge([0, 0], 1, [1], 1)\n",
    "    >>> merge([0, 0], 2, [1], 1)\n",
    "    \n",
    "    \n",
    "    \n",
    "    \n",
    "    >>> merge([1], 1, [0], 0) ????????\n",
    "    [1]\n",
    "    >>> merge([1], 1, [0, 0], 0) ????????\n",
    "    [1]\n",
    "    \n",
    "    >>> merge([7], 1, [], 0)\n",
    "    [7]\n",
    "    >>> merge([], 0, [8, 3], 1)\n",
    "    [3, 8]\n",
    "    >>> merge([], 0, [], 0)\n",
    "    0\n",
    "    \n",
    "    Since the question required in-place sorting, will use Insertion Sort Algo \n",
    "    which is better than other in-place sorting algo such as Bubble Sort or Selection Sort.\n",
    "    \"\"\"\n",
    "    # when a is emtpy list, it's not a problem\n",
    "    # when b is empty list, it's a problem\n",
    "    if n == 0  and m > 0:\n",
    "        return merge([], 0, nums1, m)  \n",
    "    \n",
    "    \n",
    "    # adding extra space in num1 to add elements in nums2\n",
    "    nums1.extend([0] * n)\n",
    "    \n",
    "    for i in range(n): \n",
    "        value = nums2[i]\n",
    "        holeIdx = m + i\n",
    "        lastIdx = m - 1 + i\n",
    "#         print i, holeIdx, lastIdx\n",
    "        \n",
    "        while ((holeIdx > 0) and (value < nums1[lastIdx])):\n",
    "            nums1[holeIdx] = nums1[lastIdx]\n",
    "            holeIdx -= 1\n",
    "            lastIdx -= 1\n",
    "        \n",
    "        nums1[holeIdx] = value\n",
    "#         print nums1\n",
    "        \n",
    "    return nums1"
   ]
  },
  {
   "cell_type": "markdown",
   "metadata": {},
   "source": [
    "## basecase test"
   ]
  },
  {
   "cell_type": "code",
   "execution_count": 88,
   "metadata": {
    "collapsed": false
   },
   "outputs": [
    {
     "data": {
      "text/plain": [
       "[1, 2, 5, 5, 6, 7, 9, 10, 11]"
      ]
     },
     "execution_count": 88,
     "metadata": {},
     "output_type": "execute_result"
    }
   ],
   "source": [
    "a = [5, 6, 7, 10]\n",
    "lenA = len(a)\n",
    "\n",
    "b = [1, 2, 5, 9, 11]\n",
    "lenB = len(b)\n",
    "\n",
    "merge(a, lenA, b, lenB)"
   ]
  },
  {
   "cell_type": "markdown",
   "metadata": {},
   "source": [
    "### edgecase test"
   ]
  },
  {
   "cell_type": "code",
   "execution_count": 89,
   "metadata": {
    "collapsed": false
   },
   "outputs": [
    {
     "data": {
      "text/plain": [
       "[1, 5]"
      ]
     },
     "execution_count": 89,
     "metadata": {},
     "output_type": "execute_result"
    }
   ],
   "source": [
    "a = [5]\n",
    "lenA = len(a)\n",
    "\n",
    "b = [1]\n",
    "lenB = len(b)\n",
    "\n",
    "merge(a, lenA, b, lenB)"
   ]
  },
  {
   "cell_type": "code",
   "execution_count": 90,
   "metadata": {
    "collapsed": false
   },
   "outputs": [
    {
     "data": {
      "text/plain": [
       "[7]"
      ]
     },
     "execution_count": 90,
     "metadata": {},
     "output_type": "execute_result"
    }
   ],
   "source": [
    "a = [7] \n",
    "lenA = len(a)\n",
    "\n",
    "b = [] # when b is empty list, it's a problem\n",
    "lenB = len(b)\n",
    "\n",
    "merge(a, lenA, b, lenB)"
   ]
  },
  {
   "cell_type": "code",
   "execution_count": 91,
   "metadata": {
    "collapsed": false
   },
   "outputs": [
    {
     "data": {
      "text/plain": [
       "[3, 7]"
      ]
     },
     "execution_count": 91,
     "metadata": {},
     "output_type": "execute_result"
    }
   ],
   "source": [
    "a = [7, 3]   \n",
    "lenA = len(a)\n",
    "\n",
    "b = []\n",
    "lenB = len(b)\n",
    "\n",
    "merge(a, lenA, b, lenB)"
   ]
  },
  {
   "cell_type": "code",
   "execution_count": 92,
   "metadata": {
    "collapsed": false
   },
   "outputs": [
    {
     "data": {
      "text/plain": [
       "[7]"
      ]
     },
     "execution_count": 92,
     "metadata": {},
     "output_type": "execute_result"
    }
   ],
   "source": [
    "a = [] # but when a is emtpy list, it's not a problem\n",
    "lenA = len(a)\n",
    "\n",
    "b = [7]\n",
    "lenB = len(b)\n",
    "\n",
    "merge(a, lenA, b, lenB)"
   ]
  },
  {
   "cell_type": "code",
   "execution_count": 93,
   "metadata": {
    "collapsed": false
   },
   "outputs": [
    {
     "data": {
      "text/plain": [
       "[3, 7]"
      ]
     },
     "execution_count": 93,
     "metadata": {},
     "output_type": "execute_result"
    }
   ],
   "source": [
    "a = []  \n",
    "lenA = len(a)\n",
    "\n",
    "b = [7, 3]\n",
    "lenB = len(b)\n",
    "\n",
    "merge(a, lenA, b, lenB)"
   ]
  },
  {
   "cell_type": "code",
   "execution_count": 94,
   "metadata": {
    "collapsed": false
   },
   "outputs": [
    {
     "data": {
      "text/plain": [
       "[]"
      ]
     },
     "execution_count": 94,
     "metadata": {},
     "output_type": "execute_result"
    }
   ],
   "source": [
    "a = []\n",
    "lenA = len(a)\n",
    "\n",
    "b = []\n",
    "lenB = len(b)\n",
    "\n",
    "merge(a, lenA, b, lenB)"
   ]
  },
  {
   "cell_type": "code",
   "execution_count": null,
   "metadata": {
    "collapsed": true
   },
   "outputs": [],
   "source": []
  }
 ],
 "metadata": {
  "kernelspec": {
   "display_name": "Python 2",
   "language": "python",
   "name": "python2"
  },
  "language_info": {
   "codemirror_mode": {
    "name": "ipython",
    "version": 2
   },
   "file_extension": ".py",
   "mimetype": "text/x-python",
   "name": "python",
   "nbconvert_exporter": "python",
   "pygments_lexer": "ipython2",
   "version": "2.7.11"
  }
 },
 "nbformat": 4,
 "nbformat_minor": 2
}
