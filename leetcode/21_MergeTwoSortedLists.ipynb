{
 "cells": [
  {
   "cell_type": "markdown",
   "metadata": {},
   "source": [
    "Merge two sorted linked lists and return it as a new list. <br> The new list should be made by splicing together the nodes of the first two lists.\n",
    "\n",
    "Example:\n",
    "\n",
    "Input: 1->2->4, 1->3->4 <br>\n",
    "Output: 1->1->2->3->4->4\n",
    "\n",
    "Question source: https://leetcode.com/problems/merge-two-sorted-lists/description/"
   ]
  },
  {
   "cell_type": "code",
   "execution_count": 1,
   "metadata": {
    "collapsed": true
   },
   "outputs": [],
   "source": [
    "# Definition for singly-linked list.\n",
    "\n",
    "class ListNode(object):\n",
    "    def __init__(self, x):\n",
    "        self.val = x\n",
    "        self.next = None"
   ]
  },
  {
   "cell_type": "code",
   "execution_count": 2,
   "metadata": {
    "collapsed": true
   },
   "outputs": [],
   "source": [
    "class Solution(object):\n",
    "    def mergeTwoLists(self, l1, l2):\n",
    "        \"\"\"\n",
    "        Input : l1- ListNode, l2- ListNode\n",
    "        Output: ListNode\n",
    "        \"\"\"\n",
    "        \n",
    "        if l1==None:\n",
    "            return l2\n",
    "        if l2==None:\n",
    "            return l1\n",
    "        \n",
    "        first = True\n",
    "        \n",
    "        # traverse through both linked list until reach end of one of them\n",
    "        while ((l1 != None) and (l2 != None)): # at first literation L1 and L2 will be each head\n",
    "            if (l1.val <= l2.val):\n",
    "                appendVal = l1.val\n",
    "                l1 = l1.next \n",
    "            else:\n",
    "                appendVal = l2.val\n",
    "                l2 = l2.next           \n",
    "            \n",
    "            if first:\n",
    "                head = ListNode(appendVal)\n",
    "                current = head\n",
    "                first = False\n",
    "            else:\n",
    "                current.next = ListNode(appendVal)\n",
    "                current = current.next\n",
    "        \n",
    "        # once one of the array has finished, \n",
    "        # just copy over the remaining elements from the other not-finished-yet array         \n",
    "        while (l1 != None):\n",
    "            current.next = ListNode(l1.val)\n",
    "            current = current.next\n",
    "            l1 = l1.next\n",
    "            \n",
    "        while (l2 != None):\n",
    "            current.next = ListNode(l2.val)\n",
    "            current = current.next\n",
    "            l2 = l2.next\n",
    "            \n",
    "        return head"
   ]
  },
  {
   "cell_type": "code",
   "execution_count": 3,
   "metadata": {
    "collapsed": true
   },
   "outputs": [],
   "source": [
    "# 1->2->4\n",
    "# None\n",
    "# 0\n",
    "\n",
    "a0 = ListNode(1)\n",
    "a1 = ListNode(2)\n",
    "a2 = ListNode(4)\n",
    "a0.next = a1\n",
    "a1.next = a2"
   ]
  },
  {
   "cell_type": "code",
   "execution_count": 4,
   "metadata": {
    "collapsed": false
   },
   "outputs": [],
   "source": [
    "# 1->3->4\n",
    "# None\n",
    "# None\n",
    "\n",
    "# b0 = None\n",
    "b0 = ListNode(1)\n",
    "b1 = ListNode(3)\n",
    "b2 = ListNode(4)\n",
    "b0.next = b1\n",
    "b1.next = b2"
   ]
  },
  {
   "cell_type": "code",
   "execution_count": 5,
   "metadata": {
    "collapsed": false
   },
   "outputs": [],
   "source": [
    "def print_list(h):\n",
    "    while h != None:\n",
    "        print str(h.val) + \", \"\n",
    "        h = h.next"
   ]
  },
  {
   "cell_type": "code",
   "execution_count": 6,
   "metadata": {
    "collapsed": false
   },
   "outputs": [
    {
     "name": "stdout",
     "output_type": "stream",
     "text": [
      "1, \n",
      "1, \n",
      "2, \n",
      "3, \n",
      "4, \n",
      "4, \n"
     ]
    }
   ],
   "source": [
    "s = Solution()\n",
    "s.mergeTwoLists(a0, b0)\n",
    "\n",
    "print_list(s.mergeTwoLists(a0, b0))"
   ]
  }
 ],
 "metadata": {
  "kernelspec": {
   "display_name": "Python 2",
   "language": "python",
   "name": "python2"
  },
  "language_info": {
   "codemirror_mode": {
    "name": "ipython",
    "version": 2
   },
   "file_extension": ".py",
   "mimetype": "text/x-python",
   "name": "python",
   "nbconvert_exporter": "python",
   "pygments_lexer": "ipython2",
   "version": "2.7.11"
  }
 },
 "nbformat": 4,
 "nbformat_minor": 2
}
