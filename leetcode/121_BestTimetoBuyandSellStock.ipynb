{
 "cells": [
  {
   "cell_type": "markdown",
   "metadata": {},
   "source": [
    "If you were only permitted to complete at most one buy and at most one sell during the whole period of days, design an algorithm such that your profit, i.e., sell price minus buy price, is maximized. Note that you can only not sell a stock before you buy one.\n",
    "\n",
    "For example: <br>\n",
    "[1,2,3,4] ==> returns 3 (buy at 1 and sell at 4) <br>\n",
    "[4,3,2,1] ==> returns 0 (don't buy) <br>\n",
    "[4,10,25,2,10] ==> returns 21 (buy at 4 and sell at 25) <br>\n",
    "<br>\n",
    "Example 1:<br> \n",
    "Input: [7, 1, 5, 3, 6, 4] <br>\n",
    "Output: 5 <br>\n",
    "--> max. difference = 6-1 = 5 (not 7-1 = 6, as selling price needs to be larger than buying price)<br><br>\n",
    "Example 2:<br>\n",
    "Input: [7, 6, 4, 3, 1]<br>\n",
    "Output: 0<br>\n",
    "--> In this case, no transaction is done, i.e. max profit = 0.\n",
    "\n",
    "*** this problem is to find a pair that makes max difference\n",
    "\n",
    "source: https://leetcode.com/problems/best-time-to-buy-and-sell-stock/description/"
   ]
  },
  {
   "cell_type": "code",
   "execution_count": 1,
   "metadata": {
    "collapsed": false
   },
   "outputs": [],
   "source": [
    "def maxProfit(prices): # 1*O(N) & in-space solution\n",
    "    \"\"\"\n",
    "    INPUT : prices, type: List[int]\n",
    "    OUTPUT: type: int\n",
    "    \n",
    "    >>> maxProfit([7, 1, 5, 3, 6, 4])\n",
    "    5\n",
    "    >>> maxProfit([7, 6, 4, 3, 1])\n",
    "    0\n",
    "    >>> maxProfit([])\n",
    "    0\n",
    "    >>> maxProfit([1])\n",
    "    0\n",
    "    >>> maxProfit([2, 1])\n",
    "    0    \n",
    "    \"\"\"\n",
    "    \n",
    "    if len(prices) == 0 or len(prices) == 1:\n",
    "        return 0\n",
    "    \n",
    "    buy = prices[0]\n",
    "    sell = None\n",
    "    profit = None\n",
    "    maxProfit = None\n",
    "    \n",
    "    for i in range(1, len(prices)):\n",
    "        if prices[i] < buy:\n",
    "            buy = prices[i]\n",
    "        else:\n",
    "            sell = prices[i]\n",
    "            profit = sell - buy\n",
    "            \n",
    "            if profit > maxProfit:\n",
    "                maxProfit = profit\n",
    "\n",
    "    if maxProfit == None:\n",
    "        return 0\n",
    "    else: \n",
    "        return maxProfit"
   ]
  },
  {
   "cell_type": "code",
   "execution_count": 2,
   "metadata": {
    "collapsed": false
   },
   "outputs": [
    {
     "data": {
      "text/plain": [
       "5"
      ]
     },
     "execution_count": 2,
     "metadata": {},
     "output_type": "execute_result"
    }
   ],
   "source": [
    "maxProfit([4, 6, 3, 7, 8, 2, 5])"
   ]
  },
  {
   "cell_type": "code",
   "execution_count": 3,
   "metadata": {
    "collapsed": false
   },
   "outputs": [
    {
     "data": {
      "text/plain": [
       "5"
      ]
     },
     "execution_count": 3,
     "metadata": {},
     "output_type": "execute_result"
    }
   ],
   "source": [
    "maxProfit([7, 1, 5, 3, 6, 4])"
   ]
  },
  {
   "cell_type": "code",
   "execution_count": 4,
   "metadata": {
    "collapsed": false
   },
   "outputs": [
    {
     "data": {
      "text/plain": [
       "0"
      ]
     },
     "execution_count": 4,
     "metadata": {},
     "output_type": "execute_result"
    }
   ],
   "source": [
    "maxProfit([7, 6, 4, 3, 1])"
   ]
  },
  {
   "cell_type": "code",
   "execution_count": 5,
   "metadata": {
    "collapsed": false
   },
   "outputs": [
    {
     "data": {
      "text/plain": [
       "0"
      ]
     },
     "execution_count": 5,
     "metadata": {},
     "output_type": "execute_result"
    }
   ],
   "source": [
    "maxProfit([])"
   ]
  },
  {
   "cell_type": "code",
   "execution_count": 6,
   "metadata": {
    "collapsed": false
   },
   "outputs": [
    {
     "data": {
      "text/plain": [
       "0"
      ]
     },
     "execution_count": 6,
     "metadata": {},
     "output_type": "execute_result"
    }
   ],
   "source": [
    "maxProfit([1])"
   ]
  },
  {
   "cell_type": "code",
   "execution_count": 7,
   "metadata": {
    "collapsed": false
   },
   "outputs": [
    {
     "data": {
      "text/plain": [
       "0"
      ]
     },
     "execution_count": 7,
     "metadata": {},
     "output_type": "execute_result"
    }
   ],
   "source": [
    "maxProfit([2, 1])"
   ]
  },
  {
   "cell_type": "code",
   "execution_count": 8,
   "metadata": {
    "collapsed": false
   },
   "outputs": [
    {
     "data": {
      "text/plain": [
       "21"
      ]
     },
     "execution_count": 8,
     "metadata": {},
     "output_type": "execute_result"
    }
   ],
   "source": [
    "maxProfit([4,10,25,2,10])"
   ]
  },
  {
   "cell_type": "code",
   "execution_count": 9,
   "metadata": {
    "collapsed": false
   },
   "outputs": [
    {
     "data": {
      "text/plain": [
       "2"
      ]
     },
     "execution_count": 9,
     "metadata": {},
     "output_type": "execute_result"
    }
   ],
   "source": [
    "maxProfit([2,4,1])"
   ]
  },
  {
   "cell_type": "code",
   "execution_count": 10,
   "metadata": {
    "collapsed": false
   },
   "outputs": [
    {
     "data": {
      "text/plain": [
       "0"
      ]
     },
     "execution_count": 10,
     "metadata": {},
     "output_type": "execute_result"
    }
   ],
   "source": [
    "maxProfit([0, 0, 0])"
   ]
  }
 ],
 "metadata": {
  "kernelspec": {
   "display_name": "Python 2",
   "language": "python",
   "name": "python2"
  },
  "language_info": {
   "codemirror_mode": {
    "name": "ipython",
    "version": 2
   },
   "file_extension": ".py",
   "mimetype": "text/x-python",
   "name": "python",
   "nbconvert_exporter": "python",
   "pygments_lexer": "ipython2",
   "version": "2.7.11"
  }
 },
 "nbformat": 4,
 "nbformat_minor": 2
}
