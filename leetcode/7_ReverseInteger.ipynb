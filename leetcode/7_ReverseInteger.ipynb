{
 "cells": [
  {
   "cell_type": "markdown",
   "metadata": {},
   "source": [
    "Q: Given a 32-bit signed integer, reverse digits of an integer.\n",
    "\n",
    "- Example 1:\n",
    "        Input: 123\n",
    "        Output:  321\n",
    "\n",
    "- Example 2:\n",
    "        Input: -123\n",
    "        Output: -321\n",
    "\n",
    "- Example 3:\n",
    "        Input: 120\n",
    "        Output: 21\n",
    "\n",
    "Note:\n",
    "Assume we are dealing with an environment which could only hold integers within the 32-bit signed integer range. For the purpose of this problem, assume that your function returns 0 when the reversed integer overflows.\n",
    "\n",
    "source: https://leetcode.com/problems/reverse-integer/description/"
   ]
  },
  {
   "cell_type": "code",
   "execution_count": 1,
   "metadata": {
    "collapsed": true
   },
   "outputs": [],
   "source": [
    "testVal = -12340"
   ]
  },
  {
   "cell_type": "code",
   "execution_count": 2,
   "metadata": {
    "collapsed": true
   },
   "outputs": [],
   "source": [
    "def revInt(x): # Time Complexity: O(N), Runtime: 42 ms, 86.83 percentile\n",
    "    \"\"\"\n",
    "    Reverse an digits of integer.\n",
    "    \n",
    "    >>> revInt(123)\n",
    "    321\n",
    "    >>> revInt(-123)\n",
    "    -321\n",
    "    >>> revInt(120)\n",
    "    21\n",
    "    >>> revInt(9147483647)\n",
    "    0\n",
    "    \"\"\"\n",
    "    \n",
    "    negative =  False\n",
    "    max32bitVal = 2147483647\n",
    "    \n",
    "    # convert negative value to positive and flag it.\n",
    "    if x < 0:\n",
    "        negative = True\n",
    "        x = x * -1\n",
    "    \n",
    "    # |int| --> str\n",
    "    xStr = str(x) # O(N)\n",
    "\n",
    "    # reversing the str \n",
    "    xStrRev = xStr[::-1] # O(N)\n",
    "\n",
    "    # str --> int\n",
    "    result = int(xStrRev) # O(N)\n",
    "    \n",
    "    # if the result exceed 32-bit integer range, returns 0 (question requirement)\n",
    "    if result > max32bitVal:\n",
    "        result = 0\n",
    "\n",
    "    # convert back to original sign, pos --> neg\n",
    "    if negative:\n",
    "        result = result * -1\n",
    "            \n",
    "    return result      "
   ]
  },
  {
   "cell_type": "code",
   "execution_count": 3,
   "metadata": {
    "collapsed": false
   },
   "outputs": [
    {
     "data": {
      "text/plain": [
       "-4321"
      ]
     },
     "execution_count": 3,
     "metadata": {},
     "output_type": "execute_result"
    }
   ],
   "source": [
    "revInt(testVal)"
   ]
  },
  {
   "cell_type": "code",
   "execution_count": 4,
   "metadata": {
    "collapsed": false
   },
   "outputs": [
    {
     "data": {
      "text/plain": [
       "int"
      ]
     },
     "execution_count": 4,
     "metadata": {},
     "output_type": "execute_result"
    }
   ],
   "source": [
    "type(revInt(testVal))"
   ]
  }
 ],
 "metadata": {
  "kernelspec": {
   "display_name": "Python 2",
   "language": "python",
   "name": "python2"
  },
  "language_info": {
   "codemirror_mode": {
    "name": "ipython",
    "version": 2
   },
   "file_extension": ".py",
   "mimetype": "text/x-python",
   "name": "python",
   "nbconvert_exporter": "python",
   "pygments_lexer": "ipython2",
   "version": "2.7.11"
  }
 },
 "nbformat": 4,
 "nbformat_minor": 2
}
