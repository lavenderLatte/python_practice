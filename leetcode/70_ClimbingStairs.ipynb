{
 "cells": [
  {
   "cell_type": "markdown",
   "metadata": {},
   "source": [
    "You are climbing a stair case. It takes n steps to reach to the top.\n",
    "\n",
    "Each time you can either climb 1 or 2 steps. In how many distinct ways can you climb to the top?\n",
    "\n",
    "Note: Given n will be a positive integer.\n",
    "\n",
    "source: https://leetcode.com/problems/climbing-stairs/description/"
   ]
  },
  {
   "cell_type": "code",
   "execution_count": 31,
   "metadata": {
    "collapsed": false
   },
   "outputs": [],
   "source": [
    "def climbStairs(n):\n",
    "    \"\"\"\n",
    "    INPUT : int; # of steps\n",
    "    OUTPUT: int; result\n",
    "    \n",
    "    >>> climbStairs(1)\n",
    "    1\n",
    "    >>> climbStairs(2)\n",
    "    2\n",
    "    >>> climbStairs(3)\n",
    "    3\n",
    "    >>> climbStairs(4)\n",
    "    5\n",
    "    >>> climbStairs(5)\n",
    "    8\n",
    "    >>> climbStairs(6)\n",
    "    13\n",
    "    \n",
    "    This is eventually fibonacci problem. \n",
    "    Therefore, code below is implementation of dp with memoization.\n",
    "    \n",
    "    [ Dynamic Programming ]\n",
    "    Recurrsive subproblem rule:\n",
    "        f(n) = f(n-1) + f(n-2)\n",
    "    \"\"\"\n",
    "        \n",
    "    if n in memo:\n",
    "        return memo[n]\n",
    "    # dp + memoization\n",
    "    else:    \n",
    "        memo[n] = climbStairs(n-1) + climbStairs(n-2)\n",
    "        return memo[n]\n",
    "    \n",
    "    "
   ]
  },
  {
   "cell_type": "code",
   "execution_count": 32,
   "metadata": {
    "collapsed": true
   },
   "outputs": [],
   "source": [
    "memo = {1:1, 2:2}"
   ]
  },
  {
   "cell_type": "code",
   "execution_count": 34,
   "metadata": {
    "collapsed": false
   },
   "outputs": [
    {
     "data": {
      "text/plain": [
       "89"
      ]
     },
     "execution_count": 34,
     "metadata": {},
     "output_type": "execute_result"
    }
   ],
   "source": [
    "climbStairs(10)"
   ]
  }
 ],
 "metadata": {
  "kernelspec": {
   "display_name": "Python 2",
   "language": "python",
   "name": "python2"
  },
  "language_info": {
   "codemirror_mode": {
    "name": "ipython",
    "version": 2
   },
   "file_extension": ".py",
   "mimetype": "text/x-python",
   "name": "python",
   "nbconvert_exporter": "python",
   "pygments_lexer": "ipython2",
   "version": "2.7.11"
  }
 },
 "nbformat": 4,
 "nbformat_minor": 2
}
