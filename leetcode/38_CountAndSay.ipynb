{
 "cells": [
  {
   "cell_type": "markdown",
   "metadata": {},
   "source": [
    "The count-and-say sequence is the sequence of integers with the first five terms as following:\n",
    "\n",
    "1.     1\n",
    "2.     11\n",
    "3.     21\n",
    "4.     1211\n",
    "5.     111221\n",
    "\n",
    "1 is read off as \"one 1\" or 11.\n",
    "11 is read off as \"two 1s\" or 21.\n",
    "21 is read off as \"one 2, then one 1\" or 1211.\n",
    "Given an integer n, generate the nth term of the count-and-say sequence.\n",
    "\n",
    "Note: Each term of the sequence of integers will be represented as a string.\n",
    "\n",
    "Example 1:\n",
    "\n",
    "    Input: 1\n",
    "    Output: \"1\"\n",
    "Example 2:\n",
    "\n",
    "    Input: 4\n",
    "    Output: \"1211\"\n",
    "    \n",
    "source: https://leetcode.com/problems/count-and-say/description/"
   ]
  },
  {
   "cell_type": "markdown",
   "metadata": {},
   "source": [
    "## My Solution"
   ]
  },
  {
   "cell_type": "code",
   "execution_count": 7,
   "metadata": {
    "collapsed": false
   },
   "outputs": [],
   "source": [
    "def countAndSay(n): \n",
    "    \"\"\"   \n",
    "    >>> countAndSay(1)\n",
    "    1\n",
    "    >>> countAndSay(5)\n",
    "    111221\n",
    "    >>> countAndSay(6)\n",
    "    312211\n",
    "    >>> countAndSay(0)\n",
    "    1\n",
    "    >>> countAndSay(-10)\n",
    "    1\n",
    "    \"\"\"  \n",
    "    \n",
    "    global numCalled\n",
    "    numCalled += 1\n",
    "    \n",
    "    # When it nth one is already checked. Memoization\n",
    "    if n in MEMO:\n",
    "        return MEMO[n]\n",
    "    \n",
    "    \n",
    "    # Edge cases: When passing parameter is no more than 1\n",
    "    if n <= 1:\n",
    "        return MEMO[1]\n",
    "        \n",
    "    PREVIOUS = countAndSay(n-1) # Recursive \n",
    "    PRELEN = len(PREVIOUS)     \n",
    "    \n",
    "    # Edge cases: When passing parameter is no more than 1: when n = 2\n",
    "    if PRELEN == 1:\n",
    "        MEMO[n] = str(PRELEN) + PREVIOUS # Memoization\n",
    "    \n",
    "    \n",
    "    # for base cases  \n",
    "    else:\n",
    "        idx = 0\n",
    "        pivot = PREVIOUS[idx]  \n",
    "        cnt = 1\n",
    "        result  = ''\n",
    "\n",
    "        while idx < PRELEN: \n",
    "            if (idx + 1) == PRELEN: \n",
    "                result += str(cnt) + pivot\n",
    "                idx += 1 \n",
    "\n",
    "            elif pivot == PREVIOUS[idx + 1]: \n",
    "                cnt += 1\n",
    "                idx += 1\n",
    "            else: \n",
    "                result += str(cnt) + pivot \n",
    "                cnt = 1\n",
    "                idx += 1 \n",
    "                pivot = PREVIOUS[idx] \n",
    "             \n",
    "        MEMO[n] = result # Memoization\n",
    "        \n",
    "    return MEMO[n]"
   ]
  },
  {
   "cell_type": "code",
   "execution_count": 2,
   "metadata": {
    "collapsed": false
   },
   "outputs": [
    {
     "name": "stdout",
     "output_type": "stream",
     "text": [
      "The 6th sequence is 312211.\n"
     ]
    }
   ],
   "source": [
    "# base case testing\n",
    "\n",
    "MEMO = {1:\"1\"}\n",
    "\n",
    "i = 6\n",
    "print \"The %sth sequence is %s.\" % (i, countAndSay(i))"
   ]
  },
  {
   "cell_type": "code",
   "execution_count": 3,
   "metadata": {
    "collapsed": false
   },
   "outputs": [
    {
     "name": "stdout",
     "output_type": "stream",
     "text": [
      "The 2th sequence is 11.\n"
     ]
    }
   ],
   "source": [
    "# edge case testing\n",
    "\n",
    "i = 2\n",
    "print \"The %sth sequence is %s.\" % (i, countAndSay(i))"
   ]
  },
  {
   "cell_type": "code",
   "execution_count": 4,
   "metadata": {
    "collapsed": false
   },
   "outputs": [
    {
     "name": "stdout",
     "output_type": "stream",
     "text": [
      "The 0th sequence is 1.\n"
     ]
    }
   ],
   "source": [
    "# edge case testing\n",
    "\n",
    "i = 0\n",
    "print \"The %sth sequence is %s.\" % (i, countAndSay(i))"
   ]
  },
  {
   "cell_type": "code",
   "execution_count": 5,
   "metadata": {
    "collapsed": false
   },
   "outputs": [
    {
     "name": "stdout",
     "output_type": "stream",
     "text": [
      "The -10th sequence is 1.\n"
     ]
    }
   ],
   "source": [
    "# edge case testing\n",
    "\n",
    "i = -10\n",
    "print \"The %sth sequence is %s.\" % (i, countAndSay(i))"
   ]
  },
  {
   "cell_type": "code",
   "execution_count": 6,
   "metadata": {
    "collapsed": false
   },
   "outputs": [
    {
     "data": {
      "text/plain": [
       "{1: '1', 2: '11', 3: '21', 4: '1211', 5: '111221', 6: '312211'}"
      ]
     },
     "execution_count": 6,
     "metadata": {},
     "output_type": "execute_result"
    }
   ],
   "source": [
    "MEMO"
   ]
  },
  {
   "cell_type": "code",
   "execution_count": 8,
   "metadata": {
    "collapsed": false
   },
   "outputs": [
    {
     "name": "stdout",
     "output_type": "stream",
     "text": [
      "The 20th sequence is 11131221131211132221232112111312111213111213211231132132211211131221131211221321123113213221123113112221131112311332211211131221131211132211121312211231131112311211232221121321132132211331121321231231121113112221121321133112132112312321123113112221121113122113121113123112112322111213211322211312113211.\n",
      "Function was called 20 times.\n"
     ]
    }
   ],
   "source": [
    "#benefit of memoization\n",
    "\n",
    "numCalled = 0\n",
    "MEMO = {1:\"1\"}\n",
    "\n",
    "i = 20\n",
    "print \"The %sth sequence is %s.\" % (i, countAndSay(i))\n",
    "print \"Function was called %s times.\" % (numCalled)"
   ]
  },
  {
   "cell_type": "code",
   "execution_count": 9,
   "metadata": {
    "collapsed": false
   },
   "outputs": [
    {
     "name": "stdout",
     "output_type": "stream",
     "text": [
      "The 20th sequence is 11131221131211132221232112111312111213111213211231132132211211131221131211221321123113213221123113112221131112311332211211131221131211132211121312211231131112311211232221121321132132211331121321231231121113112221121321133112132112312321123113112221121113122113121113123112112322111213211322211312113211.\n",
      "Function was called 1 times.\n"
     ]
    }
   ],
   "source": [
    "numCalled = 0 # reset val\n",
    "\n",
    "print \"The %sth sequence is %s.\" % (i, countAndSay(i))\n",
    "print \"Function was called %s times.\" % (numCalled)"
   ]
  },
  {
   "cell_type": "code",
   "execution_count": 10,
   "metadata": {
    "collapsed": false
   },
   "outputs": [
    {
     "name": "stdout",
     "output_type": "stream",
     "text": [
      "The 17th sequence is 11131221131211132221232112111312212321123113112221121113122113111231133221121321132132211331121321231231121113122113322113111221131221.\n",
      "Function was called 1 times.\n"
     ]
    }
   ],
   "source": [
    "numCalled = 0\n",
    "\n",
    "i = 17\n",
    "print \"The %sth sequence is %s.\" % (i, countAndSay(i))\n",
    "print \"Function was called %s times.\" % (numCalled)"
   ]
  },
  {
   "cell_type": "code",
   "execution_count": 11,
   "metadata": {
    "collapsed": false
   },
   "outputs": [
    {
     "name": "stdout",
     "output_type": "stream",
     "text": [
      "The 22th sequence is 132113213221133112132123123112111311222112132113311213211231232112311311222112111312211311123113322112132113213221133122112231131122211211131221131112311332211211131221131211132221232112111312111213322112132113213221133112132113221321123113213221121113122123211211131221222112112322211231131122211311123113321112131221123113111231121113311211131221121321131211132221123113112211121312211231131122211211133112111311222112111312211312111322211213211321322113311213211331121113122122211211132213211231131122212322211331222113112211.\n",
      "Function was called 3 times.\n"
     ]
    }
   ],
   "source": [
    "numCalled = 0\n",
    "\n",
    "i = 22\n",
    "print \"The %sth sequence is %s.\" % (i, countAndSay(i))\n",
    "print \"Function was called %s times.\" % (numCalled)"
   ]
  },
  {
   "cell_type": "markdown",
   "metadata": {},
   "source": [
    "## Other's Solution – Using Groupby"
   ]
  },
  {
   "cell_type": "code",
   "execution_count": 12,
   "metadata": {
    "collapsed": false
   },
   "outputs": [],
   "source": [
    "import itertools\n",
    "\n",
    "def countAndSay_other(n):\n",
    "    s = '1'\n",
    "    for _ in range(n - 1):\n",
    "        # itertools.groupby(s): sub-iterator grouped by value of 's'\n",
    "        # str(len(list(group))): each sublist's length from list(group) in str format\n",
    "        # s = ''.join([str(len(list(group))) + char for char, group in groupby('AAAABBBCCDAABBB')]) \n",
    "        s = ''.join(str(len(list(group))) + digit for digit, group in itertools.groupby(s))\n",
    "        \n",
    "    return s"
   ]
  },
  {
   "cell_type": "code",
   "execution_count": 13,
   "metadata": {
    "collapsed": false
   },
   "outputs": [
    {
     "data": {
      "text/plain": [
       "'111221'"
      ]
     },
     "execution_count": 13,
     "metadata": {},
     "output_type": "execute_result"
    }
   ],
   "source": [
    "countAndSay_other(5)"
   ]
  },
  {
   "cell_type": "code",
   "execution_count": 14,
   "metadata": {
    "collapsed": false
   },
   "outputs": [
    {
     "name": "stdout",
     "output_type": "stream",
     "text": [
      "['A', 'B', 'C', 'D', 'A', 'B']\n",
      "[<itertools._grouper object at 0x104289790>, <itertools._grouper object at 0x104289750>, <itertools._grouper object at 0x104289710>, <itertools._grouper object at 0x1042897d0>, <itertools._grouper object at 0x104289810>, <itertools._grouper object at 0x104289850>]\n",
      "[('A', ['A', 'A', 'A', 'A']), ('B', ['B', 'B', 'B']), ('C', ['C', 'C']), ('D', ['D']), ('A', ['A', 'A']), ('B', ['B', 'B', 'B'])]\n",
      "[['A', 'A', 'A', 'A'], ['B', 'B', 'B'], ['C', 'C'], ['D'], ['A', 'A'], ['B', 'B', 'B']]\n",
      "[4, 3, 2, 1, 2, 3]\n",
      "['4', '3', '2', '1', '2', '3']\n",
      "432123\n",
      "4A3B2C1D2A3B\n"
     ]
    }
   ],
   "source": [
    "# understanding itertools.groupby()\n",
    "\n",
    "from itertools import groupby\n",
    "\n",
    "print [char for char, group in groupby('AAAABBBCCDAABBB')]\n",
    "print [group for char, group in groupby('AAAABBBCCDAABBB')]\n",
    "\n",
    "print [(char, list(group)) for char, group in itertools.groupby('AAAABBBCCDAABBB')]\n",
    "\n",
    "print [list(group) for char, group in groupby('AAAABBBCCDAABBB')]\n",
    "print [len(list(group)) for char, group in groupby('AAAABBBCCDAABBB')]\n",
    "print [str(len(list(group))) for char, group in groupby('AAAABBBCCDAABBB')]\n",
    "\n",
    "print ''.join([str(len(list(group))) for char, group in groupby('AAAABBBCCDAABBB')])\n",
    "print ''.join([str(len(list(group))) + char for char, group in groupby('AAAABBBCCDAABBB')])"
   ]
  }
 ],
 "metadata": {
  "kernelspec": {
   "display_name": "Python 2",
   "language": "python",
   "name": "python2"
  },
  "language_info": {
   "codemirror_mode": {
    "name": "ipython",
    "version": 2
   },
   "file_extension": ".py",
   "mimetype": "text/x-python",
   "name": "python",
   "nbconvert_exporter": "python",
   "pygments_lexer": "ipython2",
   "version": "2.7.11"
  }
 },
 "nbformat": 4,
 "nbformat_minor": 2
}
