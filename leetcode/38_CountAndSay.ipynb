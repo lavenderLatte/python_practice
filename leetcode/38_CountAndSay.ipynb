{
 "cells": [
  {
   "cell_type": "markdown",
   "metadata": {},
   "source": [
    "The count-and-say sequence is the sequence of integers with the first five terms as following:\n",
    "\n",
    "1.     1\n",
    "2.     11\n",
    "3.     21\n",
    "4.     1211\n",
    "5.     111221\n",
    "\n",
    "1 is read off as \"one 1\" or 11.\n",
    "11 is read off as \"two 1s\" or 21.\n",
    "21 is read off as \"one 2, then one 1\" or 1211.\n",
    "Given an integer n, generate the nth term of the count-and-say sequence.\n",
    "\n",
    "Note: Each term of the sequence of integers will be represented as a string.\n",
    "\n",
    "Example 1:\n",
    "\n",
    "    Input: 1\n",
    "    Output: \"1\"\n",
    "Example 2:\n",
    "\n",
    "    Input: 4\n",
    "    Output: \"1211\""
   ]
  },
  {
   "cell_type": "markdown",
   "metadata": {},
   "source": [
    "## My Solution"
   ]
  },
  {
   "cell_type": "code",
   "execution_count": null,
   "metadata": {
    "collapsed": true
   },
   "outputs": [],
   "source": [
    "def countAndSay(n):\n",
    "    \"\"\"\n",
    "    :type n: int\n",
    "    :rtype: str\n",
    "    \"\"\""
   ]
  },
  {
   "cell_type": "code",
   "execution_count": 135,
   "metadata": {
    "collapsed": false
   },
   "outputs": [
    {
     "ename": "IndentationError",
     "evalue": "expected an indented block (<ipython-input-135-056459c005b3>, line 6)",
     "output_type": "error",
     "traceback": [
      "\u001b[0;36m  File \u001b[0;32m\"<ipython-input-135-056459c005b3>\"\u001b[0;36m, line \u001b[0;32m6\u001b[0m\n\u001b[0;31m    def get_val(self):\u001b[0m\n\u001b[0m      ^\u001b[0m\n\u001b[0;31mIndentationError\u001b[0m\u001b[0;31m:\u001b[0m expected an indented block\n"
     ]
    }
   ],
   "source": [
    "class Memo(object):\n",
    "    d = {1:1}\n",
    "    \n",
    "#     def __init__(self):\n",
    "        \n",
    "    def get_val(self):\n",
    "        return d[self.key]\n",
    "    \n",
    "    def get_dict(self):\n",
    "        return d\n",
    "    \n",
    "    def add_new(self, key, val):\n",
    "        d[key] =  val    \n",
    "        \n",
    "    "
   ]
  },
  {
   "cell_type": "code",
   "execution_count": 132,
   "metadata": {
    "collapsed": false
   },
   "outputs": [],
   "source": [
    "ex = Memo(1)\n",
    "ex.get_val()\n",
    "ex.add_new(5, 3)"
   ]
  },
  {
   "cell_type": "code",
   "execution_count": 134,
   "metadata": {
    "collapsed": false
   },
   "outputs": [
    {
     "data": {
      "text/plain": [
       "{1: 1, 5: 3}"
      ]
     },
     "execution_count": 134,
     "metadata": {},
     "output_type": "execute_result"
    }
   ],
   "source": [
    "ex.get_dict()"
   ]
  },
  {
   "cell_type": "code",
   "execution_count": 155,
   "metadata": {
    "collapsed": false
   },
   "outputs": [],
   "source": [
    "def countAndSay(n):\n",
    "    \"\"\"\n",
    "    >>> countAndSay(1)\n",
    "    1\n",
    "    >>> countAndSay(5)\n",
    "    111221\n",
    "    >>> countAndSay(6)\n",
    "    312211\n",
    "    >>> countAndSay(0)\n",
    "    1\n",
    "    >>> countAndSay(-10)\n",
    "    1\n",
    "    \"\"\"   \n",
    "    if n <= 1:\n",
    "        return MEMO[1]\n",
    "    \n",
    "    if n > 1:\n",
    "        if n in MEMO:\n",
    "            return MEMO[n]\n",
    "        else:\n",
    "            MEMO[n] = countAndSay[n-1]\n",
    "            \n",
    "    \n",
    "#     return MEMO"
   ]
  },
  {
   "cell_type": "code",
   "execution_count": 22,
   "metadata": {
    "collapsed": true
   },
   "outputs": [],
   "source": [
    "def countAndSay(n):\n",
    "    \n",
    "    idx = 0\n",
    "    cnt = 0\n",
    "    \n",
    "    while idx < len(MEMO[n - 1]):\n",
    "        \n",
    "        pivot = MEMO[n - 1][idx]\n",
    "        print pivot\n",
    "                \n",
    "        if pivot == MEMO[n - 1][idx]:\n",
    "            cnt += 1\n",
    "            idx += 1\n",
    "        else:\n",
    "            MEMO[n] = 'n' + \"cnt\"\n",
    "            print MEMO[n]\n",
    "            cnt = 0\n",
    "            idx -= 1\n",
    "\n",
    "    return MEMO[n]"
   ]
  },
  {
   "cell_type": "code",
   "execution_count": 93,
   "metadata": {
    "collapsed": false
   },
   "outputs": [],
   "source": [
    "\n",
    "def countAndSay_test(n): \n",
    "    \n",
    "    # edge cases\n",
    "    if n <= 1:\n",
    "        return MEMO[1]\n",
    "        \n",
    "\n",
    "\n",
    "    PREITEM = MEMO[n - 1]\n",
    "    PKLEN = len(PREITEM) \n",
    "    \n",
    "    \n",
    "\n",
    "    if PKLEN == 1:\n",
    "        MEMO[n] = str(PKLEN) + PREITEM\n",
    "\n",
    "    else:\n",
    "        idx = 0\n",
    "        pivot = PREITEM[idx] \n",
    "        cnt = 1\n",
    "        result  = ''\n",
    "\n",
    "        while idx < PKLEN: \n",
    "            print idx\n",
    "            if (idx + 1) == PKLEN: \n",
    "                result += str(cnt) + pivot\n",
    "                idx += 1 \n",
    "\n",
    "            elif pivot == PREITEM[idx + 1]: \n",
    "                cnt += 1\n",
    "                idx += 1\n",
    "            else: \n",
    "                result += str(cnt) + pivot \n",
    "                cnt = 1\n",
    "                idx += 1 \n",
    "                pivot = PREITEM[idx] \n",
    "             \n",
    "        MEMO[n] = result \n",
    "        \n",
    "    return MEMO[n]\n",
    "    "
   ]
  },
  {
   "cell_type": "code",
   "execution_count": 94,
   "metadata": {
    "collapsed": false
   },
   "outputs": [
    {
     "name": "stdout",
     "output_type": "stream",
     "text": [
      "0\n",
      "1\n"
     ]
    },
    {
     "data": {
      "text/plain": [
       "'1211'"
      ]
     },
     "execution_count": 94,
     "metadata": {},
     "output_type": "execute_result"
    }
   ],
   "source": [
    "MEMO = {1:\"1\", 2:\"21\", 3:\"1211\", 4:\"1211\", 5:\"111221\"}\n",
    "\n",
    "countAndSay_test(3)"
   ]
  },
  {
   "cell_type": "code",
   "execution_count": 95,
   "metadata": {
    "collapsed": false
   },
   "outputs": [
    {
     "data": {
      "text/plain": [
       "'1'"
      ]
     },
     "execution_count": 95,
     "metadata": {},
     "output_type": "execute_result"
    }
   ],
   "source": [
    "countAndSay_test(0)"
   ]
  },
  {
   "cell_type": "code",
   "execution_count": null,
   "metadata": {
    "collapsed": true
   },
   "outputs": [],
   "source": [
    "\n",
    "\n",
    "MEMO = {1:\"1\", 2:\"21\", 3:\"1211\", 4:\"1211\", 5:\"111221\"}\n",
    "MEMO[2] = \"9999\"\n",
    "\n",
    "MEMO\n",
    "\n"
   ]
  },
  {
   "cell_type": "markdown",
   "metadata": {},
   "source": [
    "## Other's Solution – Using Groupby"
   ]
  },
  {
   "cell_type": "code",
   "execution_count": 73,
   "metadata": {
    "collapsed": false
   },
   "outputs": [],
   "source": [
    "import itertools\n",
    "\n",
    "def countAndSay_other(n):\n",
    "    s = '1'\n",
    "    for _ in range(n - 1):\n",
    "        # itertools.groupby(s): sub-iterator grouped by value of 's'\n",
    "        # str(len(list(group))): each sublist's length from list(group) in str format\n",
    "        # s = ''.join([str(len(list(group))) + char for char, group in groupby('AAAABBBCCDAABBB')]) \n",
    "        s = ''.join(str(len(list(group))) + digit for digit, group in itertools.groupby(s))\n",
    "        \n",
    "    return s"
   ]
  },
  {
   "cell_type": "code",
   "execution_count": 74,
   "metadata": {
    "collapsed": false
   },
   "outputs": [
    {
     "data": {
      "text/plain": [
       "'111221'"
      ]
     },
     "execution_count": 74,
     "metadata": {},
     "output_type": "execute_result"
    }
   ],
   "source": [
    "countAndSay_other(5)"
   ]
  },
  {
   "cell_type": "code",
   "execution_count": 78,
   "metadata": {
    "collapsed": false
   },
   "outputs": [
    {
     "name": "stdout",
     "output_type": "stream",
     "text": [
      "['A', 'B', 'C', 'D', 'A', 'B']\n",
      "[<itertools._grouper object at 0x10bfc6890>, <itertools._grouper object at 0x10bf23950>, <itertools._grouper object at 0x10bfc6d10>, <itertools._grouper object at 0x10bfc6d50>, <itertools._grouper object at 0x10bfc6d90>, <itertools._grouper object at 0x10bfc6dd0>]\n",
      "[('A', ['A', 'A', 'A', 'A']), ('B', ['B', 'B', 'B']), ('C', ['C', 'C']), ('D', ['D']), ('A', ['A', 'A']), ('B', ['B', 'B', 'B'])]\n",
      "[['A', 'A', 'A', 'A'], ['B', 'B', 'B'], ['C', 'C'], ['D'], ['A', 'A'], ['B', 'B', 'B']]\n",
      "[4, 3, 2, 1, 2, 3]\n",
      "['4', '3', '2', '1', '2', '3']\n",
      "432123\n",
      "4A3B2C1D2A3B\n"
     ]
    }
   ],
   "source": [
    "# understanding itertools.groupby()\n",
    "\n",
    "from itertools import groupby\n",
    "\n",
    "print [char for char, group in groupby('AAAABBBCCDAABBB')]\n",
    "print [group for char, group in groupby('AAAABBBCCDAABBB')]\n",
    "\n",
    "print [(char, list(group)) for char, group in itertools.groupby('AAAABBBCCDAABBB')]\n",
    "\n",
    "print [list(group) for char, group in groupby('AAAABBBCCDAABBB')]\n",
    "print [len(list(group)) for char, group in groupby('AAAABBBCCDAABBB')]\n",
    "print [str(len(list(group))) for char, group in groupby('AAAABBBCCDAABBB')]\n",
    "\n",
    "print ''.join([str(len(list(group))) for char, group in groupby('AAAABBBCCDAABBB')])\n",
    "print ''.join([str(len(list(group))) + char for char, group in groupby('AAAABBBCCDAABBB')])"
   ]
  },
  {
   "cell_type": "code",
   "execution_count": null,
   "metadata": {
    "collapsed": true
   },
   "outputs": [],
   "source": []
  }
 ],
 "metadata": {
  "kernelspec": {
   "display_name": "Python 2",
   "language": "python",
   "name": "python2"
  },
  "language_info": {
   "codemirror_mode": {
    "name": "ipython",
    "version": 2
   },
   "file_extension": ".py",
   "mimetype": "text/x-python",
   "name": "python",
   "nbconvert_exporter": "python",
   "pygments_lexer": "ipython2",
   "version": "2.7.11"
  }
 },
 "nbformat": 4,
 "nbformat_minor": 2
}
