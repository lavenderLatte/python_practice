{
 "cells": [
  {
   "cell_type": "markdown",
   "metadata": {},
   "source": [
    "The count-and-say sequence is the sequence of integers with the first five terms as following:\n",
    "\n",
    "1.     1\n",
    "2.     11\n",
    "3.     21\n",
    "4.     1211\n",
    "5.     111221\n",
    "\n",
    "1 is read off as \"one 1\" or 11.\n",
    "11 is read off as \"two 1s\" or 21.\n",
    "21 is read off as \"one 2, then one 1\" or 1211.\n",
    "Given an integer n, generate the nth term of the count-and-say sequence.\n",
    "\n",
    "Note: Each term of the sequence of integers will be represented as a string.\n",
    "\n",
    "Example 1:\n",
    "\n",
    "    Input: 1\n",
    "    Output: \"1\"\n",
    "Example 2:\n",
    "\n",
    "    Input: 4\n",
    "    Output: \"1211\"\n",
    "    \n",
    "source: https://leetcode.com/problems/count-and-say/description/"
   ]
  },
  {
   "cell_type": "markdown",
   "metadata": {},
   "source": [
    "## My Solution"
   ]
  },
  {
   "cell_type": "code",
   "execution_count": 1,
   "metadata": {
    "collapsed": false
   },
   "outputs": [],
   "source": [
    "def countAndSay(n): \n",
    "    \"\"\"   \n",
    "    >>> countAndSay(1)\n",
    "    1\n",
    "    >>> countAndSay(5)\n",
    "    111221\n",
    "    >>> countAndSay(6)\n",
    "    312211\n",
    "    >>> countAndSay(0)\n",
    "    1\n",
    "    >>> countAndSay(-10)\n",
    "    1\n",
    "    \"\"\"  \n",
    "    \n",
    "    global numCalled\n",
    "    numCalled += 1\n",
    "    \n",
    "    # When it nth one is already checked. Memoization\n",
    "    if n in MEMO:\n",
    "        return MEMO[n]\n",
    "    \n",
    "    \n",
    "    # Edge cases: When passing parameter is no more than 1\n",
    "    if n <= 1:\n",
    "        return MEMO[1]\n",
    "        \n",
    "    PREVIOUS = countAndSay(n-1) # Recursive \n",
    "    PRELEN = len(PREVIOUS)     \n",
    "    \n",
    "    # Edge cases: When passing parameter is no more than 1: when n = 2\n",
    "    if PRELEN == 1:\n",
    "        MEMO[n] = str(PRELEN) + PREVIOUS # Memoization\n",
    "    \n",
    "    \n",
    "    # for base cases  \n",
    "    else:\n",
    "        idx = 0\n",
    "        pivot = PREVIOUS[idx]  \n",
    "        cnt = 1\n",
    "        result  = ''\n",
    "\n",
    "        while idx < PRELEN: \n",
    "            if (idx + 1) == PRELEN: \n",
    "                result += str(cnt) + pivot\n",
    "                idx += 1 \n",
    "\n",
    "            elif pivot == PREVIOUS[idx + 1]: \n",
    "                cnt += 1\n",
    "                idx += 1\n",
    "            else: \n",
    "                result += str(cnt) + pivot \n",
    "                cnt = 1\n",
    "                idx += 1 \n",
    "                pivot = PREVIOUS[idx] \n",
    "             \n",
    "        MEMO[n] = result # Memoization\n",
    "        \n",
    "    return MEMO[n]"
   ]
  },
  {
   "cell_type": "code",
   "execution_count": 2,
   "metadata": {
    "collapsed": false
   },
   "outputs": [
    {
     "name": "stdout",
     "output_type": "stream",
     "text": [
      "The 6th sequence is 312211\n",
      "Function was called 6\n"
     ]
    }
   ],
   "source": [
    "numCalled = 0\n",
    "MEMO = {1:\"1\"}\n",
    "\n",
    "i = 6\n",
    "print \"The %sth sequence is %s\" % (i, countAndSay(i))\n",
    "print \"Function was called\", numCalled"
   ]
  },
  {
   "cell_type": "code",
   "execution_count": 3,
   "metadata": {
    "collapsed": false
   },
   "outputs": [
    {
     "name": "stdout",
     "output_type": "stream",
     "text": [
      "The 6th sequence is 312211\n",
      "Function was called 1\n"
     ]
    }
   ],
   "source": [
    "# see the benefit of memoization\n",
    "\n",
    "numCalled = 0 # reset value\n",
    "\n",
    "print \"The %sth sequence is %s\" % (i, countAndSay(i))\n",
    "print \"Function was called\", numCalled"
   ]
  },
  {
   "cell_type": "code",
   "execution_count": 4,
   "metadata": {
    "collapsed": false
   },
   "outputs": [
    {
     "data": {
      "text/plain": [
       "{1: '1', 2: '11', 3: '21', 4: '1211', 5: '111221', 6: '312211'}"
      ]
     },
     "execution_count": 4,
     "metadata": {},
     "output_type": "execute_result"
    }
   ],
   "source": [
    "MEMO"
   ]
  },
  {
   "cell_type": "code",
   "execution_count": 5,
   "metadata": {
    "collapsed": false
   },
   "outputs": [
    {
     "name": "stdout",
     "output_type": "stream",
     "text": [
      "The 7th sequence is 13112221\n",
      "Function was called 2\n"
     ]
    }
   ],
   "source": [
    "numCalled = 0 # reset value\n",
    "i = 7\n",
    "\n",
    "print \"The %sth sequence is %s\" % (i, countAndSay(i))\n",
    "print \"Function was called\", numCalled"
   ]
  },
  {
   "cell_type": "markdown",
   "metadata": {},
   "source": [
    "## Other's Solution – Using Groupby"
   ]
  },
  {
   "cell_type": "code",
   "execution_count": 6,
   "metadata": {
    "collapsed": false
   },
   "outputs": [],
   "source": [
    "import itertools\n",
    "\n",
    "def countAndSay_other(n):\n",
    "    s = '1'\n",
    "    for _ in range(n - 1):\n",
    "        # itertools.groupby(s): sub-iterator grouped by value of 's'\n",
    "        # str(len(list(group))): each sublist's length from list(group) in str format\n",
    "        # s = ''.join([str(len(list(group))) + char for char, group in groupby('AAAABBBCCDAABBB')]) \n",
    "        s = ''.join(str(len(list(group))) + digit for digit, group in itertools.groupby(s))\n",
    "        \n",
    "    return s"
   ]
  },
  {
   "cell_type": "code",
   "execution_count": 7,
   "metadata": {
    "collapsed": false
   },
   "outputs": [
    {
     "data": {
      "text/plain": [
       "'111221'"
      ]
     },
     "execution_count": 7,
     "metadata": {},
     "output_type": "execute_result"
    }
   ],
   "source": [
    "countAndSay_other(5)"
   ]
  },
  {
   "cell_type": "code",
   "execution_count": 8,
   "metadata": {
    "collapsed": false
   },
   "outputs": [
    {
     "name": "stdout",
     "output_type": "stream",
     "text": [
      "['A', 'B', 'C', 'D', 'A', 'B']\n",
      "[<itertools._grouper object at 0x10df2e710>, <itertools._grouper object at 0x10df2e6d0>, <itertools._grouper object at 0x10df2e690>, <itertools._grouper object at 0x10df2e750>, <itertools._grouper object at 0x10df2e790>, <itertools._grouper object at 0x10df2e7d0>]\n",
      "[('A', ['A', 'A', 'A', 'A']), ('B', ['B', 'B', 'B']), ('C', ['C', 'C']), ('D', ['D']), ('A', ['A', 'A']), ('B', ['B', 'B', 'B'])]\n",
      "[['A', 'A', 'A', 'A'], ['B', 'B', 'B'], ['C', 'C'], ['D'], ['A', 'A'], ['B', 'B', 'B']]\n",
      "[4, 3, 2, 1, 2, 3]\n",
      "['4', '3', '2', '1', '2', '3']\n",
      "432123\n",
      "4A3B2C1D2A3B\n"
     ]
    }
   ],
   "source": [
    "# understanding itertools.groupby()\n",
    "\n",
    "from itertools import groupby\n",
    "\n",
    "print [char for char, group in groupby('AAAABBBCCDAABBB')]\n",
    "print [group for char, group in groupby('AAAABBBCCDAABBB')]\n",
    "\n",
    "print [(char, list(group)) for char, group in itertools.groupby('AAAABBBCCDAABBB')]\n",
    "\n",
    "print [list(group) for char, group in groupby('AAAABBBCCDAABBB')]\n",
    "print [len(list(group)) for char, group in groupby('AAAABBBCCDAABBB')]\n",
    "print [str(len(list(group))) for char, group in groupby('AAAABBBCCDAABBB')]\n",
    "\n",
    "print ''.join([str(len(list(group))) for char, group in groupby('AAAABBBCCDAABBB')])\n",
    "print ''.join([str(len(list(group))) + char for char, group in groupby('AAAABBBCCDAABBB')])"
   ]
  }
 ],
 "metadata": {
  "kernelspec": {
   "display_name": "Python 2",
   "language": "python",
   "name": "python2"
  },
  "language_info": {
   "codemirror_mode": {
    "name": "ipython",
    "version": 2
   },
   "file_extension": ".py",
   "mimetype": "text/x-python",
   "name": "python",
   "nbconvert_exporter": "python",
   "pygments_lexer": "ipython2",
   "version": "2.7.11"
  }
 },
 "nbformat": 4,
 "nbformat_minor": 2
}
