{
 "cells": [
  {
   "cell_type": "markdown",
   "metadata": {},
   "source": [
    "String s is an array of lowercase English characters (a-z) indexed from 0 to N − 1. \n",
    "Each index i (where 0 ≤ i < N) in s contains character si.\n",
    "Iterate through each character in s and, for each index i, count the occurrences, k, of si in the inclusive range of indices from 0 to i-1. \n",
    "Then cyclically increment character si by k and save the resulting value to index i in a new string, q.\n",
    "\n",
    "Given s, find string q and print it on a new line.\n",
    "\n",
    "Note: Cyclically incrementing a lowercase character by an integer means that a + 1 = b, b + 2 = d, and z + 1 = a."
   ]
  },
  {
   "cell_type": "code",
   "execution_count": 1,
   "metadata": {
    "collapsed": false
   },
   "outputs": [],
   "source": [
    "def strTransformation(s):\n",
    "    \"\"\"\n",
    "    INPUT : str\n",
    "    OUTPUT: str\n",
    "    \n",
    "    >>> strTransformation('abcde')\n",
    "    abcde\n",
    "    >>> strTransformation('abcdeabcde')\n",
    "    abcdebcdef\n",
    "    >>> strTransformation('yzz')\n",
    "    yza\n",
    "    >>> strTransformation('apapap')\n",
    "    apbqcr\n",
    "    >>> strTransformation('b')\n",
    "    b\n",
    "    >>> strTransformation('rrr')\n",
    "    rst\n",
    "    >>> strTransformation('zzz')\n",
    "    zab\n",
    "    \"\"\"    \n",
    "    \n",
    "    d = {}\n",
    "    q = ''\n",
    "\n",
    "    for c in s:\n",
    "        # when a char is already in a dict\n",
    "        if c in d:\n",
    "            # append the char to q in appropriate form\n",
    "            \n",
    "            strTrans = ord(c) + d[c]\n",
    "            \n",
    "            if strTrans <= ord('z'):\n",
    "                q += chr(strTrans)\n",
    "            else:\n",
    "                q += chr((strTrans - ord('z')+ (ord('a')-1)))\n",
    "                           \n",
    "            \n",
    "            # increment the value of the char for next use\n",
    "            d[c] += 1\n",
    "        # when a char isn't already in dict, add new \n",
    "        else:\n",
    "            # append the char as is to q\n",
    "            q += c\n",
    "            d[c] = 1\n",
    "        \n",
    "    return q"
   ]
  },
  {
   "cell_type": "code",
   "execution_count": 2,
   "metadata": {
    "collapsed": false
   },
   "outputs": [
    {
     "data": {
      "text/plain": [
       "'abcde'"
      ]
     },
     "execution_count": 2,
     "metadata": {},
     "output_type": "execute_result"
    }
   ],
   "source": [
    "strTransformation('abcde')"
   ]
  },
  {
   "cell_type": "code",
   "execution_count": 3,
   "metadata": {
    "collapsed": false
   },
   "outputs": [
    {
     "data": {
      "text/plain": [
       "'abcdebcdef'"
      ]
     },
     "execution_count": 3,
     "metadata": {},
     "output_type": "execute_result"
    }
   ],
   "source": [
    "strTransformation('abcdeabcde')"
   ]
  },
  {
   "cell_type": "code",
   "execution_count": 4,
   "metadata": {
    "collapsed": false
   },
   "outputs": [
    {
     "data": {
      "text/plain": [
       "'yza'"
      ]
     },
     "execution_count": 4,
     "metadata": {},
     "output_type": "execute_result"
    }
   ],
   "source": [
    "strTransformation('yzz')"
   ]
  },
  {
   "cell_type": "code",
   "execution_count": 5,
   "metadata": {
    "collapsed": false
   },
   "outputs": [
    {
     "data": {
      "text/plain": [
       "'apbqcr'"
      ]
     },
     "execution_count": 5,
     "metadata": {},
     "output_type": "execute_result"
    }
   ],
   "source": [
    "strTransformation('apapap')"
   ]
  },
  {
   "cell_type": "code",
   "execution_count": 6,
   "metadata": {
    "collapsed": false
   },
   "outputs": [
    {
     "data": {
      "text/plain": [
       "'b'"
      ]
     },
     "execution_count": 6,
     "metadata": {},
     "output_type": "execute_result"
    }
   ],
   "source": [
    "strTransformation('b')"
   ]
  },
  {
   "cell_type": "code",
   "execution_count": 7,
   "metadata": {
    "collapsed": false
   },
   "outputs": [
    {
     "data": {
      "text/plain": [
       "'rst'"
      ]
     },
     "execution_count": 7,
     "metadata": {},
     "output_type": "execute_result"
    }
   ],
   "source": [
    "strTransformation('rrr')"
   ]
  },
  {
   "cell_type": "code",
   "execution_count": 8,
   "metadata": {
    "collapsed": false
   },
   "outputs": [
    {
     "data": {
      "text/plain": [
       "'zab'"
      ]
     },
     "execution_count": 8,
     "metadata": {},
     "output_type": "execute_result"
    }
   ],
   "source": [
    "strTransformation('zzz')"
   ]
  },
  {
   "cell_type": "code",
   "execution_count": 9,
   "metadata": {
    "collapsed": false
   },
   "outputs": [
    {
     "data": {
      "text/plain": [
       "''"
      ]
     },
     "execution_count": 9,
     "metadata": {},
     "output_type": "execute_result"
    }
   ],
   "source": [
    "strTransformation('')"
   ]
  },
  {
   "cell_type": "code",
   "execution_count": null,
   "metadata": {
    "collapsed": true
   },
   "outputs": [],
   "source": []
  }
 ],
 "metadata": {
  "kernelspec": {
   "display_name": "Python 2",
   "language": "python",
   "name": "python2"
  },
  "language_info": {
   "codemirror_mode": {
    "name": "ipython",
    "version": 2
   },
   "file_extension": ".py",
   "mimetype": "text/x-python",
   "name": "python",
   "nbconvert_exporter": "python",
   "pygments_lexer": "ipython2",
   "version": "2.7.11"
  }
 },
 "nbformat": 4,
 "nbformat_minor": 2
}
