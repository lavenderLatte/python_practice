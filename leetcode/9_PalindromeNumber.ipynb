{
 "cells": [
  {
   "cell_type": "markdown",
   "metadata": {},
   "source": [
    "Determine whether an integer is a palindrome. Do this without extra space.\n",
    "\n",
    "source: https://leetcode.com/problems/palindrome-number/description/"
   ]
  },
  {
   "cell_type": "markdown",
   "metadata": {},
   "source": [
    "\"creating extra space\"\n",
    "- creating space that's function of the input size\n",
    "- array of constant size is ok but if array size changes as input size, that's creating extra space\n",
    "    "
   ]
  },
  {
   "cell_type": "code",
   "execution_count": 90,
   "metadata": {
    "collapsed": true
   },
   "outputs": [],
   "source": [
    "def intLength(x):\n",
    "    \"\"\"\n",
    "    Calculates how many digits long the integer input is.\n",
    "    \n",
    "    >>> intLength(7180)\n",
    "    4\n",
    "    >>> intLength(-33550)\n",
    "    5\n",
    "    >>> intLength(0)\n",
    "    1\n",
    "    \"\"\"\n",
    "    import math\n",
    "        \n",
    "    intLen = int(math.log10(x)) + 1\n",
    "    \n",
    "    return intLen"
   ]
  },
  {
   "cell_type": "code",
   "execution_count": 91,
   "metadata": {
    "collapsed": true
   },
   "outputs": [],
   "source": [
    "def isPalindrome(x): # Time Complexity: O(N), Runtime: 277 ms, 35th percentile\n",
    "    \"\"\"\n",
    "    Checks whether an integer input is Palindrome.\n",
    "    \n",
    "    >>> isPalindrome(7180)\n",
    "    False\n",
    "    >>> isPalindrome(7180817)\n",
    "    True\n",
    "    >>> intLength(-2147447412)\n",
    "    False  \n",
    "    \"\"\"\n",
    "    if x == 0:\n",
    "        return True\n",
    "    elif x < 0:\n",
    "        return False    \n",
    "\n",
    "    length = intLength(x)\n",
    "    \n",
    "    if length == 1:\n",
    "        return True\n",
    "    else:    \n",
    "        leftPower = 0\n",
    "        rightPower = length - 1\n",
    "\n",
    "        while leftPower < (length / 2):\n",
    "            leftDigit = (x / (10**leftPower)) % 10\n",
    "            rightDigit = (x / (10**rightPower)) % 10\n",
    "\n",
    "            if leftDigit == rightDigit:\n",
    "                leftPower += 1\n",
    "                rightPower -= 1\n",
    "            else:\n",
    "                return False\n",
    "\n",
    "        return True     "
   ]
  },
  {
   "cell_type": "code",
   "execution_count": 92,
   "metadata": {
    "collapsed": false
   },
   "outputs": [
    {
     "data": {
      "text/plain": [
       "False"
      ]
     },
     "execution_count": 92,
     "metadata": {},
     "output_type": "execute_result"
    }
   ],
   "source": [
    "isPalindrome(7180)"
   ]
  },
  {
   "cell_type": "code",
   "execution_count": 93,
   "metadata": {
    "collapsed": false
   },
   "outputs": [
    {
     "data": {
      "text/plain": [
       "False"
      ]
     },
     "execution_count": 93,
     "metadata": {},
     "output_type": "execute_result"
    }
   ],
   "source": [
    "isPalindrome(-33550)"
   ]
  },
  {
   "cell_type": "code",
   "execution_count": 94,
   "metadata": {
    "collapsed": false
   },
   "outputs": [
    {
     "data": {
      "text/plain": [
       "False"
      ]
     },
     "execution_count": 94,
     "metadata": {},
     "output_type": "execute_result"
    }
   ],
   "source": [
    "isPalindrome(-335505533)"
   ]
  },
  {
   "cell_type": "code",
   "execution_count": 95,
   "metadata": {
    "collapsed": false
   },
   "outputs": [
    {
     "data": {
      "text/plain": [
       "True"
      ]
     },
     "execution_count": 95,
     "metadata": {},
     "output_type": "execute_result"
    }
   ],
   "source": [
    "isPalindrome(7180817)"
   ]
  },
  {
   "cell_type": "code",
   "execution_count": 97,
   "metadata": {
    "collapsed": false
   },
   "outputs": [
    {
     "data": {
      "text/plain": [
       "True"
      ]
     },
     "execution_count": 97,
     "metadata": {},
     "output_type": "execute_result"
    }
   ],
   "source": [
    "isPalindrome(0)"
   ]
  },
  {
   "cell_type": "code",
   "execution_count": 98,
   "metadata": {
    "collapsed": false
   },
   "outputs": [
    {
     "data": {
      "text/plain": [
       "True"
      ]
     },
     "execution_count": 98,
     "metadata": {},
     "output_type": "execute_result"
    }
   ],
   "source": [
    "isPalindrome(5)"
   ]
  }
 ],
 "metadata": {
  "kernelspec": {
   "display_name": "Python 2",
   "language": "python",
   "name": "python2"
  },
  "language_info": {
   "codemirror_mode": {
    "name": "ipython",
    "version": 2
   },
   "file_extension": ".py",
   "mimetype": "text/x-python",
   "name": "python",
   "nbconvert_exporter": "python",
   "pygments_lexer": "ipython2",
   "version": "2.7.11"
  }
 },
 "nbformat": 4,
 "nbformat_minor": 2
}
