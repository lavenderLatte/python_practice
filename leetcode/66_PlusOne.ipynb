{
 "cells": [
  {
   "cell_type": "markdown",
   "metadata": {},
   "source": [
    "Given a non-negative integer represented as a non-empty array of digits, plus one to the integer.\n",
    "\n",
    "You may assume the integer do not contain any leading zero, except the number 0 itself.\n",
    "\n",
    "The digits are stored such that the most significant digit is at the head of the list.\n",
    "\n",
    "source: https://leetcode.com/problems/plus-one/description/"
   ]
  },
  {
   "cell_type": "code",
   "execution_count": 1,
   "metadata": {
    "collapsed": true
   },
   "outputs": [],
   "source": [
    "def plusOne(digits):\n",
    "    \"\"\"\n",
    "    INPUT : List[int]\n",
    "    OUTPUT: List[int]\n",
    "    \n",
    "    >>> plusOne([3, 2, 1])\n",
    "    [3, 2, 2]\n",
    "    >>> plusOne([9, 9, 9])\n",
    "    [1, 0, 0, 0]\n",
    "    >>> plusOne([1, 9, 9, 9])\n",
    "    [2,0,0,0]\n",
    "    >>> plusOne([0])\n",
    "    [1]\n",
    "    \"\"\"\n",
    "    \n",
    "    addIdx = len(digits) - 1\n",
    "    \n",
    "    while addIdx >= 0:\n",
    "        if digits[addIdx] + 1 < 10:\n",
    "            digits[addIdx] = digits[addIdx] + 1\n",
    "            return digits\n",
    "        \n",
    "        else:\n",
    "            digits[addIdx] = 0\n",
    "            addIdx -= 1\n",
    "        \n",
    "    digits = [1] + digits\n",
    "    \n",
    "    return digits"
   ]
  },
  {
   "cell_type": "code",
   "execution_count": 2,
   "metadata": {
    "collapsed": false
   },
   "outputs": [
    {
     "data": {
      "text/plain": [
       "[3, 2, 2]"
      ]
     },
     "execution_count": 2,
     "metadata": {},
     "output_type": "execute_result"
    }
   ],
   "source": [
    "plusOne([3, 2, 1])"
   ]
  },
  {
   "cell_type": "code",
   "execution_count": 3,
   "metadata": {
    "collapsed": false
   },
   "outputs": [
    {
     "data": {
      "text/plain": [
       "[1, 0, 0, 0]"
      ]
     },
     "execution_count": 3,
     "metadata": {},
     "output_type": "execute_result"
    }
   ],
   "source": [
    "plusOne([9, 9, 9])"
   ]
  },
  {
   "cell_type": "code",
   "execution_count": 4,
   "metadata": {
    "collapsed": false
   },
   "outputs": [
    {
     "data": {
      "text/plain": [
       "[2, 0, 0, 0]"
      ]
     },
     "execution_count": 4,
     "metadata": {},
     "output_type": "execute_result"
    }
   ],
   "source": [
    "plusOne([1, 9, 9, 9])"
   ]
  },
  {
   "cell_type": "code",
   "execution_count": 5,
   "metadata": {
    "collapsed": false
   },
   "outputs": [
    {
     "data": {
      "text/plain": [
       "[1]"
      ]
     },
     "execution_count": 5,
     "metadata": {},
     "output_type": "execute_result"
    }
   ],
   "source": [
    "plusOne([0])"
   ]
  },
  {
   "cell_type": "markdown",
   "metadata": {},
   "source": [
    "## Follow-up Question\n",
    "\n",
    "If instead of adding 1 (= k), if the question asked to add a value k, 0<=k<=9, what would you change?\n",
    "\n",
    "1. Make the funtion to pass two arguments, which is a list, and then the k\n",
    "2. Instead of having hard-coded 1 in if-statement, replace it with variable 'add'\n",
    "    - the first time adding value is the value of 'k' that we are passing\n",
    "    - but from the second time, if sum of two numbers are bigger than 10, the adding value will be 1\n",
    "    - therefore, I am resetting the value of 'add' to 1\n",
    "3. Under else part, instead of setting the value with hard-coded 0, replace it with modulo of sum of two numbers when it's divided by 10\n",
    "\n",
    "Below is the code;"
   ]
  },
  {
   "cell_type": "code",
   "execution_count": 3,
   "metadata": {
    "collapsed": true
   },
   "outputs": [],
   "source": [
    "def plusOneDigit(digits, k):\n",
    "    \n",
    "    addIdx = len(digits) - 1\n",
    "    add = k\n",
    "    \n",
    "    while addIdx >= 0:\n",
    "        if digits[addIdx] + add < 10:\n",
    "            digits[addIdx] = digits[addIdx] + add\n",
    "            return digits\n",
    "        \n",
    "        else:\n",
    "            digits[addIdx] = (digits[addIdx] + add) % 10\n",
    "            addIdx -= 1\n",
    "            add = 1\n",
    "        \n",
    "    digits = [1] + digits\n",
    "    \n",
    "    return digits"
   ]
  },
  {
   "cell_type": "code",
   "execution_count": 4,
   "metadata": {
    "collapsed": false
   },
   "outputs": [
    {
     "data": {
      "text/plain": [
       "[3, 2, 6]"
      ]
     },
     "execution_count": 4,
     "metadata": {},
     "output_type": "execute_result"
    }
   ],
   "source": [
    "plusOneDigit([3, 2, 1], 5)"
   ]
  },
  {
   "cell_type": "code",
   "execution_count": 5,
   "metadata": {
    "collapsed": false
   },
   "outputs": [
    {
     "data": {
      "text/plain": [
       "[1, 0, 0, 7]"
      ]
     },
     "execution_count": 5,
     "metadata": {},
     "output_type": "execute_result"
    }
   ],
   "source": [
    "plusOneDigit([9, 9, 9], 8)"
   ]
  },
  {
   "cell_type": "code",
   "execution_count": 7,
   "metadata": {
    "collapsed": false
   },
   "outputs": [
    {
     "data": {
      "text/plain": [
       "[7]"
      ]
     },
     "execution_count": 7,
     "metadata": {},
     "output_type": "execute_result"
    }
   ],
   "source": [
    "plusOneDigit([0], 7)"
   ]
  },
  {
   "cell_type": "code",
   "execution_count": 9,
   "metadata": {
    "collapsed": false
   },
   "outputs": [
    {
     "data": {
      "text/plain": [
       "[2, 0, 0, 2]"
      ]
     },
     "execution_count": 9,
     "metadata": {},
     "output_type": "execute_result"
    }
   ],
   "source": [
    "plusOneDigit([1, 9, 9, 9], 3)"
   ]
  }
 ],
 "metadata": {
  "kernelspec": {
   "display_name": "Python 2",
   "language": "python",
   "name": "python2"
  },
  "language_info": {
   "codemirror_mode": {
    "name": "ipython",
    "version": 2
   },
   "file_extension": ".py",
   "mimetype": "text/x-python",
   "name": "python",
   "nbconvert_exporter": "python",
   "pygments_lexer": "ipython2",
   "version": "2.7.11"
  }
 },
 "nbformat": 4,
 "nbformat_minor": 2
}
