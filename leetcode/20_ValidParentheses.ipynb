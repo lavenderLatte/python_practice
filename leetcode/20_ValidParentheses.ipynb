{
 "cells": [
  {
   "cell_type": "markdown",
   "metadata": {},
   "source": [
    "Given a string containing just the characters '(', ')', '{', '}', '[' and ']', determine if the input string is valid. <br>\n",
    "The brackets must close in the correct order, \"()\" and \"()[]{}\" are all valid but \"(]\" and \"([)]\" are not.\n",
    "\n",
    "\n",
    "source: https://leetcode.com/problems/valid-parentheses/description/"
   ]
  },
  {
   "cell_type": "code",
   "execution_count": 24,
   "metadata": {
    "collapsed": true
   },
   "outputs": [],
   "source": [
    "def isValid(s): # O(N)\n",
    "    \"\"\"\n",
    "    Takes a string that contains only '(', ')', '{', '}', '[' and ']'.\n",
    "    Returns boolean depends on whether input string is valid.\n",
    "\n",
    "    >>> isValid('[]()')\n",
    "    True\n",
    "    >>> isValid('[{}]')\n",
    "    True \n",
    "    >>> isValid('[{}]()')\n",
    "    True \n",
    "    >>> isValid('[{]}')\n",
    "    False\n",
    "    >>> isValid('[')\n",
    "    False\n",
    "    >>> isValid('}[]')\n",
    "    False\n",
    "    >>> isValid('[[')\n",
    "    False\n",
    "    >>> isValid('}}')\n",
    "    False\n",
    "    \"\"\"\n",
    "    # When len(s) is odd number, bracket pair doesn't match, invalid\n",
    "    if len(s) % 2 == 1:\n",
    "        return False\n",
    "    \n",
    "    \n",
    "    OPEN_BRACKET = {\"(\":0, \"[\":0, \"{\":0}\n",
    "    CLOSE_BRACKET = {\")\":0, \"]\":0, \"}\":0}\n",
    "    PAIR = {\")\":\"(\", \"]\":\"[\", \"}\":\"{\"}\n",
    "    \n",
    "    # Stores only the open brackets in the stack\n",
    "    stack = []\n",
    "    \n",
    "    # A string intput that starts with close bracket is invalid\n",
    "    if s[0] in CLOSE_BRACKET: # O(3) \n",
    "        return False\n",
    "    else:\n",
    "        stack.append(s[0]) # O(1)\n",
    "        \n",
    "        \n",
    "    for idx in range(1, len(s)): # O(N)\n",
    "        # If a char is open bracket, add to stack\n",
    "        if s[idx] in OPEN_BRACKET: # O(3)\n",
    "            stack.append(s[idx]) # O(3)\n",
    "        # If a char is close bracket, \n",
    "        # pop the open bracket on the top of stack, \n",
    "        # and then compare whether that is right pair\n",
    "        elif s[idx] in CLOSE_BRACKET:\n",
    "            if stack.pop() != PAIR[s[idx]]: # O(1)\n",
    "                return False\n",
    "\n",
    "    # There was only open brackets if iteration ended wo/ poping out all elements  \n",
    "    if len(stack) != 0:\n",
    "        return False\n",
    "    else: \n",
    "        return True\n",
    "        "
   ]
  },
  {
   "cell_type": "code",
   "execution_count": 25,
   "metadata": {
    "collapsed": false
   },
   "outputs": [
    {
     "data": {
      "text/plain": [
       "True"
      ]
     },
     "execution_count": 25,
     "metadata": {},
     "output_type": "execute_result"
    }
   ],
   "source": [
    "isValid('[]()')"
   ]
  },
  {
   "cell_type": "code",
   "execution_count": 26,
   "metadata": {
    "collapsed": false
   },
   "outputs": [
    {
     "data": {
      "text/plain": [
       "True"
      ]
     },
     "execution_count": 26,
     "metadata": {},
     "output_type": "execute_result"
    }
   ],
   "source": [
    "isValid('[{}]')"
   ]
  },
  {
   "cell_type": "code",
   "execution_count": 27,
   "metadata": {
    "collapsed": false
   },
   "outputs": [
    {
     "data": {
      "text/plain": [
       "True"
      ]
     },
     "execution_count": 27,
     "metadata": {},
     "output_type": "execute_result"
    }
   ],
   "source": [
    "isValid('[{}]()')"
   ]
  },
  {
   "cell_type": "code",
   "execution_count": 28,
   "metadata": {
    "collapsed": false
   },
   "outputs": [
    {
     "data": {
      "text/plain": [
       "False"
      ]
     },
     "execution_count": 28,
     "metadata": {},
     "output_type": "execute_result"
    }
   ],
   "source": [
    "isValid('[{]}')"
   ]
  },
  {
   "cell_type": "code",
   "execution_count": 29,
   "metadata": {
    "collapsed": false
   },
   "outputs": [
    {
     "data": {
      "text/plain": [
       "False"
      ]
     },
     "execution_count": 29,
     "metadata": {},
     "output_type": "execute_result"
    }
   ],
   "source": [
    "isValid('[')"
   ]
  },
  {
   "cell_type": "code",
   "execution_count": 30,
   "metadata": {
    "collapsed": false
   },
   "outputs": [
    {
     "data": {
      "text/plain": [
       "False"
      ]
     },
     "execution_count": 30,
     "metadata": {},
     "output_type": "execute_result"
    }
   ],
   "source": [
    "isValid('}[]')"
   ]
  },
  {
   "cell_type": "code",
   "execution_count": 31,
   "metadata": {
    "collapsed": false
   },
   "outputs": [
    {
     "data": {
      "text/plain": [
       "False"
      ]
     },
     "execution_count": 31,
     "metadata": {},
     "output_type": "execute_result"
    }
   ],
   "source": [
    "isValid('}}')"
   ]
  },
  {
   "cell_type": "code",
   "execution_count": 32,
   "metadata": {
    "collapsed": false
   },
   "outputs": [
    {
     "data": {
      "text/plain": [
       "False"
      ]
     },
     "execution_count": 32,
     "metadata": {},
     "output_type": "execute_result"
    }
   ],
   "source": [
    "isValid('[[')"
   ]
  }
 ],
 "metadata": {
  "kernelspec": {
   "display_name": "Python 2",
   "language": "python",
   "name": "python2"
  },
  "language_info": {
   "codemirror_mode": {
    "name": "ipython",
    "version": 2
   },
   "file_extension": ".py",
   "mimetype": "text/x-python",
   "name": "python",
   "nbconvert_exporter": "python",
   "pygments_lexer": "ipython2",
   "version": "2.7.11"
  }
 },
 "nbformat": 4,
 "nbformat_minor": 2
}
