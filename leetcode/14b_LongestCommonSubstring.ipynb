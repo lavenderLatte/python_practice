{
 "cells": [
  {
   "cell_type": "markdown",
   "metadata": {
    "collapsed": true
   },
   "source": [
    "Write a function to find the longest common substring amongst an array of strings.\n",
    "\n",
    "\n",
    "referred: https://www.geeksforgeeks.org/longest-common-substring/"
   ]
  },
  {
   "cell_type": "markdown",
   "metadata": {},
   "source": [
    "__Nested Loop Solution Using Three Pointers__"
   ]
  },
  {
   "cell_type": "code",
   "execution_count": 1,
   "metadata": {
    "collapsed": true
   },
   "outputs": [],
   "source": [
    "def longestCommonSubstring(x, y): # O(N^3), assuming that length of two strings are same or similar \n",
    "    \"\"\"\n",
    "    Input: str; x, y\n",
    "    Output: str\n",
    "    \n",
    "    >>> longestCommonSubstring('abcd', 'abc')\n",
    "    abc\n",
    "    >>> longestCommonSubstring('abcd', 'cde')\n",
    "    cd\n",
    "    >>> longestCommonSubstring('ab', 'ab')\n",
    "    ab\n",
    "    >>> longestCommonSubstring('ab', uo')\n",
    "    ''\n",
    "    >>> longestCommonSubstring('abrt', 'qrnt')\n",
    "    r\n",
    "    >>> longestCommonSubstring('', '')\n",
    "    ''\n",
    "    \"\"\"\n",
    "    ## brute force solution; exhastively search for the longest common substring\n",
    "    # for every char in x, compare with every char in y.\n",
    "    # if 1st char in x matches with a char in y, pivot at the first x-char and take one baby step \n",
    "    #     check 2nd x-char matches with one right next to the y-char\n",
    "    #         if matches, take one more baby step(nxt incrementation) and repeat comparision \n",
    "    #         else, compare 1st x-char with next char in y(yi incrementation)\n",
    "    # when done comparing 1st x-char with all char in y, repeat the same with 2nd x-char(xi incrementation)\n",
    "    \n",
    "\n",
    "    longestLen = 0\n",
    "    longestStr = ''\n",
    "\n",
    "    ## xi is slower runner\n",
    "    for xi in range(len(x)): # O(N)\n",
    "\n",
    "        ## yi is faster runner \n",
    "        for yi in range(len(y)): # O(M)\n",
    "\n",
    "            cnt = 0\n",
    "            nxt = 0\n",
    "            commonStr = ''\n",
    "\n",
    "            ## take baby step with 'nxt' as long as char in both strings matches \n",
    "            while (xi + nxt < len(x)) and (yi + nxt < len(y)) and (x[xi + nxt] == y[yi + nxt]): # O(N or M; which ever that's sorter)\n",
    "                cnt += 1\n",
    "                commonStr += y[yi + nxt]\n",
    "                nxt += 1\n",
    "\n",
    "            if cnt > longestLen:\n",
    "                longestLen = cnt\n",
    "                longestStr = commonStr\n",
    "                \n",
    "    return longestStr"
   ]
  },
  {
   "cell_type": "markdown",
   "metadata": {},
   "source": [
    "__Testing Basecases__"
   ]
  },
  {
   "cell_type": "code",
   "execution_count": 2,
   "metadata": {
    "collapsed": false
   },
   "outputs": [
    {
     "data": {
      "text/plain": [
       "'abc'"
      ]
     },
     "execution_count": 2,
     "metadata": {},
     "output_type": "execute_result"
    }
   ],
   "source": [
    "longestCommonSubstring('abcd', 'abc')"
   ]
  },
  {
   "cell_type": "code",
   "execution_count": 3,
   "metadata": {
    "collapsed": false
   },
   "outputs": [
    {
     "data": {
      "text/plain": [
       "'cd'"
      ]
     },
     "execution_count": 3,
     "metadata": {},
     "output_type": "execute_result"
    }
   ],
   "source": [
    "longestCommonSubstring('abcd', 'cde')"
   ]
  },
  {
   "cell_type": "code",
   "execution_count": 4,
   "metadata": {
    "collapsed": false
   },
   "outputs": [
    {
     "data": {
      "text/plain": [
       "''"
      ]
     },
     "execution_count": 4,
     "metadata": {},
     "output_type": "execute_result"
    }
   ],
   "source": [
    "longestCommonSubstring('ab', 'uo')"
   ]
  },
  {
   "cell_type": "code",
   "execution_count": 5,
   "metadata": {
    "collapsed": false
   },
   "outputs": [
    {
     "data": {
      "text/plain": [
       "'r'"
      ]
     },
     "execution_count": 5,
     "metadata": {},
     "output_type": "execute_result"
    }
   ],
   "source": [
    "longestCommonSubstring('abrt', 'qrnt')"
   ]
  },
  {
   "cell_type": "markdown",
   "metadata": {},
   "source": [
    "__Testing Edgecases__"
   ]
  },
  {
   "cell_type": "code",
   "execution_count": 6,
   "metadata": {
    "collapsed": false
   },
   "outputs": [
    {
     "data": {
      "text/plain": [
       "''"
      ]
     },
     "execution_count": 6,
     "metadata": {},
     "output_type": "execute_result"
    }
   ],
   "source": [
    "longestCommonSubstring('', '')"
   ]
  },
  {
   "cell_type": "code",
   "execution_count": 7,
   "metadata": {
    "collapsed": false
   },
   "outputs": [
    {
     "data": {
      "text/plain": [
       "'ab'"
      ]
     },
     "execution_count": 7,
     "metadata": {},
     "output_type": "execute_result"
    }
   ],
   "source": [
    "longestCommonSubstring('ab', 'ab')"
   ]
  },
  {
   "cell_type": "code",
   "execution_count": 8,
   "metadata": {
    "collapsed": false,
    "scrolled": true
   },
   "outputs": [
    {
     "data": {
      "text/plain": [
       "'de'"
      ]
     },
     "execution_count": 8,
     "metadata": {},
     "output_type": "execute_result"
    }
   ],
   "source": [
    "longestCommonSubstring('abcdej', 'ncwdecr')"
   ]
  },
  {
   "cell_type": "code",
   "execution_count": 9,
   "metadata": {
    "collapsed": false,
    "scrolled": true
   },
   "outputs": [
    {
     "data": {
      "text/plain": [
       "'ct'"
      ]
     },
     "execution_count": 9,
     "metadata": {},
     "output_type": "execute_result"
    }
   ],
   "source": [
    "longestCommonSubstring('abqrpcmceectncd', 'rscte')"
   ]
  },
  {
   "cell_type": "code",
   "execution_count": 10,
   "metadata": {
    "collapsed": false
   },
   "outputs": [
    {
     "data": {
      "text/plain": [
       "'aaa'"
      ]
     },
     "execution_count": 10,
     "metadata": {},
     "output_type": "execute_result"
    }
   ],
   "source": [
    "longestCommonSubstring('aaaaaaaaaabbbbbbb', 'aaa')"
   ]
  }
 ],
 "metadata": {
  "kernelspec": {
   "display_name": "Python 2",
   "language": "python",
   "name": "python2"
  },
  "language_info": {
   "codemirror_mode": {
    "name": "ipython",
    "version": 2
   },
   "file_extension": ".py",
   "mimetype": "text/x-python",
   "name": "python",
   "nbconvert_exporter": "python",
   "pygments_lexer": "ipython2",
   "version": "2.7.11"
  }
 },
 "nbformat": 4,
 "nbformat_minor": 2
}
