{
 "cells": [
  {
   "cell_type": "code",
   "execution_count": 2,
   "metadata": {
    "collapsed": false
   },
   "outputs": [
    {
     "name": "stdout",
     "output_type": "stream",
     "text": [
      "enter an integer:5\n",
      "pwr: 1 , possible_root: 5.0\n",
      "For your input the root is ( 5 ) and pwr  is ( 1 )\n",
      "pwr: 2 , possible_root: 2.23606797749979\n",
      "pwr: 3 , possible_root: 1.7099759466766968\n",
      "pwr: 4 , possible_root: 1.4953487812212205\n",
      "pwr: 5 , possible_root: 1.379729661461215\n"
     ]
    }
   ],
   "source": [
    "# technest_finger exercise \n",
    "\"\"\"\n",
    "[Question]\n",
    "Write a program that asks the user to enter an integer and prints two integers, 'root' and 'pwr',\n",
    "such that 0 < pwr < 6 and root ** pwr is equal to the integer entered by user.\n",
    "If no such pair of integers exists, it should print a message to that effect.\n",
    "\n",
    "[My Problem]\n",
    "My code below works for positive integer but not for negative one.\n",
    "\"\"\"\n",
    "\n",
    "root = 0 \n",
    "user_input = int(input(\"enter an integer:\"))\n",
    "\n",
    "for pwr in range(1, 6): \n",
    "    \"\"\"\n",
    "    Since power is only limited to [1, 2, 3, 4, 5], even if the input is really large number, \n",
    "    This code only will calculate three times. \n",
    "    \"\"\"\n",
    "    root = user_input ** (1/pwr)\n",
    "    print(\"pwr:\", pwr, \", possible_root:\", root)\n",
    "    \n",
    "    if int(root) ** pwr == user_input:\n",
    "        print(\"For your input the root is (\", int(root), \") and pwr  is (\", pwr, \")\")"
   ]
  },
  {
   "cell_type": "markdown",
   "metadata": {
    "collapsed": true
   },

   "source": [
    "# add something"
   ]
  },
  {
   "cell_type": "code",
   "execution_count": null,
   "metadata": {
    "collapsed": true
   },
   "outputs": [],
   "source": []
  }
 ],
 "metadata": {
  "anaconda-cloud": {},
  "kernelspec": {
   "display_name": "Python [conda root]",
   "language": "python",
   "name": "conda-root-py"
  },
  "language_info": {
   "codemirror_mode": {
    "name": "ipython",
    "version": 2
   },
   "file_extension": ".py",
   "mimetype": "text/x-python",
   "name": "python",
   "nbconvert_exporter": "python",
   "pygments_lexer": "ipython2",
   "version": "2.7.12"
  }
 },
 "nbformat": 4,
 "nbformat_minor": 2
}
